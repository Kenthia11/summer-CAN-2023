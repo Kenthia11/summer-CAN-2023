{
 "cells": [
  {
   "attachments": {},
   "cell_type": "markdown",
   "id": "c9cd37b9",
   "metadata": {
    "papermill": {
     "duration": 0.008517,
     "end_time": "2023-03-22T07:38:14.608545",
     "exception": false,
     "start_time": "2023-03-22T07:38:14.600028",
     "status": "completed"
    },
    "tags": []
   },
   "source": [
    "This Lab is adapted from a kaggle exercise.\n",
    "# Introduction\n",
    "\n",
    "You are a bird conservation expert and want to understand migration patterns of purple martins.  In your research, you discover that these birds typically spend the summer breeding season in the eastern United States, and then migrate to South America for the winter.  But since this bird is under threat of endangerment, you'd like to take a closer look at the locations that these birds are more likely to visit.\n",
    "\n",
    "<center>\n",
    "<img src=\"http://3.bp.blogspot.com/-VdDTgL7e9dU/UeF8IeZpxhI/AAAAAAAADhQ/w1DLNiMJvE8/s1600/Hoatzin-Lovely-Fly.jpg\" width=\"800\"><br/>\n",
    "</center>\n",
    "\n",
    "There are several [protected areas](https://www.iucn.org/theme/protected-areas/about) in South America, which operate under special regulations to ensure that species that migrate (or live) there have the best opportunity to thrive.  You'd like to know if purple martins tend to visit these areas.  To answer this question, you'll use some recently collected data that tracks the year-round location of eleven different birds.\n",
    "\n",
    "Before you get started, run the code cell below to set everything up."
   ]
  },
  {
   "cell_type": "code",
   "execution_count": null,
   "id": "13b5a85e",
   "metadata": {
    "papermill": {
     "duration": 17.969611,
     "end_time": "2023-03-22T07:38:32.587021",
     "exception": false,
     "start_time": "2023-03-22T07:38:14.617410",
     "status": "completed"
    },
    "tags": []
   },
   "outputs": [],
   "source": [
    "import pandas as pd\n",
    "import geopandas as gpd\n",
    "import os\n",
    "from shapely.geometry import LineString\n",
    "import matplotlib.pyplot as plt\n"
   ]
  },
  {
   "cell_type": "raw",
   "id": "59b1fca4-7c69-4f5d-9b91-bcbdd505e8a5",
   "metadata": {
    "tags": []
   },
   "source": [
    "path = os.sep + '/etc/skel/input-data/'"
   ]
  },
  {
   "attachments": {},
   "cell_type": "markdown",
   "id": "66874a0b",
   "metadata": {
    "papermill": {
     "duration": 0.009878,
     "end_time": "2023-03-22T07:38:32.607280",
     "exception": false,
     "start_time": "2023-03-22T07:38:32.597402",
     "status": "completed"
    },
    "tags": []
   },
   "source": [
    "# Exercises\n",
    "\n",
    "### 1) Load the data.\n",
    "\n",
    "Run the next code cell (without changes) to load the GPS data into a pandas DataFrame `birds_df`.  "
   ]
  },
  {
   "cell_type": "code",
   "execution_count": null,
   "id": "5431b75d",
   "metadata": {
    "papermill": {
     "duration": 0.049288,
     "end_time": "2023-03-22T07:38:32.665988",
     "exception": false,
     "start_time": "2023-03-22T07:38:32.616700",
     "status": "completed"
    },
    "tags": []
   },
   "outputs": [],
   "source": [
    "# Load the data and print the first 5 rows\n",
    "birds_df = pd.read_csv(path + \"/purple_martin.csv\", parse_dates=['timestamp'])\n",
    "print(\"There are {} different birds in the dataset.\".format(birds_df[\"tag-local-identifier\"].nunique()))\n",
    "birds_df.head()"
   ]
  },
  {
   "attachments": {},
   "cell_type": "markdown",
   "id": "cfd09bda",
   "metadata": {
    "papermill": {
     "duration": 0.008965,
     "end_time": "2023-03-22T07:38:32.684444",
     "exception": false,
     "start_time": "2023-03-22T07:38:32.675479",
     "status": "completed"
    },
    "tags": []
   },
   "source": [
    "There are 11 birds in the dataset, where each bird is identified by a unique value in the \"tag-local-identifier\" column.  Each bird has several measurements, collected at different times of the year.\n",
    "\n",
    "Use the next code cell to create a GeoDataFrame `birds`.  \n",
    "- `birds` should have all of the columns from `birds_df`, along with a \"geometry\" column that contains Point objects with (longitude, latitude) locations.  \n",
    "- Set the CRS of `birds` to `{'init': 'epsg:4326'}`."
   ]
  },
  {
   "cell_type": "code",
   "execution_count": null,
   "id": "e009b7e8",
   "metadata": {
    "papermill": {
     "duration": 0.057496,
     "end_time": "2023-03-22T07:38:32.751309",
     "exception": false,
     "start_time": "2023-03-22T07:38:32.693813",
     "status": "completed"
    },
    "tags": []
   },
   "outputs": [],
   "source": [
    "# Your code here: Create the GeoDataFrame\n",
    "birds = gpd.GeoDataFrame(birds_df, geometry=gpd.points_from_xy(birds_df[\"location-long\"], birds_df[\"location-lat\"]))\n",
    "\n",
    "# Your code here: Set the CRS to {'init': 'epsg:4326'}\n",
    "birds.crs = {'init' :'epsg:4326'}\n",
    "birds\n",
    "#hint: https://geopandas.org/en/stable/docs/reference/api/geopandas.points_from_xy.html "
   ]
  },
  {
   "attachments": {},
   "cell_type": "markdown",
   "id": "e10ff49c",
   "metadata": {
    "papermill": {
     "duration": 0.01001,
     "end_time": "2023-03-22T07:38:32.805452",
     "exception": false,
     "start_time": "2023-03-22T07:38:32.795442",
     "status": "completed"
    },
    "tags": []
   },
   "source": [
    "### 2) Plot the data.\n",
    "\n",
    "Next, we load in the `'naturalearth_lowres'` dataset from GeoPandas, and set `americas` to a GeoDataFrame containing the boundaries of all countries in the Americas (both North and South America).  Run the next code cell without changes."
   ]
  },
  {
   "cell_type": "code",
   "execution_count": null,
   "id": "e4ee553b",
   "metadata": {
    "papermill": {
     "duration": 0.129636,
     "end_time": "2023-03-22T07:38:32.944755",
     "exception": false,
     "start_time": "2023-03-22T07:38:32.815119",
     "status": "completed"
    },
    "tags": []
   },
   "outputs": [],
   "source": [
    "# Load a GeoDataFrame with country boundaries in North/South America, print the first 5 rows\n",
    "world = gpd.read_file(gpd.datasets.get_path('naturalearth_lowres'))\n",
    "americas = world.loc[world['continent'].isin(['North America', 'South America'])]\n",
    "americas.head()"
   ]
  },
  {
   "attachments": {},
   "cell_type": "markdown",
   "id": "ca8e6eb1",
   "metadata": {
    "papermill": {
     "duration": 0.01,
     "end_time": "2023-03-22T07:38:32.965293",
     "exception": false,
     "start_time": "2023-03-22T07:38:32.955293",
     "status": "completed"
    },
    "tags": []
   },
   "source": [
    "Use the next code cell to create a single plot that shows both: (1) the country boundaries in the `americas` GeoDataFrame, and (2) all of the points in the `birds_gdf` GeoDataFrame.  \n",
    "\n",
    "Don't worry about any special styling here; just create a preliminary plot, as a quick sanity check that all of the data was loaded properly.  In particular, you don't have to worry about color-coding the points to differentiate between birds, and you don't have to differentiate starting points from ending points.  We'll do that in the next part of the exercise."
   ]
  },
  {
   "cell_type": "code",
   "execution_count": null,
   "id": "96d7ae15",
   "metadata": {
    "papermill": {
     "duration": 0.43809,
     "end_time": "2023-03-22T07:38:33.413576",
     "exception": false,
     "start_time": "2023-03-22T07:38:32.975486",
     "status": "completed"
    },
    "tags": []
   },
   "outputs": [],
   "source": [
    "# Your code here\n",
    "\n",
    "\n"
   ]
  },
  {
   "attachments": {},
   "cell_type": "markdown",
   "id": "98faaef9-ac79-4127-9c14-db68be63dc2e",
   "metadata": {},
   "source": [
    "\n",
    "# hint modify these lines from working with vector data.ipynb\n",
    "import matplotlib.pyplot as plt\n",
    "\n",
    "fig, ax = plt.subplots(figsize=(16, 16))\n",
    "USA_m.plot(ax=ax, color='#ffffff', edgecolor='#6a6a6a', linewidth=2)\n",
    "city_buffer.plot(ax=ax, color='#f00', edgecolor='#000000')"
   ]
  },
  {
   "attachments": {},
   "cell_type": "markdown",
   "id": "841a6bbb",
   "metadata": {
    "papermill": {
     "duration": 0.011823,
     "end_time": "2023-03-22T07:38:33.476066",
     "exception": false,
     "start_time": "2023-03-22T07:38:33.464243",
     "status": "completed"
    },
    "tags": []
   },
   "source": [
    "### 3) Where does each bird start and end its journey? (Part 1)\n",
    "\n",
    "Now, we're ready to look more closely at each bird's path.  Run the next code cell to create two GeoDataFrames:\n",
    "- `path_gdf` contains LineString objects that show the path of each bird.  It uses the `LineString()` method to create a LineString object from a list of Point objects.\n",
    "- `start_gdf` contains the starting points for each bird."
   ]
  },
  {
   "cell_type": "code",
   "execution_count": null,
   "id": "6ce007b1",
   "metadata": {
    "papermill": {
     "duration": 0.201946,
     "end_time": "2023-03-22T07:38:33.690119",
     "exception": false,
     "start_time": "2023-03-22T07:38:33.488173",
     "status": "completed"
    },
    "tags": []
   },
   "outputs": [],
   "source": [
    "# GeoDataFrame showing path for each bird\n",
    "path_df = birds.groupby(\"tag-local-identifier\")['geometry'].apply(list).apply(lambda x: LineString(x)).reset_index()\n",
    "path_gdf = gpd.GeoDataFrame(path_df, geometry=path_df.geometry)\n",
    "path_gdf.crs = {'init' :'epsg:4326'}\n",
    "\n",
    "# GeoDataFrame showing starting point for each bird\n",
    "start_df = birds.groupby(\"tag-local-identifier\")['geometry'].apply(list).apply(lambda x: x[0]).reset_index()\n",
    "start_gdf = gpd.GeoDataFrame(start_df, geometry=start_df.geometry)\n",
    "start_gdf.crs = {'init' :'epsg:4326'}\n",
    "\n",
    "# Show first five rows of GeoDataFrame\n",
    "start_gdf.head()"
   ]
  },
  {
   "attachments": {},
   "cell_type": "markdown",
   "id": "95b88405",
   "metadata": {
    "papermill": {
     "duration": 0.012176,
     "end_time": "2023-03-22T07:38:33.715119",
     "exception": false,
     "start_time": "2023-03-22T07:38:33.702943",
     "status": "completed"
    },
    "tags": []
   },
   "source": [
    "Use the next code cell to create a GeoDataFrame `end_gdf` containing the final location of each bird.  \n",
    "- The format should be identical to that of `start_gdf`, with two columns (\"tag-local-identifier\" and \"geometry\"), where the \"geometry\" column contains Point objects.\n",
    "- Set the CRS of `end_gdf` to `{'init': 'epsg:4326'}`."
   ]
  },
  {
   "cell_type": "code",
   "execution_count": null,
   "id": "cad316d9",
   "metadata": {
    "papermill": {
     "duration": 0.072645,
     "end_time": "2023-03-22T07:38:33.800179",
     "exception": false,
     "start_time": "2023-03-22T07:38:33.727534",
     "status": "completed"
    },
    "tags": []
   },
   "outputs": [],
   "source": [
    "# Your code here\n",
    "end_df = birds.groupby(\"tag-local-identifier\")['geometry'].apply(list).apply(lambda x: x[-1]).reset_index()\n",
    "end_gdf = gpd.GeoDataFrame(end_df, geometry=end_df.geometry)\n",
    "end_gdf.crs = {'init': 'epsg:4326'}\n"
   ]
  },
  {
   "attachments": {},
   "cell_type": "markdown",
   "id": "f03ea18f",
   "metadata": {
    "papermill": {
     "duration": 0.012694,
     "end_time": "2023-03-22T07:38:33.865525",
     "exception": false,
     "start_time": "2023-03-22T07:38:33.852831",
     "status": "completed"
    },
    "tags": []
   },
   "source": [
    "### 4) Where does each bird start and end its journey? (Part 2)\n",
    "\n",
    "Use the GeoDataFrames from the question above (`path_gdf`, `start_gdf`, and `end_gdf`) to visualize the paths of all birds on a single map.  Use the `americas` GeoDataFrame."
   ]
  },
  {
   "cell_type": "code",
   "execution_count": null,
   "id": "c293e002",
   "metadata": {
    "papermill": {
     "duration": 0.487241,
     "end_time": "2023-03-22T07:38:34.365841",
     "exception": false,
     "start_time": "2023-03-22T07:38:33.878600",
     "status": "completed"
    },
    "tags": []
   },
   "outputs": [],
   "source": [
    "\n",
    "ax = americas.plot(figsize=(10, 10), color='white', linestyle=':', edgecolor='gray')\n",
    "\n",
    "start_gdf.plot(ax=ax, color='red',  markersize=30)\n",
    "path_gdf.plot(ax=ax, cmap='tab20b', linestyle='-', linewidth=1, zorder=1)\n",
    "end_gdf.plot(ax=ax, color='black', markersize=30)\n"
   ]
  },
  {
   "attachments": {},
   "cell_type": "markdown",
   "id": "1555de7b",
   "metadata": {
    "papermill": {
     "duration": 0.014729,
     "end_time": "2023-03-22T07:38:34.442482",
     "exception": false,
     "start_time": "2023-03-22T07:38:34.427753",
     "status": "completed"
    },
    "tags": []
   },
   "source": [
    "### 5) Where are the protected areas in South America? (Part 1)\n",
    "\n",
    "It looks like all of the birds end up somewhere in South America.  But are they going to protected areas?\n",
    "\n",
    "In the next code cell, you'll create a GeoDataFrame `protected_areas` containing the locations of all of the protected areas in South America.  The corresponding shapefile is located at filepath `protected_filepath`."
   ]
  },
  {
   "cell_type": "code",
   "execution_count": null,
   "id": "e7e47d80",
   "metadata": {
    "papermill": {
     "duration": 33.994036,
     "end_time": "2023-03-22T07:39:08.451719",
     "exception": false,
     "start_time": "2023-03-22T07:38:34.457683",
     "status": "completed"
    },
    "tags": []
   },
   "outputs": [],
   "source": [
    "# Path of the shapefile to load\n",
    "protected_filepath = path + \"/SAPA_Aug2019-shapefile/SAPA_Aug2019-shapefile/SAPA_Aug2019-shapefile-polygons.shp\"\n",
    "\n",
    "# Your code here\n",
    "protected_areas = gpd.read_file(protected_filepath)\n"
   ]
  },
  {
   "attachments": {},
   "cell_type": "markdown",
   "id": "a6567350",
   "metadata": {
    "papermill": {
     "duration": 0.01562,
     "end_time": "2023-03-22T07:39:08.528975",
     "exception": false,
     "start_time": "2023-03-22T07:39:08.513355",
     "status": "completed"
    },
    "tags": []
   },
   "source": [
    "### 6) Where are the protected areas in South America? (Part 2)\n",
    "\n",
    "Create a plot that uses the `protected_areas` GeoDataFrame to show the locations of the protected areas in South America.  (_You'll notice that some protected areas are on land, while others are in marine waters._)"
   ]
  },
  {
   "cell_type": "code",
   "execution_count": null,
   "id": "cef6cb9b-a84d-47c4-8626-9eac711ab435",
   "metadata": {
    "tags": []
   },
   "outputs": [],
   "source": [
    "# Country boundaries in South America\n",
    "south_america = americas.loc[americas['continent']=='South America']\n",
    "\n",
    "\n",
    "# Your code here: plot protected areas in South America\n",
    "fig, ax = ........................\n",
    "south_america.plot(....., color='white', edgecolor='gray', linewidth=1)\n",
    "protected_areas.plot(ax=ax, alpha=0.4)"
   ]
  },
  {
   "attachments": {},
   "cell_type": "markdown",
   "id": "7a3bba6f",
   "metadata": {
    "papermill": {
     "duration": 0.018638,
     "end_time": "2023-03-22T07:39:24.819277",
     "exception": false,
     "start_time": "2023-03-22T07:39:24.800639",
     "status": "completed"
    },
    "tags": []
   },
   "source": [
    "### 7) What percentage of South America is protected?\n",
    "\n",
    "You're interested in determining what percentage of South America is protected, so that you know how much of South America is suitable for the birds.  \n",
    "\n",
    "As a first step, you calculate the total area of all protected lands in South America (not including marine area).  To do this, you use the \"REP_AREA\" and \"REP_M_AREA\" columns, which contain the total area and total marine area, respectively, in square kilometers.\n",
    "\n",
    "Run the code cell below without changes."
   ]
  },
  {
   "cell_type": "code",
   "execution_count": null,
   "id": "c0daa24a",
   "metadata": {
    "papermill": {
     "duration": 0.032209,
     "end_time": "2023-03-22T07:39:24.870759",
     "exception": false,
     "start_time": "2023-03-22T07:39:24.838550",
     "status": "completed"
    },
    "tags": []
   },
   "outputs": [],
   "source": [
    "P_Area = sum(protected_areas['REP_AREA']-protected_areas['REP_M_AREA'])\n",
    "print(\"South America has {} square kilometers of protected areas.\".format(P_Area))"
   ]
  },
  {
   "attachments": {},
   "cell_type": "markdown",
   "id": "02a04c92",
   "metadata": {
    "papermill": {
     "duration": 0.019025,
     "end_time": "2023-03-22T07:39:24.909410",
     "exception": false,
     "start_time": "2023-03-22T07:39:24.890385",
     "status": "completed"
    },
    "tags": []
   },
   "source": [
    "Then, to finish the calculation, you'll use the `south_america` GeoDataFrame.  "
   ]
  },
  {
   "cell_type": "code",
   "execution_count": null,
   "id": "699f7e4f",
   "metadata": {
    "papermill": {
     "duration": 0.04694,
     "end_time": "2023-03-22T07:39:24.975576",
     "exception": false,
     "start_time": "2023-03-22T07:39:24.928636",
     "status": "completed"
    },
    "tags": []
   },
   "outputs": [],
   "source": [
    "south_america.head()"
   ]
  },
  {
   "attachments": {},
   "cell_type": "markdown",
   "id": "6a901969",
   "metadata": {
    "papermill": {
     "duration": 0.018805,
     "end_time": "2023-03-22T07:39:25.013453",
     "exception": false,
     "start_time": "2023-03-22T07:39:24.994648",
     "status": "completed"
    },
    "tags": []
   },
   "source": [
    "Calculate the total area of South America by following these steps:\n",
    "- Calculate the area of each country using the `area` attribute of each polygon (with EPSG 3035 as the CRS), and add up the results.  The calculated area will be in units of square meters.\n",
    "- Convert your answer to have units of square kilometeters."
   ]
  },
  {
   "cell_type": "code",
   "execution_count": null,
   "id": "4e7d108a",
   "metadata": {
    "papermill": {
     "duration": 0.112998,
     "end_time": "2023-03-22T07:39:25.145367",
     "exception": false,
     "start_time": "2023-03-22T07:39:25.032369",
     "status": "completed"
    },
    "tags": []
   },
   "outputs": [],
   "source": [
    "# Your code here: Calculate the total area of South America (in square kilometers)\n",
    "totalArea = sum(south_america.geometry.to_crs(epsg=3035).area) / 10**6\n"
   ]
  },
  {
   "attachments": {},
   "cell_type": "markdown",
   "id": "3ebaa932",
   "metadata": {
    "papermill": {
     "duration": 0.01903,
     "end_time": "2023-03-22T07:39:25.237872",
     "exception": false,
     "start_time": "2023-03-22T07:39:25.218842",
     "status": "completed"
    },
    "tags": []
   },
   "source": [
    "Run the code cell below to calculate the percentage of South America that is protected."
   ]
  },
  {
   "cell_type": "code",
   "execution_count": null,
   "id": "dd8f6591",
   "metadata": {
    "papermill": {
     "duration": 0.031131,
     "end_time": "2023-03-22T07:39:25.288501",
     "exception": false,
     "start_time": "2023-03-22T07:39:25.257370",
     "status": "completed"
    },
    "tags": []
   },
   "outputs": [],
   "source": [
    "# What percentage of South America is protected?\n",
    "percentage_protected = P_Area/totalArea\n",
    "print('Approximately {}% of South America is protected.'.format(round(percentage_protected*100, 2)))"
   ]
  },
  {
   "attachments": {},
   "cell_type": "markdown",
   "id": "4dfe1320",
   "metadata": {
    "papermill": {
     "duration": 0.019738,
     "end_time": "2023-03-22T07:39:25.328422",
     "exception": false,
     "start_time": "2023-03-22T07:39:25.308684",
     "status": "completed"
    },
    "tags": []
   },
   "source": [
    "### 8) Where are the birds in South America?\n",
    "\n",
    "So, are the birds in protected areas?  \n",
    "\n",
    "Create a plot that shows for all birds, all of the locations where they were discovered in South America.  Also plot the locations of all protected areas in South America.\n",
    "\n",
    "To exclude protected areas that are purely marine areas (with no land component), you can use the \"MARINE\" column (and plot only the rows in `protected_areas[protected_areas['MARINE']!='2']`, instead of every row in the `protected_areas` GeoDataFrame)."
   ]
  },
  {
   "cell_type": "code",
   "execution_count": null,
   "id": "2092c541",
   "metadata": {
    "papermill": {
     "duration": 14.408298,
     "end_time": "2023-03-22T07:39:39.756581",
     "exception": false,
     "start_time": "2023-03-22T07:39:25.348283",
     "status": "completed"
    },
    "tags": []
   },
   "outputs": [],
   "source": [
    "# \n",
    "fig, ax = plt.subplots(figsize=(10, 10))\n",
    "south_america.plot(ax=ax, color='white', edgecolor='gray')\n",
    "protected_areas[protected_areas['MARINE']!='2'].plot(ax=ax, alpha=0.4, zorder=1)\n",
    "birds[birds.geometry.y < 0].plot(ax=ax, color='red', alpha=0.6, markersize=10, zorder=2)\n"
   ]
  }
 ],
 "metadata": {
  "kernelspec": {
   "display_name": "Python 3 (ipykernel)",
   "language": "python",
   "name": "python3"
  },
  "language_info": {
   "codemirror_mode": {
    "name": "ipython",
    "version": 3
   },
   "file_extension": ".py",
   "mimetype": "text/x-python",
   "name": "python",
   "nbconvert_exporter": "python",
   "pygments_lexer": "ipython3",
   "version": "3.9.7"
  },
  "papermill": {
   "default_parameters": {},
   "duration": 97.464883,
   "end_time": "2023-03-22T07:39:41.056068",
   "environment_variables": {},
   "exception": null,
   "input_path": "__notebook__.ipynb",
   "output_path": "__notebook__.ipynb",
   "parameters": {},
   "start_time": "2023-03-22T07:38:03.591185",
   "version": "2.4.0"
  }
 },
 "nbformat": 4,
 "nbformat_minor": 5
}
