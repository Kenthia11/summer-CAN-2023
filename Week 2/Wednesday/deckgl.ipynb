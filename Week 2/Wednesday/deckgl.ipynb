{
 "cells": [
  {
   "cell_type": "code",
   "execution_count": null,
   "id": "236e4916-fa1b-4fe7-8d89-ac965a04defc",
   "metadata": {},
   "outputs": [],
   "source": []
  },
  {
   "cell_type": "markdown",
   "id": "a93c0647-4c72-4d8e-b579-f87d78ce1017",
   "metadata": {},
   "source": [
    "checkout other options at : https://pydeck.gl/index.html"
   ]
  },
  {
   "cell_type": "code",
   "execution_count": 170,
   "id": "5c468f73-d03a-42c1-93b1-f8ace6c2394f",
   "metadata": {
    "editable": true,
    "slideshow": {
     "slide_type": ""
    },
    "tags": []
   },
   "outputs": [
    {
     "data": {
      "application/vnd.jupyter.widget-view+json": {
       "model_id": "23d7bf5697584c4cbe61434cb6253d8d",
       "version_major": 2,
       "version_minor": 0
      },
      "text/plain": [
       "DeckGLWidget(carto_key=None, custom_libraries=[], google_maps_key=None, json_input='{\\n  \"initialViewState\": {…"
      ]
     },
     "execution_count": 170,
     "metadata": {},
     "output_type": "execute_result"
    }
   ],
   "source": [
    "\n",
    "import pydeck as pdk\n",
    "import pandas as pd\n",
    "data = path + '/flights.csv'\n",
    "commute_pattern = pd.read_csv(data)\n",
    "\n",
    "\n",
    "# view (location, zoom level, etc.)\n",
    "view = pdk.ViewState(latitude=21.214885, longitude=77.950061, pitch=50, zoom=3)\n",
    "\n",
    "# layer\n",
    "# from home (orange) to work (purple)\n",
    "arc_layer = pdk.Layer('ArcLayer',\n",
    "                      data=commute_pattern,\n",
    "                      get_source_position=['lon_from', 'lat_from'],\n",
    "                      get_target_position=['lon_to', 'lat_to'],\n",
    "                      get_width=5,\n",
    "                      get_tilt=15,\n",
    "                      pickable=True,\n",
    "                         auto_highlight=True,\n",
    "                      # RGBA colors (red, green, blue, alpha)\n",
    "                      get_source_color=[255, 165, 0, 80],\n",
    "                      get_target_color=[128, 0, 128, 80])\n",
    "\n",
    "# render map\n",
    "# choose map style\n",
    "TOOLTIP_TEXT = {\"html\": \"{flights} flights taken <br /> on this root\"}\n",
    "\n",
    "arc_layer_map = pdk.Deck(\n",
    "                         layers=arc_layer,\n",
    "                         initial_view_state=view,\n",
    "                         tooltip=TOOLTIP_TEXT\n",
    "                    )\n",
    "arc_layer_map.to_html('deck.html')\n",
    "arc_layer_map.show()"
   ]
  }
 ],
 "metadata": {
  "kernelspec": {
   "display_name": "Python 3 (ipykernel)",
   "language": "python",
   "name": "python3"
  },
  "language_info": {
   "codemirror_mode": {
    "name": "ipython",
    "version": 3
   },
   "file_extension": ".py",
   "mimetype": "text/x-python",
   "name": "python",
   "nbconvert_exporter": "python",
   "pygments_lexer": "ipython3",
   "version": "3.11.4"
  }
 },
 "nbformat": 4,
 "nbformat_minor": 5
}
