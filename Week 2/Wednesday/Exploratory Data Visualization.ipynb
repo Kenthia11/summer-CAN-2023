{
 "cells": [
  {
   "cell_type": "markdown",
   "source": [
    "# Exploratory Data Visualization\n",
    "\n",
    "The domain of data science combines facets of mathematics, statistics in particular, with computer science and industry- or domain-specific knowledge."
   ],
   "metadata": {
    "collapsed": false
   }
  },
  {
   "cell_type": "markdown",
   "source": [
    "## Data science pipeline\n",
    "\n",
    "![Data science pipeline](./image/FancyWM_qRe6d2hvFA.png)"
   ],
   "metadata": {
    "collapsed": false
   }
  },
  {
   "cell_type": "markdown",
   "source": [
    "Inside Airbnb collects Airbnb data to help support policies and quantify the impact of short-term housing rentals on residential communities.\n",
    "\n",
    "You can visit Inside Airbnb’s website (http://insideairbnb.com/get-the-data) and download the data, which is licensed under a CC 4.0 international license. Once on the website, scroll down or search for New York City and download the listings.csv.gz dataset. Inside Airbnb only stores a rolling 12 months of data, so your results may vary depending upon when you run the analysis."
   ],
   "metadata": {
    "collapsed": false
   }
  },
  {
   "cell_type": "code",
   "execution_count": 2,
   "metadata": {},
   "outputs": [],
   "source": [
    "# Importing the requisite packages\n",
    "import pandas as pd\n",
    "import geopandas as gpd\n",
    "import matplotlib.pyplot as plt\n",
    "import pysal\n",
    "import splot"
   ]
  },
  {
   "cell_type": "markdown",
   "source": [
    "Next, you’ll import the data and begin to understand the columns in the dataset by running the following code:"
   ],
   "metadata": {
    "collapsed": false
   }
  },
  {
   "cell_type": "code",
   "execution_count": 6,
   "metadata": {},
   "outputs": [],
   "source": [
    "### Setting the file path\n",
    "data_path = \"D:/summer_DSI/gitsites/Applied-Geospatial-Data-Science-with-Python/data_rest/Data_pt1/\""
   ]
  },
  {
   "cell_type": "code",
   "execution_count": 7,
   "metadata": {},
   "outputs": [
    {
     "name": "stderr",
     "output_type": "stream",
     "text": [
      "C:\\Users\\parma\\AppData\\Local\\Temp\\ipykernel_42868\\3061853916.py:2: DtypeWarning: Columns (68) have mixed types. Specify dtype option on import or set low_memory=False.\n",
      "  listings = pd.read_csv(data_path + 'listings.csv.gz', compression='gzip')\n"
     ]
    }
   ],
   "source": [
    "# Reading in the data - REMINDER: You'll need to download this data yourself from InsideAirbnb\n",
    "listings = pd.read_csv(data_path + 'listings.csv.gz', compression='gzip')"
   ]
  },
  {
   "cell_type": "markdown",
   "metadata": {},
   "source": [
    "## Exploratory Data Analysis"
   ]
  },
  {
   "cell_type": "markdown",
   "source": [
    "To better understand the columns, it’s helpful to look at the data dictionary for variable definitions. Inside Airbnb’s data dictionary can be found here: https://docs.google.com/spreadsheets/d/1iWCNJcSutYqpULSQHlNyGInUvHg2BoUGoNRIGa6Szc4/edit#gid=982310896."
   ],
   "metadata": {
    "collapsed": false
   }
  },
  {
   "cell_type": "code",
   "execution_count": 8,
   "metadata": {},
   "outputs": [
    {
     "name": "stdout",
     "output_type": "stream",
     "text": [
      "Index(['id', 'listing_url', 'scrape_id', 'last_scraped', 'source', 'name',\n",
      "       'description', 'neighborhood_overview', 'picture_url', 'host_id',\n",
      "       'host_url', 'host_name', 'host_since', 'host_location', 'host_about',\n",
      "       'host_response_time', 'host_response_rate', 'host_acceptance_rate',\n",
      "       'host_is_superhost', 'host_thumbnail_url', 'host_picture_url',\n",
      "       'host_neighbourhood', 'host_listings_count',\n",
      "       'host_total_listings_count', 'host_verifications',\n",
      "       'host_has_profile_pic', 'host_identity_verified', 'neighbourhood',\n",
      "       'neighbourhood_cleansed', 'neighbourhood_group_cleansed', 'latitude',\n",
      "       'longitude', 'property_type', 'room_type', 'accommodates', 'bathrooms',\n",
      "       'bathrooms_text', 'bedrooms', 'beds', 'amenities', 'price',\n",
      "       'minimum_nights', 'maximum_nights', 'minimum_minimum_nights',\n",
      "       'maximum_minimum_nights', 'minimum_maximum_nights',\n",
      "       'maximum_maximum_nights', 'minimum_nights_avg_ntm',\n",
      "       'maximum_nights_avg_ntm', 'calendar_updated', 'has_availability',\n",
      "       'availability_30', 'availability_60', 'availability_90',\n",
      "       'availability_365', 'calendar_last_scraped', 'number_of_reviews',\n",
      "       'number_of_reviews_ltm', 'number_of_reviews_l30d', 'first_review',\n",
      "       'last_review', 'review_scores_rating', 'review_scores_accuracy',\n",
      "       'review_scores_cleanliness', 'review_scores_checkin',\n",
      "       'review_scores_communication', 'review_scores_location',\n",
      "       'review_scores_value', 'license', 'instant_bookable',\n",
      "       'calculated_host_listings_count',\n",
      "       'calculated_host_listings_count_entire_homes',\n",
      "       'calculated_host_listings_count_private_rooms',\n",
      "       'calculated_host_listings_count_shared_rooms', 'reviews_per_month'],\n",
      "      dtype='object')\n"
     ]
    }
   ],
   "source": [
    "print(listings.columns)"
   ]
  },
  {
   "cell_type": "markdown",
   "source": [],
   "metadata": {
    "collapsed": false
   }
  },
  {
   "cell_type": "code",
   "execution_count": 9,
   "metadata": {},
   "outputs": [
    {
     "data": {
      "text/plain": "                   id                property_type neighbourhood_cleansed   \n0  801749842377802394         Private room in home               Canarsie  \\\n1  765948794133787266  Private room in rental unit               Canarsie   \n2  636274456676328779                 Entire villa            Tottenville   \n3  768125251187660469         Private room in home         Sheepshead Bay   \n4            49248255           Entire rental unit        North Riverdale   \n\n  neighbourhood_group_cleansed  beds  bathrooms    price   latitude  longitude  \n0                     Brooklyn   1.0        NaN  $143.00  40.640403 -73.888535  \n1                     Brooklyn   1.0        NaN   $30.00  40.648510 -73.894330  \n2                Staten Island   2.0        NaN  $157.00  40.507114 -74.251907  \n3                     Brooklyn   1.0        NaN   $89.00  40.583490 -73.959880  \n4                        Bronx   2.0        NaN  $125.00  40.903260 -73.907090  ",
      "text/html": "<div>\n<style scoped>\n    .dataframe tbody tr th:only-of-type {\n        vertical-align: middle;\n    }\n\n    .dataframe tbody tr th {\n        vertical-align: top;\n    }\n\n    .dataframe thead th {\n        text-align: right;\n    }\n</style>\n<table border=\"1\" class=\"dataframe\">\n  <thead>\n    <tr style=\"text-align: right;\">\n      <th></th>\n      <th>id</th>\n      <th>property_type</th>\n      <th>neighbourhood_cleansed</th>\n      <th>neighbourhood_group_cleansed</th>\n      <th>beds</th>\n      <th>bathrooms</th>\n      <th>price</th>\n      <th>latitude</th>\n      <th>longitude</th>\n    </tr>\n  </thead>\n  <tbody>\n    <tr>\n      <th>0</th>\n      <td>801749842377802394</td>\n      <td>Private room in home</td>\n      <td>Canarsie</td>\n      <td>Brooklyn</td>\n      <td>1.0</td>\n      <td>NaN</td>\n      <td>$143.00</td>\n      <td>40.640403</td>\n      <td>-73.888535</td>\n    </tr>\n    <tr>\n      <th>1</th>\n      <td>765948794133787266</td>\n      <td>Private room in rental unit</td>\n      <td>Canarsie</td>\n      <td>Brooklyn</td>\n      <td>1.0</td>\n      <td>NaN</td>\n      <td>$30.00</td>\n      <td>40.648510</td>\n      <td>-73.894330</td>\n    </tr>\n    <tr>\n      <th>2</th>\n      <td>636274456676328779</td>\n      <td>Entire villa</td>\n      <td>Tottenville</td>\n      <td>Staten Island</td>\n      <td>2.0</td>\n      <td>NaN</td>\n      <td>$157.00</td>\n      <td>40.507114</td>\n      <td>-74.251907</td>\n    </tr>\n    <tr>\n      <th>3</th>\n      <td>768125251187660469</td>\n      <td>Private room in home</td>\n      <td>Sheepshead Bay</td>\n      <td>Brooklyn</td>\n      <td>1.0</td>\n      <td>NaN</td>\n      <td>$89.00</td>\n      <td>40.583490</td>\n      <td>-73.959880</td>\n    </tr>\n    <tr>\n      <th>4</th>\n      <td>49248255</td>\n      <td>Entire rental unit</td>\n      <td>North Riverdale</td>\n      <td>Bronx</td>\n      <td>2.0</td>\n      <td>NaN</td>\n      <td>$125.00</td>\n      <td>40.903260</td>\n      <td>-73.907090</td>\n    </tr>\n  </tbody>\n</table>\n</div>"
     },
     "execution_count": 9,
     "metadata": {},
     "output_type": "execute_result"
    }
   ],
   "source": [
    "# Subsetting the data\n",
    "\n",
    "listings_sub = listings[['id','property_type','neighbourhood_cleansed', 'neighbourhood_group_cleansed','beds','bathrooms', 'price','latitude','longitude']]\n",
    "\n",
    "listings_sub.head()"
   ]
  },
  {
   "cell_type": "markdown",
   "source": [
    "Running this method reveals that there are 37,410 records in the dataset. It also reveals 910 missing records for bedrooms and 37,410 missing records for the bathrooms variable."
   ],
   "metadata": {
    "collapsed": false
   }
  },
  {
   "cell_type": "code",
   "execution_count": 10,
   "metadata": {},
   "outputs": [
    {
     "name": "stdout",
     "output_type": "stream",
     "text": [
      "<class 'pandas.core.frame.DataFrame'>\n",
      "RangeIndex: 42931 entries, 0 to 42930\n",
      "Data columns (total 9 columns):\n",
      " #   Column                        Non-Null Count  Dtype  \n",
      "---  ------                        --------------  -----  \n",
      " 0   id                            42931 non-null  int64  \n",
      " 1   property_type                 42931 non-null  object \n",
      " 2   neighbourhood_cleansed        42931 non-null  object \n",
      " 3   neighbourhood_group_cleansed  42931 non-null  object \n",
      " 4   beds                          42002 non-null  float64\n",
      " 5   bathrooms                     0 non-null      float64\n",
      " 6   price                         42931 non-null  object \n",
      " 7   latitude                      42931 non-null  float64\n",
      " 8   longitude                     42931 non-null  float64\n",
      "dtypes: float64(4), int64(1), object(4)\n",
      "memory usage: 2.9+ MB\n"
     ]
    }
   ],
   "source": [
    "listings_sub.info()"
   ]
  },
  {
   "cell_type": "markdown",
   "source": [
    "Given that there is no obvious way to impute the missing values here, we’ll go ahead and drop them by using the .drop() method. By specifying the inplace=True parameter, you can drop the records from the original DataFrame without having to create a new DataFrame object:\n",
    "the price variable is stored as an object. In order to perform computations on this column, you’ll need to convert it to a float:"
   ],
   "metadata": {
    "collapsed": false
   }
  },
  {
   "cell_type": "code",
   "execution_count": 11,
   "metadata": {},
   "outputs": [
    {
     "name": "stderr",
     "output_type": "stream",
     "text": [
      "C:\\Users\\parma\\AppData\\Local\\Temp\\ipykernel_42868\\1502043748.py:2: SettingWithCopyWarning: \n",
      "A value is trying to be set on a copy of a slice from a DataFrame\n",
      "\n",
      "See the caveats in the documentation: https://pandas.pydata.org/pandas-docs/stable/user_guide/indexing.html#returning-a-view-versus-a-copy\n",
      "  listings_sub.drop(columns=['beds','bathrooms'], inplace=True)\n",
      "C:\\Users\\parma\\AppData\\Local\\Temp\\ipykernel_42868\\1502043748.py:3: SettingWithCopyWarning: \n",
      "A value is trying to be set on a copy of a slice from a DataFrame.\n",
      "Try using .loc[row_indexer,col_indexer] = value instead\n",
      "\n",
      "See the caveats in the documentation: https://pandas.pydata.org/pandas-docs/stable/user_guide/indexing.html#returning-a-view-versus-a-copy\n",
      "  listings_sub[\"price\"] = listings_sub[\"price\"].replace(\"[$,]\", \"\", regex=True).astype(float)\n"
     ]
    }
   ],
   "source": [
    "# Cleaning the data\n",
    "listings_sub.drop(columns=['beds','bathrooms'], inplace=True)\n",
    "listings_sub[\"price\"] = listings_sub[\"price\"].replace(\"[$,]\", \"\", regex=True).astype(float)"
   ]
  },
  {
   "cell_type": "markdown",
   "source": [
    "In this section, you’ve cleansed the data in the following ways:\n",
    "\n",
    "You dropped variables that had a high number of missing values that could not be imputed in a logical way\n",
    "You corrected the data type of the price variable, converting it from a string to a float type allowing for future computation"
   ],
   "metadata": {
    "collapsed": false
   }
  },
  {
   "cell_type": "code",
   "execution_count": 12,
   "metadata": {},
   "outputs": [
    {
     "data": {
      "text/plain": "                       id                property_type neighbourhood_cleansed   \n0      801749842377802394         Private room in home               Canarsie  \\\n1      765948794133787266  Private room in rental unit               Canarsie   \n2      636274456676328779                 Entire villa            Tottenville   \n3      768125251187660469         Private room in home         Sheepshead Bay   \n4                49248255           Entire rental unit        North Riverdale   \n...                   ...                          ...                    ...   \n42926            40342902  Private room in rental unit           East Village   \n42927            35257699           Entire rental unit         Hell's Kitchen   \n42928            52491515           Entire rental unit        Lower East Side   \n42929            48158801         Private room in loft               Bushwick   \n42930            48316258       Room in boutique hotel      Flatiron District   \n\n      neighbourhood_group_cleansed  price   latitude  longitude  \n0                         Brooklyn  143.0  40.640403 -73.888535  \n1                         Brooklyn   30.0  40.648510 -73.894330  \n2                    Staten Island  157.0  40.507114 -74.251907  \n3                         Brooklyn   89.0  40.583490 -73.959880  \n4                            Bronx  125.0  40.903260 -73.907090  \n...                            ...    ...        ...        ...  \n42926                    Manhattan   85.0  40.726110 -73.988010  \n42927                    Manhattan  208.0  40.762150 -73.990270  \n42928                    Manhattan  125.0  40.717330 -73.991110  \n42929                     Brooklyn   50.0  40.687350 -73.917660  \n42930                    Manhattan  338.0  40.742960 -73.990360  \n\n[42931 rows x 7 columns]",
      "text/html": "<div>\n<style scoped>\n    .dataframe tbody tr th:only-of-type {\n        vertical-align: middle;\n    }\n\n    .dataframe tbody tr th {\n        vertical-align: top;\n    }\n\n    .dataframe thead th {\n        text-align: right;\n    }\n</style>\n<table border=\"1\" class=\"dataframe\">\n  <thead>\n    <tr style=\"text-align: right;\">\n      <th></th>\n      <th>id</th>\n      <th>property_type</th>\n      <th>neighbourhood_cleansed</th>\n      <th>neighbourhood_group_cleansed</th>\n      <th>price</th>\n      <th>latitude</th>\n      <th>longitude</th>\n    </tr>\n  </thead>\n  <tbody>\n    <tr>\n      <th>0</th>\n      <td>801749842377802394</td>\n      <td>Private room in home</td>\n      <td>Canarsie</td>\n      <td>Brooklyn</td>\n      <td>143.0</td>\n      <td>40.640403</td>\n      <td>-73.888535</td>\n    </tr>\n    <tr>\n      <th>1</th>\n      <td>765948794133787266</td>\n      <td>Private room in rental unit</td>\n      <td>Canarsie</td>\n      <td>Brooklyn</td>\n      <td>30.0</td>\n      <td>40.648510</td>\n      <td>-73.894330</td>\n    </tr>\n    <tr>\n      <th>2</th>\n      <td>636274456676328779</td>\n      <td>Entire villa</td>\n      <td>Tottenville</td>\n      <td>Staten Island</td>\n      <td>157.0</td>\n      <td>40.507114</td>\n      <td>-74.251907</td>\n    </tr>\n    <tr>\n      <th>3</th>\n      <td>768125251187660469</td>\n      <td>Private room in home</td>\n      <td>Sheepshead Bay</td>\n      <td>Brooklyn</td>\n      <td>89.0</td>\n      <td>40.583490</td>\n      <td>-73.959880</td>\n    </tr>\n    <tr>\n      <th>4</th>\n      <td>49248255</td>\n      <td>Entire rental unit</td>\n      <td>North Riverdale</td>\n      <td>Bronx</td>\n      <td>125.0</td>\n      <td>40.903260</td>\n      <td>-73.907090</td>\n    </tr>\n    <tr>\n      <th>...</th>\n      <td>...</td>\n      <td>...</td>\n      <td>...</td>\n      <td>...</td>\n      <td>...</td>\n      <td>...</td>\n      <td>...</td>\n    </tr>\n    <tr>\n      <th>42926</th>\n      <td>40342902</td>\n      <td>Private room in rental unit</td>\n      <td>East Village</td>\n      <td>Manhattan</td>\n      <td>85.0</td>\n      <td>40.726110</td>\n      <td>-73.988010</td>\n    </tr>\n    <tr>\n      <th>42927</th>\n      <td>35257699</td>\n      <td>Entire rental unit</td>\n      <td>Hell's Kitchen</td>\n      <td>Manhattan</td>\n      <td>208.0</td>\n      <td>40.762150</td>\n      <td>-73.990270</td>\n    </tr>\n    <tr>\n      <th>42928</th>\n      <td>52491515</td>\n      <td>Entire rental unit</td>\n      <td>Lower East Side</td>\n      <td>Manhattan</td>\n      <td>125.0</td>\n      <td>40.717330</td>\n      <td>-73.991110</td>\n    </tr>\n    <tr>\n      <th>42929</th>\n      <td>48158801</td>\n      <td>Private room in loft</td>\n      <td>Bushwick</td>\n      <td>Brooklyn</td>\n      <td>50.0</td>\n      <td>40.687350</td>\n      <td>-73.917660</td>\n    </tr>\n    <tr>\n      <th>42930</th>\n      <td>48316258</td>\n      <td>Room in boutique hotel</td>\n      <td>Flatiron District</td>\n      <td>Manhattan</td>\n      <td>338.0</td>\n      <td>40.742960</td>\n      <td>-73.990360</td>\n    </tr>\n  </tbody>\n</table>\n<p>42931 rows × 7 columns</p>\n</div>"
     },
     "execution_count": 12,
     "metadata": {},
     "output_type": "execute_result"
    }
   ],
   "source": [
    "listings_sub"
   ]
  },
  {
   "cell_type": "markdown",
   "source": [
    "Now that the data is cleaned, let’s look at the overall distribution of the price variable. First, you’ll run the .describe() method on the DataFrame"
   ],
   "metadata": {
    "collapsed": false
   }
  },
  {
   "cell_type": "code",
   "execution_count": 13,
   "metadata": {},
   "outputs": [
    {
     "data": {
      "text/plain": "count    42931.000000\nmean       200.307167\nstd        895.082911\nmin          0.000000\n25%         75.000000\n50%        125.000000\n75%        200.000000\nmax      99000.000000\nName: price, dtype: float64"
     },
     "execution_count": 13,
     "metadata": {},
     "output_type": "execute_result"
    }
   ],
   "source": [
    "listings_sub['price'].describe()"
   ]
  },
  {
   "cell_type": "code",
   "execution_count": 14,
   "metadata": {},
   "outputs": [
    {
     "data": {
      "text/plain": "<Figure size 640x480 with 1 Axes>",
      "image/png": "[encoded data removed]"
     },
     "metadata": {},
     "output_type": "display_data"
    }
   ],
   "source": [
    "%matplotlib inline\n",
    "plt.hist(listings_sub['price'], bins=25, density=True, alpha=0.6)\n",
    "plt.show()"
   ]
  },
  {
   "cell_type": "markdown",
   "source": [
    "Based on this output, you can see mean nightly price for Airbnbs in New York City is $190.78. The maximum nightly price is $12,900. Based on this information, you can start to understand that the data is skewed. To visually represent this skewness, you can plot a histogram with a kernel density estimation. To do that, you’ll run the following code:"
   ],
   "metadata": {
    "collapsed": false
   }
  },
  {
   "cell_type": "code",
   "execution_count": 15,
   "metadata": {},
   "outputs": [
    {
     "name": "stderr",
     "output_type": "stream",
     "text": [
      "C:\\Users\\parma\\AppData\\Local\\Temp\\ipykernel_42868\\87770122.py:2: UserWarning: \n",
      "\n",
      "`distplot` is a deprecated function and will be removed in seaborn v0.14.0.\n",
      "\n",
      "Please adapt your code to use either `displot` (a figure-level function with\n",
      "similar flexibility) or `histplot` (an axes-level function for histograms).\n",
      "\n",
      "For a guide to updating your code to use the new functions, please see\n",
      "https://gist.github.com/mwaskom/de44147ed2974457ad6372750bbe5751\n",
      "\n",
      "  sns.distplot(listings_sub['price'], kde=True)\n"
     ]
    },
    {
     "data": {
      "text/plain": "<Figure size 640x480 with 1 Axes>",
      "image/png": "[encoded data removed]"
     },
     "metadata": {},
     "output_type": "display_data"
    }
   ],
   "source": [
    "import seaborn as sns\n",
    "sns.distplot(listings_sub['price'], kde=True)\n",
    "plt.show()"
   ]
  },
  {
   "cell_type": "markdown",
   "metadata": {},
   "source": [
    "## Exploratory Spatial Data Analysis\n",
    "To begin ESDA, you’ll first need to convert the pandas DataFrame holding the New York City Airbnb prices into a GeoPandas DataFrame. You’ll also want to set its CRS to 4326. By checking the data dictionary, you can see that description of the latitude and longitude variables states “Uses the World Geodetic System (WGS84) projection for latitude and longitude”. This confirms that 4326 is the appropriate CRS for this analysis."
   ]
  },
  {
   "cell_type": "code",
   "execution_count": 16,
   "metadata": {},
   "outputs": [],
   "source": [
    "# Convert the pandas dataframe to a geopandas dataframe\n",
    "listings_sub_gpd = gpd.GeoDataFrame(listings_sub, geometry=gpd.points_from_xy(listings_sub.longitude, listings_sub.latitude, crs=4326))"
   ]
  },
  {
   "cell_type": "markdown",
   "source": [
    "Now that the data is stored as a GeoPandas DataFrame, you can easily plot the observations as a point map. A point map uses the latitude and longitude of observations to visualize Airbnb locations on a map."
   ],
   "metadata": {
    "collapsed": false
   }
  },
  {
   "cell_type": "code",
   "execution_count": null,
   "metadata": {
    "pycharm": {
     "is_executing": true
    }
   },
   "outputs": [],
   "source": [
    "import geoplot.crs as gcrs\n",
    "import geoplot as gplt\n",
    "ax = gplt.webmap(listings_sub_gpd,projection=gcrs.WebMercator())\n",
    "gplt.pointplot(listings_sub_gpd, ax=ax)"
   ]
  },
  {
   "cell_type": "markdown",
   "source": [
    "This point map is not highly informative, but it does give you a general sense of the geography from which the data is derived. To start creating better visualizations, let’s first convert the point map into a heatmap. A heatmap is a spatial visualization that allows you to see the density of points in an area as a raster. To do this, we’ll first start by getting Tracts and CBSA boundary and reading in a shapefile associated with New York City’s five boroughs:"
   ],
   "metadata": {
    "collapsed": false
   }
  },
  {
   "cell_type": "code",
   "execution_count": 19,
   "metadata": {},
   "outputs": [],
   "source": [
    "# Reading in the New York Census Tracts\n",
    "#NY_tracts_path = \"https://www2.census.gov/geo/tiger/TIGER2021/TRACT/tl_2021_36_tract.zip\"\n",
    "#NY_Tracts = gpd.read_file(NY_tracts_path)\n",
    "#NY_Tracts = NY_Tracts.to_crs(4326)\n",
    "\n",
    "# Subsetting the census tracts to those in the New York CBSA\n",
    "#cbsa_path = 'https://www2.census.gov/geo/tiger/TIGER2021/CBSA/tl_2021_us_cbsa.zip'\n",
    "#cbsas = gpd.read_file(cbsa_path)\n",
    "#NY_cbsa = cbsas[cbsas['GEOID']=='35620']"
   ]
  },
  {
   "cell_type": "code",
   "execution_count": 20,
   "metadata": {},
   "outputs": [
    {
     "data": {
      "text/plain": "<Axes: >"
     },
     "execution_count": 20,
     "metadata": {},
     "output_type": "execute_result"
    },
    {
     "data": {
      "text/plain": "<Figure size 640x480 with 1 Axes>",
      "image/png": "[encoded data removed]"
     },
     "metadata": {},
     "output_type": "display_data"
    }
   ],
   "source": [
    "# Borough Boundaries\n",
    "Boroughs = gpd.read_file(data_path + r\"NYC Boroughs\\nybb_22a\\nybb.shp\")\n",
    "Boroughs = Boroughs.to_crs(4326)\n",
    "Boroughs.plot()"
   ]
  },
  {
   "cell_type": "markdown",
   "source": [
    "the highest number of Airbnbs are located in Manhattan and Brooklyn:"
   ],
   "metadata": {
    "collapsed": false
   }
  },
  {
   "cell_type": "code",
   "execution_count": null,
   "metadata": {
    "pycharm": {
     "is_executing": true
    }
   },
   "outputs": [],
   "source": [
    "# Creating a heatmap of Airbnb locations\n",
    "\n",
    "# Creating a heatmap raster from the points\n",
    "ax = gplt.kdeplot(\n",
    "    listings_sub_gpd,shade=True, cmap='Reds',\n",
    "    clip=Boroughs.geometry,\n",
    "    projection=gcrs.WebMercator())\n",
    "\n",
    "# Plotting the heatmap on top of the boroughs for context\n",
    "gplt.polyplot(Boroughs, ax=ax, zorder=1)"
   ]
  },
  {
   "cell_type": "markdown",
   "source": [
    "In this section, you learned about two new types of maps: a point map and a heatmap, both of which were derived from the raw latitude and longitude of the Airbnb locations. In the next section, you’ll aggregate these points up to higher-order geographies.\n",
    "Converting from point maps to census tract maps\n",
    "Next, to make the data easier to work with, let’s aggregate it up to the census tract level and take the average price of the listings that fall within each census tract. To do that, you’ll follow the next few steps:\n"
   ],
   "metadata": {
    "collapsed": false
   }
  },
  {
   "cell_type": "code",
   "execution_count": 22,
   "metadata": {},
   "outputs": [
    {
     "name": "stderr",
     "output_type": "stream",
     "text": [
      "D:\\summer_DSI\\dsi_venv\\lib\\site-packages\\IPython\\core\\interactiveshell.py:3448: FutureWarning: The `op` parameter is deprecated and will be removed in a future release. Please use the `predicate` parameter instead.\n",
      "  if await self.run_code(code, result, async_=asy):\n"
     ]
    },
    {
     "data": {
      "text/plain": "                                                      geometry       price\nGEOID                                                                     \n36005000100  POLYGON ((-73.89772 40.79514, -73.89611 40.796...         NaN\n36005000200  POLYGON ((-73.86222 40.81003, -73.86115 40.811...   70.833333\n36005000400  POLYGON ((-73.85552 40.81583, -73.85472 40.815...  101.166667\n36005001600  POLYGON ((-73.86153 40.81938, -73.86203 40.821...  124.666667\n36005001901  POLYGON ((-73.92944 40.80938, -73.92933 40.809...  138.000000\n...                                                        ...         ...\n36119981000  POLYGON ((-73.82881 41.08166, -73.82844 41.081...         NaN\n36119982000  POLYGON ((-73.87180 41.15252, -73.87169 41.152...         NaN\n36119983000  POLYGON ((-73.68541 41.23799, -73.68448 41.239...         NaN\n36119984000  POLYGON ((-73.94841 41.22771, -73.94573 41.229...         NaN\n36119985000  POLYGON ((-73.70862 41.04772, -73.70840 41.048...         NaN\n\n[3365 rows x 2 columns]",
      "text/html": "<div>\n<style scoped>\n    .dataframe tbody tr th:only-of-type {\n        vertical-align: middle;\n    }\n\n    .dataframe tbody tr th {\n        vertical-align: top;\n    }\n\n    .dataframe thead th {\n        text-align: right;\n    }\n</style>\n<table border=\"1\" class=\"dataframe\">\n  <thead>\n    <tr style=\"text-align: right;\">\n      <th></th>\n      <th>geometry</th>\n      <th>price</th>\n    </tr>\n    <tr>\n      <th>GEOID</th>\n      <th></th>\n      <th></th>\n    </tr>\n  </thead>\n  <tbody>\n    <tr>\n      <th>36005000100</th>\n      <td>POLYGON ((-73.89772 40.79514, -73.89611 40.796...</td>\n      <td>NaN</td>\n    </tr>\n    <tr>\n      <th>36005000200</th>\n      <td>POLYGON ((-73.86222 40.81003, -73.86115 40.811...</td>\n      <td>70.833333</td>\n    </tr>\n    <tr>\n      <th>36005000400</th>\n      <td>POLYGON ((-73.85552 40.81583, -73.85472 40.815...</td>\n      <td>101.166667</td>\n    </tr>\n    <tr>\n      <th>36005001600</th>\n      <td>POLYGON ((-73.86153 40.81938, -73.86203 40.821...</td>\n      <td>124.666667</td>\n    </tr>\n    <tr>\n      <th>36005001901</th>\n      <td>POLYGON ((-73.92944 40.80938, -73.92933 40.809...</td>\n      <td>138.000000</td>\n    </tr>\n    <tr>\n      <th>...</th>\n      <td>...</td>\n      <td>...</td>\n    </tr>\n    <tr>\n      <th>36119981000</th>\n      <td>POLYGON ((-73.82881 41.08166, -73.82844 41.081...</td>\n      <td>NaN</td>\n    </tr>\n    <tr>\n      <th>36119982000</th>\n      <td>POLYGON ((-73.87180 41.15252, -73.87169 41.152...</td>\n      <td>NaN</td>\n    </tr>\n    <tr>\n      <th>36119983000</th>\n      <td>POLYGON ((-73.68541 41.23799, -73.68448 41.239...</td>\n      <td>NaN</td>\n    </tr>\n    <tr>\n      <th>36119984000</th>\n      <td>POLYGON ((-73.94841 41.22771, -73.94573 41.229...</td>\n      <td>NaN</td>\n    </tr>\n    <tr>\n      <th>36119985000</th>\n      <td>POLYGON ((-73.70862 41.04772, -73.70840 41.048...</td>\n      <td>NaN</td>\n    </tr>\n  </tbody>\n</table>\n<p>3365 rows × 2 columns</p>\n</div>"
     },
     "execution_count": 22,
     "metadata": {},
     "output_type": "execute_result"
    }
   ],
   "source": [
    "# Reading in the New York Census Tracts\n",
    "NY_tracts_path = \"https://www2.census.gov/geo/tiger/TIGER2021/TRACT/tl_2021_36_tract.zip\"\n",
    "NY_Tracts = gpd.read_file(NY_tracts_path)\n",
    "NY_Tracts = NY_Tracts.to_crs(4326)\n",
    "\n",
    "# Subsetting the census tracts to those in the New York CBSA\n",
    "cbsa_path = 'https://www2.census.gov/geo/tiger/TIGER2021/CBSA/tl_2021_us_cbsa.zip'\n",
    "cbsas = gpd.read_file(cbsa_path)\n",
    "NY_cbsa = cbsas[cbsas['GEOID']=='35620']\n",
    "\n",
    "mask = NY_Tracts.intersects(NY_cbsa.loc[620,'geometry'])\n",
    "NY_Tracts_subset = NY_Tracts.loc[mask]\n",
    "\n",
    "# Aggregating the airbnb locations to the NY census tracts\n",
    "NY_Tracts_sj = gpd.sjoin(NY_Tracts_subset, listings_sub_gpd, how='left', op='contains')\n",
    "NY_Tracts_sj = NY_Tracts_sj[['GEOID','price','geometry']]\n",
    "NY_Tracts_Agg = NY_Tracts_sj.dissolve(by='GEOID', aggfunc='mean')\n",
    "\n",
    "NY_Tracts_Agg"
   ]
  },
  {
   "cell_type": "code",
   "execution_count": null,
   "metadata": {
    "pycharm": {
     "is_executing": true
    }
   },
   "outputs": [],
   "source": [
    "gplt.choropleth(NY_Tracts_Agg, hue=\"price\", cmap=\"Greens\", figsize=(60,30), legend=True)"
   ]
  },
  {
   "cell_type": "markdown",
   "source": [
    "we can see that there are a large number of census tracts that do not have any information and therefore are not shaded. This makes it hard to identify the area of interest, which is New York City. Due to there being numerous census tracts without listing information, it is better to produce an interactive map that will allow you, or your end user, to zoom in on areas of interest. You can use the geoviews package with the bokeh extension for this:"
   ],
   "metadata": {
    "collapsed": false
   }
  },
  {
   "cell_type": "code",
   "execution_count": null,
   "metadata": {
    "pycharm": {
     "is_executing": true
    }
   },
   "outputs": [],
   "source": [
    "import geoviews\n",
    "geoviews.extension(\"bokeh\")\n",
    "\n",
    "choropleth = geoviews.Polygons(data=NY_Tracts_Agg, vdims=[\"price\",\"GEOID\"])\n",
    "\n",
    "choropleth.opts(height=600, width=900, title=\"NYC Airbnb Price\",\n",
    "                tools=[\"hover\"], cmap=\"Greens\", colorbar=True, colorbar_position=\"bottom\")"
   ]
  },
  {
   "cell_type": "markdown",
   "source": [
    "Based on the distribution and choropleth visualizations, you now know that there is a long right-hand skew to the average nightly prices for Airbnbs in New York City. To make your visualization a bit more dynamic, let’s drop any outliers that are more than one standard deviation away from the mean New York City Airbnb price and then replot the data."
   ],
   "metadata": {
    "collapsed": false
   }
  },
  {
   "cell_type": "markdown",
   "source": [
    "## Producing maps without outliers\n",
    "To produce a map that removes observations greater than one standard deviation from the mean, follow the next few steps:\n",
    "1.\tFirst, let’s import the statistics package and calculate the mean and standard deviation of the nightly Airbnb price:\n"
   ],
   "metadata": {
    "collapsed": false
   }
  },
  {
   "cell_type": "code",
   "execution_count": null,
   "metadata": {
    "pycharm": {
     "is_executing": true
    }
   },
   "outputs": [],
   "source": [
    "import statistics\n",
    "\n",
    "# Calculating the mean and standard deviation\n",
    "mean_price = statistics.mean(NY_Tracts_Agg['price'].dropna())\n",
    "stdev = statistics.stdev(NY_Tracts_Agg['price'].dropna())\n",
    "\n",
    "print(\"The mean Airbnb price is: % s \" % (round(mean_price, 2)))\n",
    "print(\"The standard deviation of Airbnb prices is: % s \" % (round(stdev, 2)))\n",
    "\n",
    "# Droping records that are more than 1 standard deviation from the mean\n",
    "NY_Tracts_Agg_filtered = NY_Tracts_Agg[NY_Tracts_Agg['price'] < mean_price+stdev]\n",
    "\n",
    "choropleth = geoviews.Polygons(data=NY_Tracts_Agg_filtered, vdims=[\"price\",\"GEOID\"])\n",
    "\n",
    "choropleth.opts(height=600, width=900, title=\"NYC Airbnb Price\",\n",
    "                tools=[\"hover\"], cmap=\"Greens\", colorbar=True, colorbar_position=\"bottom\")"
   ]
  },
  {
   "cell_type": "markdown",
   "source": [
    "After running the code, you will have a new dataset called NY_Tracts_Agg_filtered where you have removed any observation greater than one standard deviation away from the mean. After removing census tracts with no observations, the dataset has a mean nightly price of $154.64 and a standard deviation of $190.02.\n",
    "\n",
    "After reviewing the results of the heatmap and the final choropleth map, you began to notice some patterns in the data as it relates to its geographic distribution. You noticed that the highest number of Airbnbs are located in Manhattan and Brooklyn. You also noticed that there was a pattern where certain census tracts were grouped together with higher prices."
   ],
   "metadata": {
    "collapsed": false
   }
  },
  {
   "cell_type": "code",
   "execution_count": null,
   "metadata": {},
   "outputs": [],
   "source": []
  }
 ],
 "metadata": {
  "kernelspec": {
   "display_name": "Python 3 (ipykernel)",
   "language": "python",
   "name": "python3"
  },
  "language_info": {
   "codemirror_mode": {
    "name": "ipython",
    "version": 3
   },
   "file_extension": ".py",
   "mimetype": "text/x-python",
   "name": "python",
   "nbconvert_exporter": "python",
   "pygments_lexer": "ipython3",
   "version": "3.10.8"
  }
 },
 "nbformat": 4,
 "nbformat_minor": 4
}
