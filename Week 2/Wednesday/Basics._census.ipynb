{
 "cells": [
  {
   "cell_type": "markdown",
   "source": [
    "Human geographic data or anthropogeographic data is a branch of geographic data that deals with humans and their relationship to the area around them.\n",
    "United States Census Bureau data\n",
    "Within the United States, the Census Bureau is one of the best sources of geo-demographic data. Geo-demographic data is location-based data that segments individuals based on their locale as well as their demography. The Census Bureau collects this data via various programs including the decennial census as well as the yearly ACS, the biennial American Housing Survey (AHS), and the yearly American Business Survey (ABS). The following subsections provide more details on census data structure and its unique IDs (UIDs).\n",
    "GEOIDs\n",
    "As mentioned previously, census data products include geographic entity codes or GEOIDs. There are two primary types of GEOIDs: Federal Information Processing Standards (FIPS) codes and Geographic Names Information System (GNIS) codes.\n",
    "FIPS codes\n",
    "The Census Bureau started publishing FIPS codes with its data products over 30 years ago. FIPS codes are assigned in alphabetical order by geography name for states, counties, core-based statistical areas (CBSAs), and county subdivisions. The FIPS code system typically ensures that smaller geographic units are unique within larger geographic units. That is to say that FIPS codes for states are unique within a country and counties are unique within a state. Due to this structure, most census geographies nest neatly inside one another, as shown in Figure 2.11.\n",
    "For some data products that use FIPS codes, they do not sit neatly next to the standard hierarchy of census geographic entities. Some of these areas include urban areas, CBSAs, state legislative districts, and ZIP code tabulation areas, to name a few. In the following diagram, these special cases are shown as lines to the side of the standard hierarchy:\n",
    "\n",
    "![census](./image/census.jpg)"
   ],
   "metadata": {
    "collapsed": false
   }
  },
  {
   "cell_type": "markdown",
   "source": [
    "FIPS codes are 15 digits long, with the first 2 digits representing the state, the next 3 digits representing the county, the next 6 digits representing the census tract, the next digit representing the block group, and the final 3 digits representing the individual census block.\n",
    "FIPS code 390017701001000 can be read as follows:\n",
    "•\t39—Ohio (black)\n",
    "•\t001—Adams County (blue)\n",
    "•\t770100—Census tract within Adams County (red)\n",
    "•\t1—Block group within tract 770100 (green)\n",
    "•\t000—Block within block group 1 (purple)\n",
    "\n"
   ],
   "metadata": {
    "collapsed": false
   }
  },
  {
   "cell_type": "code",
   "execution_count": 1,
   "id": "c936a9ab-c814-481a-b5cd-3028a950cc0f",
   "metadata": {
    "tags": []
   },
   "outputs": [],
   "source": [
    "import geopandas as gpd"
   ]
  },
  {
   "cell_type": "code",
   "execution_count": null,
   "outputs": [],
   "source": [
    "# Reading in the Ohio geography\n",
    "ohio = gpd.read_file('https://www2.census.gov/geo/tiger/TIGER2021/STATE/tl_2021_us_state.zip')\n",
    "ohio = ohio[ohio['STUSPS']==\"OH\"]\n",
    "\n",
    "# Reading in the Adams County Ohio geography\n",
    "AC = gpd.read_file(\"https://www2.census.gov/geo/tiger/TIGER2021/COUNTY/tl_2021_us_county.zip\")\n",
    "AC = AC[(AC['STATEFP']==\"39\") & (AC['COUNTYFP'] == \"001\")]\n",
    "\n",
    "# Reading in the 770100 tract geography\n",
    "AC_T = gpd.read_file(\"https://www2.census.gov/geo/tiger/TIGER2021/TRACT/tl_2021_39_tract.zip\")\n",
    "AC_T = AC_T[(AC_T['STATEFP']==\"39\") & (AC_T['TRACTCE'] == \"770100\")]\n",
    "\n",
    "# Reading in the 1 block group geography\n",
    "AC_BG = gpd.read_file('https://www2.census.gov/geo/tiger/TIGER2021/BG/tl_2021_39_bg.zip')\n",
    "AC_BG = AC_BG[(AC_BG['TRACTCE'] == \"770100\") & (AC_BG['BLKGRPCE'] == \"1\")]\n",
    "\n",
    "# Reading in the 000 block geography\n",
    "AC_B = gpd.read_file(\"https://www2.census.gov/geo/tiger/TIGER2021/TABBLOCK20/tl_2021_39_tabblock20.zip\")\n",
    "AC_B = AC_B[(AC_B['TRACTCE20'] == \"770100\") & (AC_B['BLOCKCE20'] == '1000')]\n"
   ],
   "metadata": {
    "collapsed": false
   }
  },
  {
   "cell_type": "code",
   "execution_count": null,
   "outputs": [],
   "source": [
    "from matplotlib import pyplot\n",
    "# Plotting the Census Hierarchy\n",
    "\n",
    "fig, (ax1, ax2, ax3, ax4) = pyplot.subplots(ncols=4, sharex=False, sharey=False,figsize=(15,15),)\n",
    "\n",
    "# First Column Plots\n",
    "ohio.plot(ax=ax1, edgecolor='black', color='white')\n",
    "AC.plot(ax=ax1, edgecolor='blue', color='white')\n",
    "AC_T.plot(ax=ax1, edgecolor='red', color='white')\n",
    "AC_BG.plot(ax=ax1, edgecolor='green', color='white')\n",
    "AC_B.plot(ax=ax1, edgecolor='purple', color='white')\n",
    "\n",
    "# 2nd Column Plots\n",
    "AC.plot(ax=ax2, edgecolor='blue', color='white')\n",
    "AC_T.plot(ax=ax2, edgecolor='red', color='white')\n",
    "AC_BG.plot(ax=ax2, edgecolor='green', color='white')\n",
    "AC_B.plot(ax=ax2, edgecolor='purple', color='white')\n",
    "\n",
    "# 3rd Column plots\n",
    "AC_T.plot(ax=ax3, edgecolor='red', color='white')\n",
    "AC_BG.plot(ax=ax3, edgecolor='green', color='white')\n",
    "AC_B.plot(ax=ax3, edgecolor='purple', color='white')\n",
    "\n",
    "# 4th Column plots\n",
    "AC_BG.plot(ax=ax4, edgecolor='green', color='white')\n",
    "AC_B.plot(ax=ax4, edgecolor='purple', color='white')"
   ],
   "metadata": {
    "collapsed": false
   }
  },
  {
   "cell_type": "markdown",
   "source": [
    "Now do the same thing for Illinois"
   ],
   "metadata": {
    "collapsed": false
   }
  },
  {
   "cell_type": "code",
   "execution_count": 2,
   "id": "b61cb6fb-9037-42b0-a05c-91f36e5573bb",
   "metadata": {
    "tags": []
   },
   "outputs": [],
   "source": [
    "illinois = gpd.read_file('https://www2.census.gov/geo/tiger/TIGER2021/STATE/tl_2021_us_state.zip')\n",
    "illinois = illinois[illinois['STUSPS']==\"IL\"]"
   ]
  },
  {
   "cell_type": "code",
   "execution_count": 5,
   "id": "02ebc2be-a369-45d8-a203-d487ac9260e8",
   "metadata": {
    "tags": []
   },
   "outputs": [
    {
     "data": {
      "text/plain": [
       "<Axes: >"
      ]
     },
     "execution_count": 5,
     "metadata": {},
     "output_type": "execute_result"
    },
    {
     "data": {
      "image/png": "[encoded data removed]",
      "text/plain": [
       "<Figure size 640x480 with 1 Axes>"
      ]
     },
     "metadata": {},
     "output_type": "display_data"
    }
   ],
   "source": [
    "from matplotlib import pyplot\n",
    "illinois.plot(edgecolor='black', color='white')"
   ]
  },
  {
   "cell_type": "code",
   "execution_count": null,
   "id": "21a56140-4484-4586-9426-2278f6608812",
   "metadata": {},
   "outputs": [],
   "source": []
  }
 ],
 "metadata": {
  "kernelspec": {
   "display_name": "Python 3 (ipykernel)",
   "language": "python",
   "name": "python3"
  },
  "language_info": {
   "codemirror_mode": {
    "name": "ipython",
    "version": 3
   },
   "file_extension": ".py",
   "mimetype": "text/x-python",
   "name": "python",
   "nbconvert_exporter": "python",
   "pygments_lexer": "ipython3",
   "version": "3.9.7"
  }
 },
 "nbformat": 4,
 "nbformat_minor": 5
}
