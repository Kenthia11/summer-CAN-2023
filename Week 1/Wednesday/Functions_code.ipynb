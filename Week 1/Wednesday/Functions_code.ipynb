{
 "cells": [
  {
   "cell_type": "markdown",
   "id": "614daa39",
   "metadata": {},
   "source": [
    "# Functions!\n",
    "\n",
    "Wednesday, June 14 2023\n",
    "\n",
    "Notebook Author: Susanna Lange, PhD\n",
    "\n",
    "<img src=\"https://github.com/SusannaLange/Data_118_images/blob/main/DSSI_images/function_machine.png?raw=true\" width=\"800\">\n"
   ]
  },
  {
   "cell_type": "code",
   "execution_count": null,
   "id": "0983b02c",
   "metadata": {
    "slideshow": {
     "slide_type": "skip"
    }
   },
   "outputs": [],
   "source": [
    "#import the basics!\n",
    "\n",
    "import numpy as np\n",
    "import pandas as pd"
   ]
  },
  {
   "cell_type": "markdown",
   "id": "17abb743",
   "metadata": {
    "slideshow": {
     "slide_type": "slide"
    }
   },
   "source": [
    "## Things we know\n",
    "\n",
    " DataFrames!\n",
    " \n",
    " - Merge\n",
    " \n",
    " - GroupBy \n",
    " \n",
    " - pivot_table\n",
    " \n",
    " - Visualization\n",
    " \n",
    " - Conditionals and Iteration\n",
    " "
   ]
  },
  {
   "cell_type": "markdown",
   "id": "e6d7cda7",
   "metadata": {
    "slideshow": {
     "slide_type": "slide"
    }
   },
   "source": [
    "## Goals: \n",
    "\n",
    "    \n",
    "- User defined functions\n",
    "\n",
    "- How to apply them to DataFrames"
   ]
  },
  {
   "cell_type": "markdown",
   "id": "08a97a06",
   "metadata": {
    "slideshow": {
     "slide_type": "slide"
    }
   },
   "source": [
    "### <mark style=\"background:Thistle;color:black\"> But first...Code Comprehension: Multiple Choice: </mark>\n",
    "\n",
    "\n",
    "What the following code output?\n",
    "\n",
    "```python\n",
    "x = 0\n",
    "a = 0\n",
    "b = -5\n",
    "if a > 0:\n",
    "    if b < 0: \n",
    "        x = x + 5 \n",
    "    elif a > 5:\n",
    "        x = x + 4\n",
    "    else:\n",
    "        x = x + 3\n",
    "else:\n",
    "    x = x + 2\n",
    "print(x)\n",
    "```"
   ]
  },
  {
   "cell_type": "markdown",
   "id": "f1adc2cb",
   "metadata": {
    "slideshow": {
     "slide_type": "fragment"
    }
   },
   "source": [
    "A. 3\n",
    "\n",
    "B. 0\n",
    "\n",
    "C. 2\n",
    "\n",
    "D. 4\n"
   ]
  },
  {
   "cell_type": "markdown",
   "id": "19ecbc8c",
   "metadata": {
    "slideshow": {
     "slide_type": "slide"
    }
   },
   "source": [
    "## We have seen built-in functions"
   ]
  },
  {
   "cell_type": "markdown",
   "id": "282efe2a",
   "metadata": {
    "slideshow": {
     "slide_type": "fragment"
    }
   },
   "source": [
    "| Built-in Python Functions     | Description |\n",
    "| ----------- | ----------- |\n",
    "| print(...)      | Print function: Returns the output. |\n",
    "| max(...)      | Maximum function: Returns the maximum of the given inputs. |\n",
    "| min(...)   | Minimum function: Returns the maximum of the given inputs.  |\n",
    "| abs(...)     | Absolute value function: Returns the absolute value of the given input. |\n",
    "| round(...)   | Rounding function: Returns the rounded input. |\n",
    "| len(...)   | Length function: Returns the length of given input. |\n",
    "| type(...)   | Data Type function: Returns the datatype of the input. |"
   ]
  },
  {
   "cell_type": "markdown",
   "id": "62187241",
   "metadata": {
    "slideshow": {
     "slide_type": "fragment"
    }
   },
   "source": [
    "Recall..."
   ]
  },
  {
   "cell_type": "markdown",
   "id": "ddb31303",
   "metadata": {
    "slideshow": {
     "slide_type": "fragment"
    }
   },
   "source": [
    "There's a help function!"
   ]
  },
  {
   "cell_type": "code",
   "execution_count": null,
   "id": "0550cb77",
   "metadata": {
    "slideshow": {
     "slide_type": "fragment"
    }
   },
   "outputs": [],
   "source": [
    "help(abs)"
   ]
  },
  {
   "cell_type": "code",
   "execution_count": null,
   "id": "e819ace7",
   "metadata": {
    "slideshow": {
     "slide_type": "fragment"
    }
   },
   "outputs": [],
   "source": [
    "help(round)"
   ]
  },
  {
   "cell_type": "markdown",
   "id": "e80b1fab",
   "metadata": {
    "slideshow": {
     "slide_type": "fragment"
    }
   },
   "source": [
    "We may want to repeat some process multiple times but there is no built-in function to rely on... \n"
   ]
  },
  {
   "cell_type": "markdown",
   "id": "00c9a317",
   "metadata": {
    "slideshow": {
     "slide_type": "slide"
    }
   },
   "source": [
    "## We can write our own functions!"
   ]
  },
  {
   "cell_type": "markdown",
   "id": "7431fd24",
   "metadata": {
    "slideshow": {
     "slide_type": "fragment"
    }
   },
   "source": [
    "Replacing multiple lines of code with a function allows seemless reuse of a process or computation."
   ]
  },
  {
   "cell_type": "markdown",
   "id": "636e919c",
   "metadata": {
    "slideshow": {
     "slide_type": "fragment"
    }
   },
   "source": [
    "The general format for defining a function is given below.\n",
    "\n",
    "```python \n",
    "\n",
    "def function_name(input_arguments):\n",
    "    \"\"\" Documentation on what your function does \"\"\"\n",
    "    \n",
    "    body of function\n",
    "    \n",
    "    return output\n",
    "```\n",
    "\n",
    "\n",
    "- The `def` keyword indicates defining a function\n",
    "\n",
    "- function_name: We can name our function however we please\n",
    "\n",
    "\n",
    "- input_arguments: We decide how many values our function takes as input\n",
    "\n",
    "\n",
    "- docstring: We document the key characteristics of our function by using a string - typically triple quotes\n",
    "\n",
    "\n",
    "- body of fuction: We perform some computation in the indented body\n",
    "\n",
    "\n",
    "- output: The output is returned"
   ]
  },
  {
   "cell_type": "markdown",
   "id": "99a501da",
   "metadata": {
    "slideshow": {
     "slide_type": "slide"
    }
   },
   "source": [
    "\n",
    "<img src=\"https://github.com/SusannaLange/Data_118_images/blob/main/DSSI_images/function_photo.png?raw=true\" width=\"800\">\n",
    "\n",
    "Photo Source: Data8 Textbook"
   ]
  },
  {
   "cell_type": "markdown",
   "id": "c60a09e0",
   "metadata": {
    "slideshow": {
     "slide_type": "slide"
    }
   },
   "source": [
    "## Let's explore this function"
   ]
  },
  {
   "cell_type": "code",
   "execution_count": null,
   "id": "425d549c",
   "metadata": {
    "slideshow": {
     "slide_type": "fragment"
    }
   },
   "outputs": [],
   "source": [
    "def double(x):\n",
    "    \"\"\"Double the input x\"\"\"\n",
    "    \n",
    "    y = 2*x\n",
    "    \n",
    "    return y   "
   ]
  },
  {
   "cell_type": "markdown",
   "id": "dcb6c49c",
   "metadata": {
    "slideshow": {
     "slide_type": "fragment"
    }
   },
   "source": [
    "Note, we need the return statement, otherwise nothing will be returned!\n",
    "\n",
    "The return statement\n",
    "\n",
    " \n",
    " - Immediately terminates the function \n",
    " \n",
    " \n",
    " - Allows for the output to be stored\n",
    " \n",
    "\n",
    "We haven't really computed anything yet, we've just **defined** the new function"
   ]
  },
  {
   "cell_type": "markdown",
   "id": "b7253056",
   "metadata": {
    "slideshow": {
     "slide_type": "fragment"
    }
   },
   "source": [
    "We've defined this function with the intent of a numerical input...but we can input whatever we want."
   ]
  },
  {
   "cell_type": "code",
   "execution_count": null,
   "id": "d8b24dec",
   "metadata": {
    "slideshow": {
     "slide_type": "fragment"
    }
   },
   "outputs": [],
   "source": [
    "double(3)"
   ]
  },
  {
   "cell_type": "code",
   "execution_count": null,
   "id": "3d38bf27",
   "metadata": {
    "slideshow": {
     "slide_type": "fragment"
    }
   },
   "outputs": [],
   "source": [
    "double(4.5)"
   ]
  },
  {
   "cell_type": "code",
   "execution_count": null,
   "id": "1640aae3",
   "metadata": {
    "slideshow": {
     "slide_type": "fragment"
    }
   },
   "outputs": [],
   "source": [
    "double('data')"
   ]
  },
  {
   "cell_type": "markdown",
   "id": "724c874d",
   "metadata": {
    "slideshow": {
     "slide_type": "slide"
    }
   },
   "source": [
    "## We can even double an expression or an array"
   ]
  },
  {
   "cell_type": "code",
   "execution_count": null,
   "id": "26026f91",
   "metadata": {
    "slideshow": {
     "slide_type": "fragment"
    }
   },
   "outputs": [],
   "source": [
    "double(np.array([1,2,3]))"
   ]
  },
  {
   "cell_type": "code",
   "execution_count": null,
   "id": "fbbc4e27",
   "metadata": {
    "slideshow": {
     "slide_type": "fragment"
    }
   },
   "outputs": [],
   "source": [
    "double(2*3)"
   ]
  },
  {
   "cell_type": "markdown",
   "id": "717a9953",
   "metadata": {
    "slideshow": {
     "slide_type": "slide"
    }
   },
   "source": [
    "### Assert"
   ]
  },
  {
   "cell_type": "markdown",
   "id": "69ba9015",
   "metadata": {
    "slideshow": {
     "slide_type": "fragment"
    }
   },
   "source": [
    "If we want to ensure a user inputs the correct (or expected) datatype into our function.\n",
    "\n",
    "\n",
    "We could use `assert` statement. This doesn't check but rather asserts a condition is true.\n",
    "\n",
    "Useful because it encodes in the error message."
   ]
  },
  {
   "cell_type": "code",
   "execution_count": null,
   "id": "8e5a14d0",
   "metadata": {
    "slideshow": {
     "slide_type": "fragment"
    }
   },
   "outputs": [],
   "source": [
    "def double(x):\n",
    "    \"\"\"Double the input x\"\"\"\n",
    "    assert type(x) == int or type(x) == float\n",
    "    y = 2*x\n",
    "    \n",
    "    return y "
   ]
  },
  {
   "cell_type": "code",
   "execution_count": null,
   "id": "a9275ad1",
   "metadata": {
    "slideshow": {
     "slide_type": "fragment"
    }
   },
   "outputs": [],
   "source": [
    "double(5)"
   ]
  },
  {
   "cell_type": "code",
   "execution_count": null,
   "id": "722f750f",
   "metadata": {
    "slideshow": {
     "slide_type": "fragment"
    }
   },
   "outputs": [],
   "source": [
    "double(4.9)"
   ]
  },
  {
   "cell_type": "code",
   "execution_count": null,
   "id": "d2d40dfb",
   "metadata": {
    "slideshow": {
     "slide_type": "fragment"
    }
   },
   "outputs": [],
   "source": [
    "double('data')"
   ]
  },
  {
   "cell_type": "markdown",
   "id": "9b40edfe",
   "metadata": {
    "slideshow": {
     "slide_type": "slide"
    }
   },
   "source": [
    "### Importance of docstring!\n",
    "\n",
    "\n",
    "\n",
    "Documentation on what your function does \n",
    "\n",
    "\n",
    "It can contain: \n",
    "\n",
    " - arguments\n",
    " \n",
    " \n",
    " - function’s purpose\n",
    " \n",
    " \n",
    " - information about return values"
   ]
  },
  {
   "cell_type": "code",
   "execution_count": null,
   "id": "1f7363a0",
   "metadata": {
    "slideshow": {
     "slide_type": "fragment"
    }
   },
   "outputs": [],
   "source": [
    "help(double)"
   ]
  },
  {
   "cell_type": "markdown",
   "id": "4b4bd7c0",
   "metadata": {
    "slideshow": {
     "slide_type": "slide"
    }
   },
   "source": [
    "## Return vs print Discussion"
   ]
  },
  {
   "cell_type": "markdown",
   "id": "443d1a2a",
   "metadata": {
    "slideshow": {
     "slide_type": "fragment"
    }
   },
   "source": [
    "<mark style=\"background:Thistle;color:black\"> What's the difference between print and return?! </mark>"
   ]
  },
  {
   "cell_type": "markdown",
   "id": "95456b02",
   "metadata": {
    "slideshow": {
     "slide_type": "fragment"
    }
   },
   "source": [
    "Answer here"
   ]
  },
  {
   "cell_type": "markdown",
   "id": "51f292f3",
   "metadata": {
    "slideshow": {
     "slide_type": "slide"
    }
   },
   "source": [
    "Consider the following two functions:"
   ]
  },
  {
   "cell_type": "code",
   "execution_count": null,
   "id": "1a66377f",
   "metadata": {
    "slideshow": {
     "slide_type": "fragment"
    }
   },
   "outputs": [],
   "source": [
    "def convert_temp(fahrenheit):\n",
    "    \"\"\"This function converts fahrenheit to celsius\"\"\"\n",
    "    \n",
    "    celsius = 5/9*(fahrenheit-32)\n",
    "    print(\"Hi, I'm in the function and celsius =\", celsius)\n",
    "    \n",
    "    return np.round(celsius,decimals=2)"
   ]
  },
  {
   "cell_type": "code",
   "execution_count": null,
   "id": "f4c033cd",
   "metadata": {
    "slideshow": {
     "slide_type": "fragment"
    }
   },
   "outputs": [],
   "source": [
    "def convert_temp2(fahrenheit):\n",
    "    \"\"\"This function converts fahrenheit to celsius\"\"\"\n",
    "    \n",
    "    celsius = 5/9*(fahrenheit-32)\n",
    "    print(\"Hi, I'm in the function and celsius =\", celsius)\n",
    "    \n",
    "    print(np.round(celsius,decimals=2))"
   ]
  },
  {
   "cell_type": "markdown",
   "id": "de7b29f7",
   "metadata": {},
   "source": [
    "What is the difference between 'convert_temp' and 'convert_temp2'?\n",
    "Let's investigate."
   ]
  },
  {
   "cell_type": "code",
   "execution_count": null,
   "id": "f0243160",
   "metadata": {
    "slideshow": {
     "slide_type": "fragment"
    }
   },
   "outputs": [],
   "source": [
    "temp = convert_temp(68)"
   ]
  },
  {
   "cell_type": "code",
   "execution_count": null,
   "id": "f9a7222c",
   "metadata": {
    "slideshow": {
     "slide_type": "fragment"
    }
   },
   "outputs": [],
   "source": [
    "temp2 = convert_temp2(68)"
   ]
  },
  {
   "cell_type": "code",
   "execution_count": null,
   "id": "0cb03007",
   "metadata": {
    "slideshow": {
     "slide_type": "fragment"
    }
   },
   "outputs": [],
   "source": [
    "print(temp)"
   ]
  },
  {
   "cell_type": "code",
   "execution_count": null,
   "id": "02d37d07",
   "metadata": {
    "slideshow": {
     "slide_type": "fragment"
    }
   },
   "outputs": [],
   "source": [
    "print(temp2)"
   ]
  },
  {
   "cell_type": "markdown",
   "id": "4f410fea",
   "metadata": {},
   "source": [
    "Answer here"
   ]
  },
  {
   "cell_type": "markdown",
   "id": "23b3e0cc",
   "metadata": {
    "slideshow": {
     "slide_type": "slide"
    }
   },
   "source": [
    "**Important:** Variables defined inside function bodies are not visible outside the function\n",
    "\n",
    "\n",
    "\n",
    "\n",
    "\n",
    "```python \n",
    "def convert_temp(fahrenheit):\n",
    "    \"\"\"This function converts fahrenheit to celsius\"\"\"\n",
    "    \n",
    "    celsius = 5/9*(fahrenheit-32)\n",
    "    print(\"Hi, I'm in the function and celsius =\", celsius)\n",
    "    \n",
    "    return np.round(celsius,decimals=2)\n",
    "```"
   ]
  },
  {
   "cell_type": "markdown",
   "id": "9ea03f28",
   "metadata": {
    "slideshow": {
     "slide_type": "fragment"
    }
   },
   "source": [
    "### <code style=\"background:Thistle;color:black\"> Code Comprehension: What will happen if we execute the following code:</code>\n",
    "\n",
    "```python \n",
    "def convert_temp(fahrenheit):\n",
    "    \"\"\"This function converts fahrenheit to celsius\"\"\"\n",
    "    \n",
    "    celsius = 5/9*(fahrenheit-32)\n",
    "    print(\"Hi, I'm in the function and celsius =\", celsius)\n",
    "    \n",
    "    return np.round(celsius,decimals=2)\n",
    "\n",
    "\n",
    "celsius\n",
    "```"
   ]
  },
  {
   "cell_type": "markdown",
   "id": "82d6c076",
   "metadata": {},
   "source": [
    "Answer: ???"
   ]
  },
  {
   "cell_type": "markdown",
   "id": "a24eec91",
   "metadata": {
    "slideshow": {
     "slide_type": "slide"
    }
   },
   "source": [
    "Where different variables are defined is called *scoping* in programming languages.\n",
    "\n",
    "In general, you want to be thoughtful with your variable and function naming"
   ]
  },
  {
   "cell_type": "code",
   "execution_count": null,
   "id": "d9aa9020",
   "metadata": {
    "slideshow": {
     "slide_type": "fragment"
    }
   },
   "outputs": [],
   "source": [
    "#In fact, you can reuse the name outside of the function and it is a different variable\n",
    "celsius = \"Hi, I'm a string!\"\n",
    "\n",
    "print('The result of the function is:', convert_temp(68))\n",
    "print()\n",
    "print('The value of celsius outside the function is:', celsius)"
   ]
  },
  {
   "cell_type": "markdown",
   "id": "7d27bbb7",
   "metadata": {
    "slideshow": {
     "slide_type": "slide"
    }
   },
   "source": [
    "### Now that we've defined our own function..."
   ]
  },
  {
   "cell_type": "code",
   "execution_count": null,
   "id": "1f75c362",
   "metadata": {
    "slideshow": {
     "slide_type": "fragment"
    }
   },
   "outputs": [],
   "source": [
    "help(convert_temp)"
   ]
  },
  {
   "cell_type": "markdown",
   "id": "069b3dcf",
   "metadata": {
    "slideshow": {
     "slide_type": "fragment"
    }
   },
   "source": [
    "We can call the help (built-in function) on any function we create!!! It gives us the docstring we wrote."
   ]
  },
  {
   "cell_type": "markdown",
   "id": "06aa806c",
   "metadata": {
    "slideshow": {
     "slide_type": "slide"
    }
   },
   "source": [
    "### Let's try another example. Here we write a function that takes two values as input (two arguments)."
   ]
  },
  {
   "cell_type": "code",
   "execution_count": null,
   "id": "5af76ce7",
   "metadata": {
    "slideshow": {
     "slide_type": "fragment"
    }
   },
   "outputs": [],
   "source": [
    "def register_class(Student_ID, class_name):\n",
    "    \"\"\"Takes Student_ID and class_name as input,\n",
    "    Returns a message about registration\"\"\"\n",
    "    \n",
    "    message = \"Thank you student with ID:\" + str(Student_ID) + \" for registering for \" + str(class_name)\n",
    "    \n",
    "    return message"
   ]
  },
  {
   "cell_type": "code",
   "execution_count": null,
   "id": "4c17de61",
   "metadata": {
    "slideshow": {
     "slide_type": "fragment"
    }
   },
   "outputs": [],
   "source": [
    "register_class(12345, 'Calculus')"
   ]
  },
  {
   "cell_type": "code",
   "execution_count": null,
   "id": "27cd314f",
   "metadata": {
    "slideshow": {
     "slide_type": "fragment"
    }
   },
   "outputs": [],
   "source": [
    "register_class(12345, 'Introduction to Statistics')"
   ]
  },
  {
   "cell_type": "markdown",
   "id": "7b8cfeba",
   "metadata": {
    "slideshow": {
     "slide_type": "slide"
    }
   },
   "source": [
    "### Note order does matter when calling a function!!"
   ]
  },
  {
   "cell_type": "code",
   "execution_count": null,
   "id": "463d0f59",
   "metadata": {
    "slideshow": {
     "slide_type": "fragment"
    }
   },
   "outputs": [],
   "source": [
    "register_class('Calculus', 12345)"
   ]
  },
  {
   "cell_type": "markdown",
   "id": "581c0478",
   "metadata": {
    "slideshow": {
     "slide_type": "fragment"
    }
   },
   "source": [
    "We can also call the function by being explicit about the arguments"
   ]
  },
  {
   "cell_type": "code",
   "execution_count": null,
   "id": "2696d2ac",
   "metadata": {
    "slideshow": {
     "slide_type": "fragment"
    }
   },
   "outputs": [],
   "source": [
    "register_class(Student_ID = 12345, class_name = \"Calculus\")"
   ]
  },
  {
   "cell_type": "markdown",
   "id": "20a4ca35",
   "metadata": {
    "slideshow": {
     "slide_type": "fragment"
    }
   },
   "source": [
    "If we do this, we can switch around the order in the argument."
   ]
  },
  {
   "cell_type": "code",
   "execution_count": null,
   "id": "5b6adff8",
   "metadata": {
    "slideshow": {
     "slide_type": "fragment"
    }
   },
   "outputs": [],
   "source": [
    "register_class(class_name = \"Calculus\", Student_ID = 12345)"
   ]
  },
  {
   "cell_type": "markdown",
   "id": "da59debe",
   "metadata": {
    "slideshow": {
     "slide_type": "slide"
    }
   },
   "source": [
    "## Making default arguments in our functions!"
   ]
  },
  {
   "cell_type": "markdown",
   "id": "d45b3c6c",
   "metadata": {
    "slideshow": {
     "slide_type": "fragment"
    }
   },
   "source": [
    "How do we do this for our own functions?"
   ]
  },
  {
   "cell_type": "markdown",
   "id": "e8065c2b",
   "metadata": {
    "slideshow": {
     "slide_type": "fragment"
    }
   },
   "source": [
    "By assigning the variable in the function definition."
   ]
  },
  {
   "cell_type": "code",
   "execution_count": null,
   "id": "9d4a5921",
   "metadata": {
    "slideshow": {
     "slide_type": "fragment"
    }
   },
   "outputs": [],
   "source": [
    "def register_class(Student_ID, class_name = 'Calculus'):\n",
    "    \"\"\"Takes Student_ID and class_name as input,\n",
    "    Returns a message about registration\"\"\"\n",
    "    \n",
    "    message = \"Thank you student with ID:\" + str(Student_ID) + \" for registering for \" + class_name\n",
    "    \n",
    "    return message"
   ]
  },
  {
   "cell_type": "markdown",
   "id": "6c83f8fa",
   "metadata": {
    "slideshow": {
     "slide_type": "fragment"
    }
   },
   "source": [
    "Now we can call this function with one or two arguments."
   ]
  },
  {
   "cell_type": "code",
   "execution_count": null,
   "id": "6431d2bb",
   "metadata": {
    "slideshow": {
     "slide_type": "fragment"
    }
   },
   "outputs": [],
   "source": [
    "register_class(12345)"
   ]
  },
  {
   "cell_type": "code",
   "execution_count": null,
   "id": "343324c4",
   "metadata": {
    "slideshow": {
     "slide_type": "fragment"
    }
   },
   "outputs": [],
   "source": [
    "register_class(12345, 'math')"
   ]
  },
  {
   "cell_type": "markdown",
   "id": "56d037bd",
   "metadata": {
    "slideshow": {
     "slide_type": "slide"
    }
   },
   "source": [
    "Calling the help function on your function allows you to see the default settings"
   ]
  },
  {
   "cell_type": "code",
   "execution_count": null,
   "id": "0a6f425e",
   "metadata": {
    "slideshow": {
     "slide_type": "fragment"
    }
   },
   "outputs": [],
   "source": [
    "help(register_class)"
   ]
  },
  {
   "cell_type": "markdown",
   "id": "c536d53d",
   "metadata": {
    "slideshow": {
     "slide_type": "slide"
    }
   },
   "source": [
    "### <mark style=\"background-color: Thistle\"> Code comprehension - Multiple Choice</mark>"
   ]
  },
  {
   "cell_type": "markdown",
   "id": "ebe6454e",
   "metadata": {
    "slideshow": {
     "slide_type": "fragment"
    }
   },
   "source": [
    "What happens when we run the following code:\n",
    "    \n",
    "```python \n",
    "def fun1(name, age=20):\n",
    "    print(name, age)\n",
    "\n",
    "\n",
    "fun1('Ellie', 25)\n",
    "\n",
    "```"
   ]
  },
  {
   "cell_type": "markdown",
   "id": "947e7c8d",
   "metadata": {
    "slideshow": {
     "slide_type": "fragment"
    }
   },
   "source": [
    "A:  Ellie 25\n",
    "\n",
    "B:  Ellie 20\n",
    "\n",
    "C:  nothing happens, there is no return statement\n",
    "\n",
    "D:  Ellie, 25\n",
    "\n",
    "E:  Ellie, 20"
   ]
  },
  {
   "cell_type": "markdown",
   "id": "fc1a9ad3",
   "metadata": {
    "slideshow": {
     "slide_type": "slide"
    }
   },
   "source": [
    "### <mark style=\"background-color: Thistle\"> Code comprehension - Multiple Choice</mark>\n",
    "\n",
    ". . .\n",
    "\n",
    "What is the value of ```output``` when we run the following code:\n",
    "    \n",
    "```python \n",
    "def fun1(name, age=20):\n",
    "    print(name, age)\n",
    "\n",
    "\n",
    "output = fun1('Ellie', 25)\n",
    "\n",
    "\n",
    "```"
   ]
  },
  {
   "cell_type": "markdown",
   "id": "c5d9b7d9",
   "metadata": {
    "slideshow": {
     "slide_type": "fragment"
    }
   },
   "source": [
    "A:  Ellie 25\n",
    "\n",
    "B:  Ellie 20\n",
    "\n",
    "C:  None"
   ]
  },
  {
   "cell_type": "markdown",
   "id": "abb464cd",
   "metadata": {
    "slideshow": {
     "slide_type": "slide"
    }
   },
   "source": [
    "### <mark style=\"background-color: Thistle\">Working with Functions: Activity!</mark>"
   ]
  },
  {
   "cell_type": "markdown",
   "id": "8cc5233f",
   "metadata": {
    "slideshow": {
     "slide_type": "fragment"
    }
   },
   "source": [
    "1. Write a function that takes a number and outputs if that number is even or odd"
   ]
  },
  {
   "cell_type": "code",
   "execution_count": null,
   "id": "fcfb6ded",
   "metadata": {
    "slideshow": {
     "slide_type": "fragment"
    }
   },
   "outputs": [],
   "source": [
    "#code here"
   ]
  },
  {
   "cell_type": "markdown",
   "id": "466af0c8",
   "metadata": {
    "slideshow": {
     "slide_type": "fragment"
    }
   },
   "source": [
    "2. Write a function that takes a list as input of length n (assume n >= 2) and swaps the first and last elements."
   ]
  },
  {
   "cell_type": "code",
   "execution_count": null,
   "id": "2ddd3fa0",
   "metadata": {
    "slideshow": {
     "slide_type": "fragment"
    }
   },
   "outputs": [],
   "source": [
    "#code here"
   ]
  },
  {
   "cell_type": "markdown",
   "id": "96be3e61",
   "metadata": {
    "slideshow": {
     "slide_type": "fragment"
    }
   },
   "source": [
    "3. (Optional - Challenge) Discuss in your groups:\n",
    " What does the following code output:\n",
    "    \n",
    "```python \n",
    "\n",
    "def outer_fun(a, b):\n",
    "    def inner_fun(c, d):\n",
    "        return c + d\n",
    "    return inner_fun(a, b)\n",
    "\n",
    "output = outer_fun(5, 10)\n",
    "print(output)\n",
    "\n",
    "```"
   ]
  },
  {
   "cell_type": "markdown",
   "id": "d96b8896",
   "metadata": {
    "slideshow": {
     "slide_type": "slide"
    }
   },
   "source": [
    "## Now we can build our own functions, but how do we apply them to DataFrames?"
   ]
  },
  {
   "cell_type": "markdown",
   "id": "3c6d8d92",
   "metadata": {
    "slideshow": {
     "slide_type": "fragment"
    }
   },
   "source": [
    "We use the Affordable Housing data:"
   ]
  },
  {
   "cell_type": "code",
   "execution_count": null,
   "id": "fbc60920",
   "metadata": {
    "slideshow": {
     "slide_type": "fragment"
    }
   },
   "outputs": [],
   "source": [
    "import pandas as pd\n",
    "\n",
    "Housing_df = pd.read_csv(\"https://raw.githubusercontent.com/SusannaLange/Data_118_images/main/DSSI_images/Affordable_Rental_Housing_Developments.csv\")\n",
    "Housing_df.head(5)"
   ]
  },
  {
   "cell_type": "markdown",
   "id": "79b96126",
   "metadata": {
    "slideshow": {
     "slide_type": "fragment"
    }
   },
   "source": [
    "<code style=\"background:Thistle;color:black\"> Let's define a function that considers the 'Units' column, and returns 'yes' if greater than 50 units are available and 'no' if not. </code>"
   ]
  },
  {
   "cell_type": "markdown",
   "id": "a2f929d1",
   "metadata": {
    "slideshow": {
     "slide_type": "fragment"
    }
   },
   "source": [
    "First step: Ignore the DataFrame...we want to do this for a single entry."
   ]
  },
  {
   "cell_type": "code",
   "execution_count": null,
   "id": "ef7fc759",
   "metadata": {
    "slideshow": {
     "slide_type": "fragment"
    }
   },
   "outputs": [],
   "source": [
    "def over_50(units_numbers):\n",
    "    return ???"
   ]
  },
  {
   "cell_type": "markdown",
   "id": "0d2d203d",
   "metadata": {
    "slideshow": {
     "slide_type": "fragment"
    }
   },
   "source": [
    "Second step: We can now apply this function to each entry of a Dataframe column!"
   ]
  },
  {
   "cell_type": "markdown",
   "id": "873fb11e",
   "metadata": {
    "slideshow": {
     "slide_type": "slide"
    }
   },
   "source": [
    "### Recall, there is a DataFrame method that applys a function to a column of your DataFrame."
   ]
  },
  {
   "cell_type": "markdown",
   "id": "240c3a63",
   "metadata": {
    "slideshow": {
     "slide_type": "fragment"
    }
   },
   "source": [
    "It is the ```.apply()``` or ```.map()``` method.\n",
    "\n",
    "\n",
    " - ```.apply()```  useful when applying a function along an axis of the DataFrame or on Series.\n",
    "\n",
    "\n",
    " - ```.map()```  useful when substituting each value in a Series with another value.\n",
    " \n",
    "\n",
    "You provide the function name and the column on which to apply the function"
   ]
  },
  {
   "cell_type": "code",
   "execution_count": null,
   "id": "9f90d29b",
   "metadata": {
    "slideshow": {
     "slide_type": "fragment"
    }
   },
   "outputs": [],
   "source": [
    "Housing_df.Units.apply(over_50)"
   ]
  },
  {
   "cell_type": "markdown",
   "id": "7b00aaf0",
   "metadata": {
    "slideshow": {
     "slide_type": "fragment"
    }
   },
   "source": [
    "This works too. Depending on preference."
   ]
  },
  {
   "cell_type": "code",
   "execution_count": null,
   "id": "c205d517",
   "metadata": {
    "slideshow": {
     "slide_type": "fragment"
    }
   },
   "outputs": [],
   "source": [
    "Housing_df['Units'].apply(over_50)"
   ]
  },
  {
   "cell_type": "markdown",
   "id": "a2350bfb",
   "metadata": {
    "slideshow": {
     "slide_type": "slide"
    }
   },
   "source": [
    "Now you have a new column with new information. It is often good practice to retain the original data when you are modifying it for further analysis (so you don't lose data that may be useful in the future and you have a record of what you did)\n",
    "\n",
    "So you can create a new column with this new information!"
   ]
  },
  {
   "cell_type": "code",
   "execution_count": null,
   "id": "e903fce0",
   "metadata": {
    "slideshow": {
     "slide_type": "fragment"
    }
   },
   "outputs": [],
   "source": [
    "Housing_df['Over 50 units available'] = Housing_df.Units.apply(over_50)\n",
    "Housing_df"
   ]
  },
  {
   "cell_type": "markdown",
   "id": "d4c75553",
   "metadata": {
    "slideshow": {
     "slide_type": "slide"
    }
   },
   "source": [
    "With ```.apply()``` you can apply functions across columns of a Dataframe.\n",
    "\n",
    "\n",
    "**Specify an axis along which the function is applied:**\n",
    "\n",
    "\n",
    "0 or ‘index’: apply function to each column (Default).\n",
    "\n",
    "\n",
    "1 or ‘columns’: apply function to each row."
   ]
  },
  {
   "cell_type": "code",
   "execution_count": null,
   "id": "c5a229ba",
   "metadata": {
    "slideshow": {
     "slide_type": "fragment"
    }
   },
   "outputs": [],
   "source": [
    "#here we want the minimum within the row of the two columns below\n",
    "Housing_df[[\"X Coordinate\", \"Y Coordinate\"]].apply(np.min, axis=1) #axis=1 is across columns (default axis=0 index)"
   ]
  },
  {
   "cell_type": "markdown",
   "id": "0468ef0a",
   "metadata": {
    "slideshow": {
     "slide_type": "fragment"
    }
   },
   "source": [
    "The above uses a built-in function ```np.min```, but we could create our own function here too."
   ]
  },
  {
   "cell_type": "code",
   "execution_count": null,
   "id": "d1110c89",
   "metadata": {},
   "outputs": [],
   "source": [
    "def min_over_two_rows(row): #this function passes in the given rows from the dataframe\n",
    "    '''Inputs: Two rows of interest\n",
    "    Outputs the minimum over the rows'''\n",
    "    \n",
    "    return min(row[\"X Coordinate\"], row[\"Y Coordinate\"])\n",
    "\n",
    "\n",
    "#both of the below do the same thing\n",
    "option1 = Housing_df[[\"X Coordinate\", \"Y Coordinate\"]].apply(min_over_two_rows, axis=1) #axis=1 is across columns \n",
    "option1\n",
    "\n",
    "option2 = Housing_df.apply(min_over_two_rows, axis=1)\n",
    "option2"
   ]
  },
  {
   "cell_type": "markdown",
   "id": "b0d8f374",
   "metadata": {
    "slideshow": {
     "slide_type": "slide"
    }
   },
   "source": [
    "### What about the ```.map()``` method?"
   ]
  },
  {
   "cell_type": "markdown",
   "id": "5622914d",
   "metadata": {
    "slideshow": {
     "slide_type": "fragment"
    }
   },
   "source": [
    "This works with a function or dictionary"
   ]
  },
  {
   "cell_type": "code",
   "execution_count": null,
   "id": "b32605db",
   "metadata": {
    "slideshow": {
     "slide_type": "fragment"
    }
   },
   "outputs": [],
   "source": [
    "Housing_df['Over 50 units available via map'] = Housing_df.Units.map(over_50)\n",
    "Housing_df"
   ]
  },
  {
   "cell_type": "markdown",
   "id": "7662ce8a",
   "metadata": {},
   "source": [
    "### General recap:\n",
    "\n",
    " - The .map() works for series or single columns of a DataFrame\n",
    "\n",
    " - The .apply() works for a single column or across multiple columns\n",
    "\n",
    "```python\n",
    "df['new column name'] = df['column of interest'].map(our_function)\n",
    "\n",
    "\n",
    "df['new column name'] = df['column of interest'].apply(our_function)\n",
    "```"
   ]
  },
  {
   "cell_type": "markdown",
   "id": "a5291fd7",
   "metadata": {
    "slideshow": {
     "slide_type": "slide"
    }
   },
   "source": [
    "### <mark style=\"background-color: Thistle\">Working with DataFrame Functions: Activity!</mark>"
   ]
  },
  {
   "cell_type": "markdown",
   "id": "88768210",
   "metadata": {},
   "source": [
    "Consider the Mental health data below. This Data set was collected by a survey conducted by Google forms from University students in order to examine their current academic situation and mental health.\n",
    "    "
   ]
  },
  {
   "cell_type": "code",
   "execution_count": null,
   "id": "78ce4999",
   "metadata": {},
   "outputs": [],
   "source": [
    "Mental_health_df = pd.read_csv(\"https://raw.githubusercontent.com/SusannaLange/Data_118_images/main/DSSI_images/Student%20Mental%20health.csv\")\n",
    "Mental_health_df.head(5)  "
   ]
  },
  {
   "cell_type": "markdown",
   "id": "f6aed158",
   "metadata": {
    "slideshow": {
     "slide_type": "fragment"
    }
   },
   "source": [
    "1. Notice the column 'Your current year of Study has different input values: 'year 1' vs 'Year 1'. Print all unique entries for this column."
   ]
  },
  {
   "cell_type": "code",
   "execution_count": null,
   "id": "98ab9477",
   "metadata": {},
   "outputs": [],
   "source": [
    "#code here"
   ]
  },
  {
   "cell_type": "markdown",
   "id": "ff0b47d1",
   "metadata": {
    "slideshow": {
     "slide_type": "fragment"
    }
   },
   "source": [
    "2. Create (or use a built-in) function that makes the case the same for all entries and apply it to column 'Your current year of Study'."
   ]
  },
  {
   "cell_type": "code",
   "execution_count": null,
   "id": "29ccfcf9",
   "metadata": {},
   "outputs": [],
   "source": [
    "#code here"
   ]
  },
  {
   "cell_type": "markdown",
   "id": "9e451283",
   "metadata": {
    "slideshow": {
     "slide_type": "fragment"
    }
   },
   "source": [
    "3. We want to determine how many students answered 'Yes' to at least one of 'Do you have Depression?', 'Do you have Anxiety?', or 'Do you have Panic attack?'. Create a new column called \"Identified as having Depression, Anxiety, or Panic Attacks\", then sum over this column to relay this information."
   ]
  },
  {
   "cell_type": "code",
   "execution_count": null,
   "id": "4c5767aa",
   "metadata": {},
   "outputs": [],
   "source": [
    "#code here"
   ]
  }
 ],
 "metadata": {
  "kernelspec": {
   "display_name": "Python 3 (ipykernel)",
   "language": "python",
   "name": "python3"
  },
  "language_info": {
   "codemirror_mode": {
    "name": "ipython",
    "version": 3
   },
   "file_extension": ".py",
   "mimetype": "text/x-python",
   "name": "python",
   "nbconvert_exporter": "python",
   "pygments_lexer": "ipython3",
   "version": "3.9.12"
  }
 },
 "nbformat": 4,
 "nbformat_minor": 5
}
