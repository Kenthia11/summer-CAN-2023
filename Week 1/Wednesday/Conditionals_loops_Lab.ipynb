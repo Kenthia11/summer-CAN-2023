{
 "cells": [
  {
   "cell_type": "markdown",
   "id": "ec62b36b",
   "metadata": {},
   "source": [
    "## Conditionals and For Loops: Lab\n",
    "\n",
    "The purpose of this lab is to review (if you've seen this before) or learn about *if* statements and *for* loops. Please read through the following material and run the code cells. There are opportunities to discuss and test your understanding throughout. Feel free to add cells and experiment along the way."
   ]
  },
  {
   "cell_type": "code",
   "execution_count": null,
   "id": "0983b02c",
   "metadata": {
    "slideshow": {
     "slide_type": "skip"
    }
   },
   "outputs": [],
   "source": [
    "#Libraries\n",
    "import numpy as np\n",
    "import pandas as pd"
   ]
  },
  {
   "cell_type": "markdown",
   "id": "8502697a",
   "metadata": {
    "slideshow": {
     "slide_type": "slide"
    }
   },
   "source": [
    "## Conditional Statements"
   ]
  },
  {
   "cell_type": "markdown",
   "id": "2efaee5f",
   "metadata": {
    "slideshow": {
     "slide_type": "fragment"
    }
   },
   "source": [
    "There are some situations where we want to proceed with a task or perform an action dependent on whether a certain condition, or perhaps conditions, have been satisfied."
   ]
  },
  {
   "cell_type": "markdown",
   "id": "8ef2232f",
   "metadata": {
    "slideshow": {
     "slide_type": "fragment"
    }
   },
   "source": [
    "Conditional statements have the form of an \"if-then\" statement *if* statement `P`, the hypothesis, occurs, *then* statement `Q`, the conclusion, also occurs.\n"
   ]
  },
  {
   "cell_type": "markdown",
   "id": "cf43eb49",
   "metadata": {
    "slideshow": {
     "slide_type": "slide"
    }
   },
   "source": [
    "How do we write this in code? We utilize the `if` expression in Python.\n",
    "\n",
    "The statement below will execute the indented block *conclusion*, if the *hypothesis* is true; otherwise, if *hypothesis* is not true, then the indented block is ignored:\n",
    "\n",
    "```python\n",
    "if hypothesis:\n",
    "    conclusion\n",
    "```"
   ]
  },
  {
   "cell_type": "markdown",
   "id": "8c7c410c",
   "metadata": {},
   "source": [
    "We implement an example by checking if a given number is positive. The below says, if the provided x is greater than 0, the indented body will run, and 'Positive' is printed. Otherwise (if x < 0) the indented body is not executed."
   ]
  },
  {
   "cell_type": "markdown",
   "id": "6b454792",
   "metadata": {
    "slideshow": {
     "slide_type": "fragment"
    }
   },
   "source": [
    "```python \n",
    "if x > 0:\n",
    "    print('Positive')\n",
    "```    "
   ]
  },
  {
   "cell_type": "markdown",
   "id": "87b2ee70",
   "metadata": {},
   "source": [
    "We can define a value for x and see what happens."
   ]
  },
  {
   "cell_type": "code",
   "execution_count": null,
   "id": "9197479d",
   "metadata": {},
   "outputs": [],
   "source": [
    "x = 5\n",
    "\n",
    "if x > 0:\n",
    "    print('Positive')"
   ]
  },
  {
   "cell_type": "code",
   "execution_count": null,
   "id": "c6d44bd1",
   "metadata": {},
   "outputs": [],
   "source": [
    "x = -6\n",
    "\n",
    "if x > 0:\n",
    "    print('Positive')"
   ]
  },
  {
   "cell_type": "markdown",
   "id": "5320880c",
   "metadata": {},
   "source": [
    "Why didn't we get an output when we ran the cell above?"
   ]
  },
  {
   "cell_type": "markdown",
   "id": "8b241181",
   "metadata": {},
   "source": [
    "Answer here"
   ]
  },
  {
   "cell_type": "markdown",
   "id": "e0351fce",
   "metadata": {
    "slideshow": {
     "slide_type": "slide"
    }
   },
   "source": [
    "If we want to output something when we enter a negative number we can do the following:"
   ]
  },
  {
   "cell_type": "code",
   "execution_count": null,
   "id": "64094393",
   "metadata": {
    "slideshow": {
     "slide_type": "fragment"
    }
   },
   "outputs": [],
   "source": [
    "#we can keep our x value defined to be -6\n",
    "x = -6\n",
    "\n",
    "if x > 0:\n",
    "    print('Positive')\n",
    "    \n",
    "if x < 0:\n",
    "    print( 'Negative')"
   ]
  },
  {
   "cell_type": "markdown",
   "id": "2cdd9a7b",
   "metadata": {
    "slideshow": {
     "slide_type": "fragment"
    }
   },
   "source": [
    "In the above code block, the first if condition is tested, it evaulated to False, and then the next if condition is tested, which evaulates to True, hence the body is executed - output is printed."
   ]
  },
  {
   "cell_type": "markdown",
   "id": "ebf0093a",
   "metadata": {
    "slideshow": {
     "slide_type": "slide"
    }
   },
   "source": [
    "### We can use `elif` statement instead.\n",
    "\n",
    "Used in combination with an `if` expression, an `elif` statement is only checked if all previous statements evaluate to False. This allows us to check if our first condition is true, otherwise we move to evaluate the truth value of the next statement. "
   ]
  },
  {
   "cell_type": "code",
   "execution_count": null,
   "id": "f37a42a9",
   "metadata": {
    "slideshow": {
     "slide_type": "fragment"
    }
   },
   "outputs": [],
   "source": [
    "if x > 0:\n",
    "    print('Positive')\n",
    "    \n",
    "elif x < 0:\n",
    "    print('Negative')"
   ]
  },
  {
   "cell_type": "markdown",
   "id": "9d8d7fc4",
   "metadata": {
    "slideshow": {
     "slide_type": "fragment"
    }
   },
   "source": [
    "We haven't addressed all possibilities! What happens when we define `x = 0`? Let's redefine the options to have an input in all cases."
   ]
  },
  {
   "cell_type": "code",
   "execution_count": null,
   "id": "6aa01914",
   "metadata": {
    "slideshow": {
     "slide_type": "fragment"
    }
   },
   "outputs": [],
   "source": [
    "#Now we can define x = 0\n",
    "x=0\n",
    "\n",
    "if x > 0:\n",
    "    print('Positive')\n",
    "    \n",
    "elif x < 0:\n",
    "    print('Negative')\n",
    "    \n",
    "elif x == 0:\n",
    "    print('Neither positive nor negative')"
   ]
  },
  {
   "cell_type": "markdown",
   "id": "74a45bb6",
   "metadata": {
    "slideshow": {
     "slide_type": "slide"
    }
   },
   "source": [
    "## Else statement"
   ]
  },
  {
   "cell_type": "markdown",
   "id": "bf5b2bb4",
   "metadata": {
    "slideshow": {
     "slide_type": "fragment"
    }
   },
   "source": [
    "In an `elif` statement each condition is checked until a condition is true. Often we can replace the last `elif` statement with an `else` statement, whose body will be executed only if all the previous comparisons are false."
   ]
  },
  {
   "cell_type": "markdown",
   "id": "6b5df66a",
   "metadata": {
    "slideshow": {
     "slide_type": "fragment"
    }
   },
   "source": [
    "At this point, all other conditions have been evaluated and none executed. Thus, there is no condition or hypothesis associated with the `else` statement. If it is reached, the conclusion of the `else` statement is executed."
   ]
  },
  {
   "cell_type": "code",
   "execution_count": null,
   "id": "77e6ad36",
   "metadata": {
    "slideshow": {
     "slide_type": "fragment"
    }
   },
   "outputs": [],
   "source": [
    "if x > 0:\n",
    "    print('Positive')\n",
    "    \n",
    "elif x < 0:\n",
    "    print('Negative')\n",
    "    \n",
    "else:\n",
    "    print('Neither positive nor negative')"
   ]
  },
  {
   "cell_type": "markdown",
   "id": "83b7ed07",
   "metadata": {
    "slideshow": {
     "slide_type": "slide"
    }
   },
   "source": [
    "## The General Format"
   ]
  },
  {
   "cell_type": "markdown",
   "id": "2372960c",
   "metadata": {
    "slideshow": {
     "slide_type": "fragment"
    }
   },
   "source": [
    "\n",
    "```python\n",
    "if hypothesis_1:\n",
    "    conclusion_1\n",
    "else:\n",
    "    conclusion_2\n",
    "```\n",
    "    \n",
    "Or we could have $n+1$ conclusions for a chosen $n$ in which case we have the format:\n",
    "    \n",
    "```python\n",
    "if hypothesis_1:\n",
    "    conclusion_1\n",
    "elif hypothesis_2:\n",
    "    conclusion_2\n",
    "... \n",
    "elif hypothesis_n:\n",
    "    conclusion_n\n",
    "else:\n",
    "    conclusion    \n",
    "```    "
   ]
  },
  {
   "cell_type": "markdown",
   "id": "10ff572d",
   "metadata": {
    "slideshow": {
     "slide_type": "fragment"
    }
   },
   "source": [
    "BE CAREFUL!!!  Since the `else` statement is executed without checking a condition, you want to be absolutely certain that all desired possibilies are accounted for in the previous condition(s)."
   ]
  },
  {
   "cell_type": "markdown",
   "id": "85d5cf12",
   "metadata": {},
   "source": [
    "1. Use `if` statements to print your letter grade given a numerical grade where the following is true:\n",
    "\n",
    "    (a) Above a 90 is an A\n",
    "    \n",
    "    (b) Between 80 and 90 is a B, including 80\n",
    "    \n",
    "    (c) Between 70 and 80 is a C, including 70\n",
    "    \n",
    "    (d) Between 60 and 70 is a D, including 60\n",
    "    \n",
    "    (e) Below a 60 is an F\n",
    "    \n",
    "Check your code on the following grades:\n",
    "\n",
    "    my_grade = 83\n",
    "    \n",
    "    my_grade = 70\n",
    "    \n",
    "    my_grade = 57"
   ]
  },
  {
   "cell_type": "code",
   "execution_count": null,
   "id": "e2c8e31b",
   "metadata": {},
   "outputs": [],
   "source": [
    "#code here"
   ]
  },
  {
   "cell_type": "markdown",
   "id": "82c039e8",
   "metadata": {},
   "source": [
    "## For Statements\n",
    "\n",
    "We might be interested in repeating something 100, 1000 times, or performing some action for each element in a list or array. If this is the case, we want to use `for` statements.\n",
    "\n",
    "A `for` statement can *iterate* through a sequence to perform some action on each of its elements. The general form of a `for` statement is below:\n",
    "\n",
    "```python\n",
    "for item in sequence:\n",
    "    action    \n",
    "```\n",
    "\n",
    "And for each of the *items* in *sequence* the indented body of the `for` statement is executed (here \"action\").\n",
    "\n",
    " – or the indented body is \"looped\" – \n",
    "\n",
    "This sequence can really be any *iterable* object, including a list, a string, or a range of numbers, to name a few. \n",
    "\n",
    "\n",
    "Notice we specify a name to assign to the value of each of the sequence's items – here `item`. This name is assigned to each of the values `in` the sequence, sequentially.\n"
   ]
  },
  {
   "cell_type": "markdown",
   "id": "b33aa861",
   "metadata": {},
   "source": [
    "## An example"
   ]
  },
  {
   "cell_type": "code",
   "execution_count": null,
   "id": "5fd8821f",
   "metadata": {},
   "outputs": [],
   "source": [
    "list_of_things= [\"red\", 2, 7.3, \"dog\"]\n",
    "\n",
    "for element in list_of_things:\n",
    "    print(element)"
   ]
  },
  {
   "cell_type": "markdown",
   "id": "675baf51",
   "metadata": {},
   "source": [
    "We chose the *iterator* element, but we could choose anything we want."
   ]
  },
  {
   "cell_type": "code",
   "execution_count": null,
   "id": "ad192d8b",
   "metadata": {},
   "outputs": [],
   "source": [
    "for i in list_of_things:\n",
    "    print(i)"
   ]
  },
  {
   "cell_type": "markdown",
   "id": "cb8e1ef9",
   "metadata": {},
   "source": [
    "### What can we iterate over?\n",
    "\n",
    "Note that what we iterate over does not need to be directly related to the body of the `for` statement. In fact, `for` statements are useful to simply execute the body or action a given number of times.\n",
    "\n",
    "In the first example below, the value of the *iterator* is used in the body of the `for` statement; in the second example, the `for` statement uses this iterator merely to repeat or loop through the body statement a certain number of times. \n"
   ]
  },
  {
   "cell_type": "code",
   "execution_count": null,
   "id": "574a47a1",
   "metadata": {},
   "outputs": [],
   "source": [
    "for i in [1,2,3]:\n",
    "    print(i)"
   ]
  },
  {
   "cell_type": "markdown",
   "id": "ad539509",
   "metadata": {},
   "source": [
    "We could also specify a *range* of values"
   ]
  },
  {
   "cell_type": "code",
   "execution_count": null,
   "id": "09439565",
   "metadata": {},
   "outputs": [],
   "source": [
    "for i in range(3):\n",
    "    print(i)"
   ]
  },
  {
   "cell_type": "code",
   "execution_count": null,
   "id": "f8c13afe",
   "metadata": {},
   "outputs": [],
   "source": [
    "for i in range(1,3): #we could choose the starting and ending values here too.\n",
    "    print(i)"
   ]
  },
  {
   "cell_type": "markdown",
   "id": "24d8eef6",
   "metadata": {},
   "source": [
    "The iterator, i, does not have to appear in the body of the for statement, or for loop."
   ]
  },
  {
   "cell_type": "code",
   "execution_count": null,
   "id": "fa3ec8be",
   "metadata": {},
   "outputs": [],
   "source": [
    "for i in range(3):\n",
    "    print('hello')"
   ]
  },
  {
   "cell_type": "markdown",
   "id": "2aa02999",
   "metadata": {},
   "source": [
    "Often for loops are useful just to repeat something a specified number of times.\n",
    "\n",
    "## Nested *for* loops"
   ]
  },
  {
   "cell_type": "markdown",
   "id": "33254a81",
   "metadata": {},
   "source": [
    "Suppose we have two lists, and we want to pair every element in `list_1` with every element in `list_2`. \n",
    "\n",
    "This takes the following form:\n",
    "\n",
    "```python\n",
    "for item_1 in list_1:\n",
    "    for item_2 in list_2:\n",
    "        print(item_1, item_2)\n",
    "```\n",
    "\n",
    "We *could* write out by hand all the possible combinations pairing elements of `list_1` with `list_2` … or, we could use nested `for` statements to systematically consider each element in `list_2` for each element in `list_1`.\n",
    "\n",
    "### Example\n",
    "\n",
    "Suppose we want to find all possible combinations of the below lists."
   ]
  },
  {
   "cell_type": "code",
   "execution_count": null,
   "id": "0e78ddab",
   "metadata": {},
   "outputs": [],
   "source": [
    "my_animals = ['dog', 'cat', 'cow']\n",
    "\n",
    "adjectives = ['hairy', 'scary', 'cute']\n",
    "\n",
    "for adj in adjectives:\n",
    "    for animal in my_animals:\n",
    "        print(adj, animal)"
   ]
  },
  {
   "cell_type": "markdown",
   "id": "d8301a94",
   "metadata": {},
   "source": [
    "Order of the inner and outer *for* loops does matter!"
   ]
  },
  {
   "cell_type": "code",
   "execution_count": null,
   "id": "6499878c",
   "metadata": {},
   "outputs": [],
   "source": [
    "for animal in my_animals:\n",
    "    for adj in adjectives:\n",
    "        print(adj, animal)"
   ]
  },
  {
   "cell_type": "markdown",
   "id": "4f785495",
   "metadata": {},
   "source": [
    "1. Write code to print the first 10 natural numbers (positive whole numbers starting at 1)\n",
    "\n",
    "**Talk to your neighbor about your thought process**"
   ]
  },
  {
   "cell_type": "code",
   "execution_count": null,
   "id": "09bbb2d5",
   "metadata": {},
   "outputs": [],
   "source": [
    "#code here"
   ]
  },
  {
   "cell_type": "markdown",
   "id": "ba2ca57f",
   "metadata": {},
   "source": [
    "2.  Write code to find the sum of first 10 natural numbers  (You should get 55)\n",
    "\n",
    "\n",
    "**Talk to your neighbor about your thought process**"
   ]
  },
  {
   "cell_type": "code",
   "execution_count": null,
   "id": "7b21ab45",
   "metadata": {},
   "outputs": [],
   "source": [
    "#code here"
   ]
  },
  {
   "cell_type": "markdown",
   "id": "43836f36",
   "metadata": {},
   "source": [
    "3. Write code to display the pattern below:\n",
    "\n",
    "```python    \n",
    "*\n",
    "**\n",
    "***\n",
    "****\n",
    "```\n",
    "\n",
    "\n",
    "**Talk to your neighbor about your thought process**"
   ]
  },
  {
   "cell_type": "code",
   "execution_count": null,
   "id": "1294e7af",
   "metadata": {},
   "outputs": [],
   "source": [
    "#code here"
   ]
  },
  {
   "cell_type": "markdown",
   "id": "09e787b0",
   "metadata": {},
   "source": [
    "4. Write code to display the pattern below:\n",
    "\n",
    "```python    \n",
    "1\n",
    "12\n",
    "123\n",
    "1234\n",
    "```\n",
    "\n",
    "**Talk to your neighbor about your thought process**"
   ]
  },
  {
   "cell_type": "code",
   "execution_count": null,
   "id": "9e1aa30a",
   "metadata": {},
   "outputs": [],
   "source": []
  }
 ],
 "metadata": {
  "kernelspec": {
   "display_name": "Python 3 (ipykernel)",
   "language": "python",
   "name": "python3"
  },
  "language_info": {
   "codemirror_mode": {
    "name": "ipython",
    "version": 3
   },
   "file_extension": ".py",
   "mimetype": "text/x-python",
   "name": "python",
   "nbconvert_exporter": "python",
   "pygments_lexer": "ipython3",
   "version": "3.9.12"
  }
 },
 "nbformat": 4,
 "nbformat_minor": 5
}
