{
 "cells": [
  {
   "cell_type": "code",
   "execution_count": 2,
   "id": "5749e9ba",
   "metadata": {
    "hideCode": false,
    "hidePrompt": false,
    "slideshow": {
     "slide_type": "skip"
    }
   },
   "outputs": [],
   "source": [
    "import numpy as np\n",
    "import pandas as pd\n",
    "\n",
    "%matplotlib inline\n",
    "import matplotlib.pyplot as plt\n",
    "plt.style.use('fivethirtyeight')"
   ]
  },
  {
   "cell_type": "markdown",
   "id": "a45e7fde",
   "metadata": {
    "cell_style": "center",
    "hideCode": false,
    "hidePrompt": false,
    "slideshow": {
     "slide_type": "slide"
    },
    "tags": [
     "hide_code"
    ]
   },
   "source": [
    "<center> \n",
    "\n",
    "# Introduction to Statistics\n",
    "\n",
    "## Amanda R. Kube Jotte\n",
    "    \n",
    "<img src=\"https://raw.githubusercontent.com/amandakube/Data118LectureImages/main/DSSI.png\" width=\"800\">\n",
    "    \n",
    "</center>"
   ]
  },
  {
   "cell_type": "markdown",
   "id": "739c6a99",
   "metadata": {
    "slideshow": {
     "slide_type": "slide"
    }
   },
   "source": [
    "## Remember those penguins?\n",
    "\n",
    "<center>\n",
    "<img src=\"https://pbs.twimg.com/media/EaAWkZ0U4AA1CQf?format=jpg&name=4096x4096\" width=\"900\">\n",
    "</center>"
   ]
  },
  {
   "cell_type": "code",
   "execution_count": 11,
   "id": "0fdd028c",
   "metadata": {
    "hideCode": false,
    "hidePrompt": false,
    "slideshow": {
     "slide_type": "slide"
    }
   },
   "outputs": [
    {
     "data": {
      "text/html": [
       "<div>\n",
       "<style scoped>\n",
       "    .dataframe tbody tr th:only-of-type {\n",
       "        vertical-align: middle;\n",
       "    }\n",
       "\n",
       "    .dataframe tbody tr th {\n",
       "        vertical-align: top;\n",
       "    }\n",
       "\n",
       "    .dataframe thead th {\n",
       "        text-align: right;\n",
       "    }\n",
       "</style>\n",
       "<table border=\"1\" class=\"dataframe\">\n",
       "  <thead>\n",
       "    <tr style=\"text-align: right;\">\n",
       "      <th></th>\n",
       "      <th>species</th>\n",
       "      <th>island</th>\n",
       "      <th>culmen_length_mm</th>\n",
       "      <th>culmen_depth_mm</th>\n",
       "      <th>flipper_length_mm</th>\n",
       "      <th>body_mass_g</th>\n",
       "      <th>sex</th>\n",
       "    </tr>\n",
       "  </thead>\n",
       "  <tbody>\n",
       "    <tr>\n",
       "      <th>0</th>\n",
       "      <td>Adelie</td>\n",
       "      <td>Torgersen</td>\n",
       "      <td>39.1</td>\n",
       "      <td>18.7</td>\n",
       "      <td>181.0</td>\n",
       "      <td>3750.0</td>\n",
       "      <td>MALE</td>\n",
       "    </tr>\n",
       "    <tr>\n",
       "      <th>1</th>\n",
       "      <td>Adelie</td>\n",
       "      <td>Torgersen</td>\n",
       "      <td>39.5</td>\n",
       "      <td>17.4</td>\n",
       "      <td>186.0</td>\n",
       "      <td>3800.0</td>\n",
       "      <td>FEMALE</td>\n",
       "    </tr>\n",
       "    <tr>\n",
       "      <th>2</th>\n",
       "      <td>Adelie</td>\n",
       "      <td>Torgersen</td>\n",
       "      <td>40.3</td>\n",
       "      <td>18.0</td>\n",
       "      <td>195.0</td>\n",
       "      <td>3250.0</td>\n",
       "      <td>FEMALE</td>\n",
       "    </tr>\n",
       "    <tr>\n",
       "      <th>3</th>\n",
       "      <td>Adelie</td>\n",
       "      <td>Torgersen</td>\n",
       "      <td>NaN</td>\n",
       "      <td>NaN</td>\n",
       "      <td>NaN</td>\n",
       "      <td>NaN</td>\n",
       "      <td>NaN</td>\n",
       "    </tr>\n",
       "    <tr>\n",
       "      <th>4</th>\n",
       "      <td>Adelie</td>\n",
       "      <td>Torgersen</td>\n",
       "      <td>36.7</td>\n",
       "      <td>19.3</td>\n",
       "      <td>193.0</td>\n",
       "      <td>3450.0</td>\n",
       "      <td>FEMALE</td>\n",
       "    </tr>\n",
       "    <tr>\n",
       "      <th>5</th>\n",
       "      <td>Adelie</td>\n",
       "      <td>Torgersen</td>\n",
       "      <td>39.3</td>\n",
       "      <td>20.6</td>\n",
       "      <td>190.0</td>\n",
       "      <td>3650.0</td>\n",
       "      <td>MALE</td>\n",
       "    </tr>\n",
       "    <tr>\n",
       "      <th>6</th>\n",
       "      <td>Adelie</td>\n",
       "      <td>Torgersen</td>\n",
       "      <td>38.9</td>\n",
       "      <td>17.8</td>\n",
       "      <td>181.0</td>\n",
       "      <td>3625.0</td>\n",
       "      <td>FEMALE</td>\n",
       "    </tr>\n",
       "    <tr>\n",
       "      <th>7</th>\n",
       "      <td>Adelie</td>\n",
       "      <td>Torgersen</td>\n",
       "      <td>39.2</td>\n",
       "      <td>19.6</td>\n",
       "      <td>195.0</td>\n",
       "      <td>4675.0</td>\n",
       "      <td>MALE</td>\n",
       "    </tr>\n",
       "    <tr>\n",
       "      <th>8</th>\n",
       "      <td>Adelie</td>\n",
       "      <td>Torgersen</td>\n",
       "      <td>34.1</td>\n",
       "      <td>18.1</td>\n",
       "      <td>193.0</td>\n",
       "      <td>3475.0</td>\n",
       "      <td>NaN</td>\n",
       "    </tr>\n",
       "    <tr>\n",
       "      <th>9</th>\n",
       "      <td>Adelie</td>\n",
       "      <td>Torgersen</td>\n",
       "      <td>42.0</td>\n",
       "      <td>20.2</td>\n",
       "      <td>190.0</td>\n",
       "      <td>4250.0</td>\n",
       "      <td>NaN</td>\n",
       "    </tr>\n",
       "  </tbody>\n",
       "</table>\n",
       "</div>"
      ],
      "text/plain": [
       "  species     island  culmen_length_mm  culmen_depth_mm  flipper_length_mm   \n",
       "0  Adelie  Torgersen              39.1             18.7              181.0  \\\n",
       "1  Adelie  Torgersen              39.5             17.4              186.0   \n",
       "2  Adelie  Torgersen              40.3             18.0              195.0   \n",
       "3  Adelie  Torgersen               NaN              NaN                NaN   \n",
       "4  Adelie  Torgersen              36.7             19.3              193.0   \n",
       "5  Adelie  Torgersen              39.3             20.6              190.0   \n",
       "6  Adelie  Torgersen              38.9             17.8              181.0   \n",
       "7  Adelie  Torgersen              39.2             19.6              195.0   \n",
       "8  Adelie  Torgersen              34.1             18.1              193.0   \n",
       "9  Adelie  Torgersen              42.0             20.2              190.0   \n",
       "\n",
       "   body_mass_g     sex  \n",
       "0       3750.0    MALE  \n",
       "1       3800.0  FEMALE  \n",
       "2       3250.0  FEMALE  \n",
       "3          NaN     NaN  \n",
       "4       3450.0  FEMALE  \n",
       "5       3650.0    MALE  \n",
       "6       3625.0  FEMALE  \n",
       "7       4675.0    MALE  \n",
       "8       3475.0     NaN  \n",
       "9       4250.0     NaN  "
      ]
     },
     "execution_count": 11,
     "metadata": {},
     "output_type": "execute_result"
    }
   ],
   "source": [
    "penguins = pd.read_csv(\"https://raw.githubusercontent.com/amandakube/Data118LectureImages/main/penguins_size.csv\")\n",
    "penguins.head(10)"
   ]
  },
  {
   "cell_type": "code",
   "execution_count": 13,
   "id": "ef580460",
   "metadata": {
    "slideshow": {
     "slide_type": "fragment"
    }
   },
   "outputs": [
    {
     "data": {
      "text/plain": [
       "(344, 7)"
      ]
     },
     "execution_count": 13,
     "metadata": {},
     "output_type": "execute_result"
    }
   ],
   "source": [
    "penguins.shape"
   ]
  },
  {
   "cell_type": "markdown",
   "id": "bcd287fb",
   "metadata": {
    "slideshow": {
     "slide_type": "slide"
    }
   },
   "source": [
    "## I just learned what a culmen is and now I'm interested\n",
    "\n",
    "What is the average culmen length in millimeters for a penguin in this dataset?"
   ]
  },
  {
   "cell_type": "code",
   "execution_count": 14,
   "id": "74696147",
   "metadata": {
    "slideshow": {
     "slide_type": "fragment"
    }
   },
   "outputs": [
    {
     "data": {
      "text/plain": [
       "43.9219298245614"
      ]
     },
     "execution_count": 14,
     "metadata": {},
     "output_type": "execute_result"
    }
   ],
   "source": [
    "penguins.culmen_length_mm.mean()"
   ]
  },
  {
   "cell_type": "markdown",
   "id": "bee7821f",
   "metadata": {
    "slideshow": {
     "slide_type": "slide"
    }
   },
   "source": [
    "## It's cold in Antarctica!\n",
    "\n",
    "I dont want to stay long enough to collect data on all 344 penguins..."
   ]
  },
  {
   "cell_type": "markdown",
   "id": "6d1af5b7",
   "metadata": {
    "slideshow": {
     "slide_type": "fragment"
    }
   },
   "source": [
    "Can I learn something about culmen length from fewer penguins?"
   ]
  },
  {
   "cell_type": "markdown",
   "id": "6ef5400a",
   "metadata": {
    "slideshow": {
     "slide_type": "fragment"
    }
   },
   "source": [
    "Imagine our dataset contains all the penguin information that I could gather on those three islands."
   ]
  },
  {
   "cell_type": "markdown",
   "id": "f61e35c0",
   "metadata": {
    "slideshow": {
     "slide_type": "fragment"
    }
   },
   "source": [
    "I go to the islands and stay until I've measured 100 penguins."
   ]
  },
  {
   "cell_type": "markdown",
   "id": "90343232",
   "metadata": {
    "slideshow": {
     "slide_type": "slide"
    }
   },
   "source": [
    "Pandas has a method `.sample()` that randomly selects rows from a dataframe."
   ]
  },
  {
   "cell_type": "code",
   "execution_count": 15,
   "id": "1bfd77b2",
   "metadata": {
    "slideshow": {
     "slide_type": "fragment"
    }
   },
   "outputs": [
    {
     "data": {
      "text/html": [
       "<div>\n",
       "<style scoped>\n",
       "    .dataframe tbody tr th:only-of-type {\n",
       "        vertical-align: middle;\n",
       "    }\n",
       "\n",
       "    .dataframe tbody tr th {\n",
       "        vertical-align: top;\n",
       "    }\n",
       "\n",
       "    .dataframe thead th {\n",
       "        text-align: right;\n",
       "    }\n",
       "</style>\n",
       "<table border=\"1\" class=\"dataframe\">\n",
       "  <thead>\n",
       "    <tr style=\"text-align: right;\">\n",
       "      <th></th>\n",
       "      <th>species</th>\n",
       "      <th>island</th>\n",
       "      <th>culmen_length_mm</th>\n",
       "      <th>culmen_depth_mm</th>\n",
       "      <th>flipper_length_mm</th>\n",
       "      <th>body_mass_g</th>\n",
       "      <th>sex</th>\n",
       "    </tr>\n",
       "  </thead>\n",
       "  <tbody>\n",
       "    <tr>\n",
       "      <th>85</th>\n",
       "      <td>Adelie</td>\n",
       "      <td>Dream</td>\n",
       "      <td>41.3</td>\n",
       "      <td>20.3</td>\n",
       "      <td>194.0</td>\n",
       "      <td>3550.0</td>\n",
       "      <td>MALE</td>\n",
       "    </tr>\n",
       "    <tr>\n",
       "      <th>274</th>\n",
       "      <td>Gentoo</td>\n",
       "      <td>Biscoe</td>\n",
       "      <td>46.5</td>\n",
       "      <td>14.4</td>\n",
       "      <td>217.0</td>\n",
       "      <td>4900.0</td>\n",
       "      <td>FEMALE</td>\n",
       "    </tr>\n",
       "    <tr>\n",
       "      <th>159</th>\n",
       "      <td>Chinstrap</td>\n",
       "      <td>Dream</td>\n",
       "      <td>51.3</td>\n",
       "      <td>18.2</td>\n",
       "      <td>197.0</td>\n",
       "      <td>3750.0</td>\n",
       "      <td>MALE</td>\n",
       "    </tr>\n",
       "    <tr>\n",
       "      <th>326</th>\n",
       "      <td>Gentoo</td>\n",
       "      <td>Biscoe</td>\n",
       "      <td>41.7</td>\n",
       "      <td>14.7</td>\n",
       "      <td>210.0</td>\n",
       "      <td>4700.0</td>\n",
       "      <td>FEMALE</td>\n",
       "    </tr>\n",
       "    <tr>\n",
       "      <th>29</th>\n",
       "      <td>Adelie</td>\n",
       "      <td>Biscoe</td>\n",
       "      <td>40.5</td>\n",
       "      <td>18.9</td>\n",
       "      <td>180.0</td>\n",
       "      <td>3950.0</td>\n",
       "      <td>MALE</td>\n",
       "    </tr>\n",
       "  </tbody>\n",
       "</table>\n",
       "</div>"
      ],
      "text/plain": [
       "       species  island  culmen_length_mm  culmen_depth_mm  flipper_length_mm   \n",
       "85      Adelie   Dream              41.3             20.3              194.0  \\\n",
       "274     Gentoo  Biscoe              46.5             14.4              217.0   \n",
       "159  Chinstrap   Dream              51.3             18.2              197.0   \n",
       "326     Gentoo  Biscoe              41.7             14.7              210.0   \n",
       "29      Adelie  Biscoe              40.5             18.9              180.0   \n",
       "\n",
       "     body_mass_g     sex  \n",
       "85        3550.0    MALE  \n",
       "274       4900.0  FEMALE  \n",
       "159       3750.0    MALE  \n",
       "326       4700.0  FEMALE  \n",
       "29        3950.0    MALE  "
      ]
     },
     "execution_count": 15,
     "metadata": {},
     "output_type": "execute_result"
    }
   ],
   "source": [
    "# Imagine this is the data I gather\n",
    "my_sample = penguins.sample(100)\n",
    "my_sample.head()"
   ]
  },
  {
   "cell_type": "code",
   "execution_count": 16,
   "id": "cfd7eb5c",
   "metadata": {
    "slideshow": {
     "slide_type": "fragment"
    }
   },
   "outputs": [
    {
     "data": {
      "text/plain": [
       "43.82653061224491"
      ]
     },
     "execution_count": 16,
     "metadata": {},
     "output_type": "execute_result"
    }
   ],
   "source": [
    "my_sample.culmen_length_mm.mean() # Is this a good estimate?"
   ]
  },
  {
   "cell_type": "markdown",
   "id": "a22db6f2",
   "metadata": {
    "slideshow": {
     "slide_type": "slide"
    }
   },
   "source": [
    "## Let's explore further..."
   ]
  },
  {
   "cell_type": "markdown",
   "id": "3e3519a6",
   "metadata": {
    "slideshow": {
     "slide_type": "fragment"
    }
   },
   "source": [
    "Split into 6 groups"
   ]
  },
  {
   "cell_type": "markdown",
   "id": "f88b30a8",
   "metadata": {
    "slideshow": {
     "slide_type": "fragment"
    }
   },
   "source": [
    "Repeat this experiment 1000 times (use a for loop!) and create a histogram of your results. When finished, save your histogram and send to `akube@uchicago.edu` with your group number in the subject so I can share with the class."
   ]
  },
  {
   "cell_type": "markdown",
   "id": "dfba745c",
   "metadata": {
    "slideshow": {
     "slide_type": "fragment"
    }
   },
   "source": [
    "Group 1: Use the `.sample()` method to randomly choose 100 penguins\n",
    "\n",
    "Group 2: Use the `.sample()` method to randomly choose 50 penguins\n",
    "\n",
    "Group 3: Use the `.sample()` method to randomly choose 10 penguins\n",
    "\n",
    "Group 4: Use the `.sample()` method to randomly choose 50 penguins from **only Adelie penguins**\n",
    "\n",
    "Group 5: Use the `.sample()` method to randomly choose 50 penguins from **only male penguins**\n",
    "\n",
    "Group 6: Use the `.sample()` method to randomly choose 50 penguins from **only penguins living on Dream**"
   ]
  },
  {
   "cell_type": "code",
   "execution_count": null,
   "id": "8d62f078",
   "metadata": {
    "slideshow": {
     "slide_type": "skip"
    }
   },
   "outputs": [],
   "source": [
    "# sample code for your experiment, fill in the missing pieces\n",
    "\n",
    "outcomes = ...\n",
    "\n",
    "for ...:\n",
    "    ...\n",
    "    \n",
    "plt.hist(...)\n",
    "plt.title(\"...\")\n",
    "\n",
    "#do not change code below!\n",
    "plt.xlim([38, 50])\n",
    "plt.scatter(penguins.culmen_length_mm.mean(), -5, color='red', s=30)\n",
    "plt.xlabel(\"Average Culmen Length (mm)\")\n",
    "plt.ylabel(\"Frequency\");"
   ]
  },
  {
   "cell_type": "markdown",
   "id": "e501b433",
   "metadata": {
    "slideshow": {
     "slide_type": "slide"
    }
   },
   "source": [
    "Let's look at your results:"
   ]
  },
  {
   "cell_type": "markdown",
   "id": "59cbf463",
   "metadata": {
    "cell_style": "split"
   },
   "source": [
    "Group 1: Use the `.sample()` method to randomly choose 100 penguins\n",
    "\n",
    "<center>\n",
    "<img src=\"\" width=\"700\">\n",
    "</center>"
   ]
  },
  {
   "cell_type": "markdown",
   "id": "5311dca2",
   "metadata": {
    "cell_style": "split"
   },
   "source": [
    "Group 2: Use the `.sample()` method to randomly choose 50 penguins\n",
    "\n",
    "<center>\n",
    "<img src=\"\" width=\"700\">\n",
    "</center>"
   ]
  },
  {
   "cell_type": "markdown",
   "id": "936882a5",
   "metadata": {
    "cell_style": "split"
   },
   "source": [
    "Group 3: Use the `.sample()` method to randomly choose 10 penguins\n",
    "\n",
    "<center>\n",
    "<img src=\"\" width=\"700\">\n",
    "</center>"
   ]
  },
  {
   "cell_type": "markdown",
   "id": "ed09b601",
   "metadata": {
    "cell_style": "split"
   },
   "source": [
    "Group 4: Use the `.sample()` method to randomly choose 50 penguins from **only Adelie penguins**\n",
    "\n",
    "<center>\n",
    "<img src=\"\" width=\"700\">\n",
    "</center>"
   ]
  },
  {
   "cell_type": "markdown",
   "id": "bb84a2c5",
   "metadata": {
    "cell_style": "split"
   },
   "source": [
    "Group 5: Use the `.sample()` method to randomly choose 50 penguins from **only male penguins**\n",
    "\n",
    "<center>\n",
    "<img src=\"\" width=\"700\">\n",
    "</center>"
   ]
  },
  {
   "cell_type": "markdown",
   "id": "12058124",
   "metadata": {
    "cell_style": "split"
   },
   "source": [
    "Group 6: Use the `.sample()` method to randomly choose 50 penguins from **only penguins living on Dream**\n",
    "\n",
    "<center>\n",
    "<img src=\"\" width=\"700\">\n",
    "</center>"
   ]
  },
  {
   "cell_type": "markdown",
   "id": "7f56f7d2",
   "metadata": {
    "slideshow": {
     "slide_type": "fragment"
    }
   },
   "source": [
    "## Which samples were more consistent with our true average culmen length? Why?"
   ]
  },
  {
   "cell_type": "markdown",
   "id": "38f41980",
   "metadata": {
    "slideshow": {
     "slide_type": "slide"
    }
   },
   "source": [
    "## What you just did is the basis for the whole concept of statistical inference!\n",
    "\n",
    "We have some **population** we want to learn about - all penguins\n",
    "\n",
    "We can't (infeasible, expensive, impossible) measure the whole population - **census**\n",
    "\n",
    "We can measure a smaller portion, or **sample**, of that population"
   ]
  },
  {
   "cell_type": "markdown",
   "id": "550d45a3",
   "metadata": {
    "slideshow": {
     "slide_type": "fragment"
    }
   },
   "source": [
    "What we want to calculate/know about a **p**opulation is called the **parameter**\n",
    "\n",
    "We estimate the parameter by calculating this on the **s**ample instead - a **statistic**"
   ]
  },
  {
   "cell_type": "markdown",
   "id": "e40ef219",
   "metadata": {
    "slideshow": {
     "slide_type": "fragment"
    }
   },
   "source": [
    "What was our statistic in the activity?"
   ]
  },
  {
   "cell_type": "markdown",
   "id": "4bcbb428",
   "metadata": {
    "slideshow": {
     "slide_type": "fragment"
    }
   },
   "source": [
    "What was our parameter?"
   ]
  },
  {
   "cell_type": "markdown",
   "id": "c0587edb",
   "metadata": {
    "slideshow": {
     "slide_type": "fragment"
    }
   },
   "source": [
    "Which experiment gave the best estimates of our parameter? Why?"
   ]
  },
  {
   "cell_type": "markdown",
   "id": "6cc9986e",
   "metadata": {
    "slideshow": {
     "slide_type": "fragment"
    }
   },
   "source": [
    "We will dig further into this in the morning and talk about what makes a **representative** sample!"
   ]
  },
  {
   "cell_type": "markdown",
   "id": "8aa414f2",
   "metadata": {
    "slideshow": {
     "slide_type": "skip"
    }
   },
   "source": []
  }
 ],
 "metadata": {
  "celltoolbar": "Slideshow",
  "hide_code_all_hidden": false,
  "kernelspec": {
   "display_name": "Python 3 (ipykernel)",
   "language": "python",
   "name": "python3"
  },
  "language_info": {
   "codemirror_mode": {
    "name": "ipython",
    "version": 3
   },
   "file_extension": ".py",
   "mimetype": "text/x-python",
   "name": "python",
   "nbconvert_exporter": "python",
   "pygments_lexer": "ipython3",
   "version": "3.10.9"
  },
  "latex_envs": {
   "LaTeX_envs_menu_present": true,
   "autoclose": false,
   "autocomplete": true,
   "bibliofile": "biblio.bib",
   "cite_by": "apalike",
   "current_citInitial": 1,
   "eqLabelWithNumbers": true,
   "eqNumInitial": 1,
   "hotkeys": {
    "equation": "Ctrl-E",
    "itemize": "Ctrl-I"
   },
   "labels_anchors": false,
   "latex_user_defs": false,
   "report_style_numbering": false,
   "user_envs_cfg": false
  },
  "rise": {
   "scroll": true
  },
  "toc": {
   "base_numbering": 1,
   "nav_menu": {},
   "number_sections": false,
   "sideBar": true,
   "skip_h1_title": false,
   "title_cell": "Table of Contents",
   "title_sidebar": "Contents",
   "toc_cell": false,
   "toc_position": {
    "height": "calc(100% - 180px)",
    "left": "10px",
    "top": "150px",
    "width": "165px"
   },
   "toc_section_display": true,
   "toc_window_display": false
  }
 },
 "nbformat": 4,
 "nbformat_minor": 5
}
