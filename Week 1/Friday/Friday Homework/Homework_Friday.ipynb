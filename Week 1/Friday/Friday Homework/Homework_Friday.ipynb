{
 "cells": [
  {
   "cell_type": "markdown",
   "metadata": {
    "id": "y8T7s95P0j-w"
   },
   "source": [
    "## Data Science for Social Impact \n",
    "# Homework Friday: Linear Regression and Reflection\n",
    "\n",
    "Please complete this notebook by filling in the cells provided. The solved homework should be uploaded to Gradescope on Canvas."
   ]
  },
  {
   "cell_type": "markdown",
   "metadata": {
    "id": "PWfyI6Qk0j-0"
   },
   "source": [
    "#### Deadline:\n",
    "\n",
    "This assignment is due on **Sunday at 11:30pm**.\n",
    "\n",
    "Directly sharing answers is not okay, but discussing problems with eachother is encouraged!\n"
   ]
  },
  {
   "cell_type": "code",
   "execution_count": null,
   "metadata": {
    "id": "M-ftgmNO0j-0"
   },
   "outputs": [],
   "source": [
    "# Don't change this cell; just run it. \n",
    "\n",
    "import numpy as np\n",
    "import pandas as pd\n",
    "from scipy import stats\n",
    "from sklearn.linear_model import LinearRegression\n",
    "\n",
    "from matplotlib import pyplot as plt\n",
    "plt.style.use('fivethirtyeight')"
   ]
  },
  {
   "cell_type": "markdown",
   "metadata": {},
   "source": [
    "1. Who did you work with on your homework?"
   ]
  },
  {
   "cell_type": "code",
   "execution_count": null,
   "metadata": {},
   "outputs": [],
   "source": []
  },
  {
   "cell_type": "markdown",
   "metadata": {},
   "source": [
    "2. Provide a brief self reflection. What did you think of the homework? Were there any particular problems that caused issues? How well did you work with your group? Did you utilize the TA's office hours?"
   ]
  },
  {
   "cell_type": "code",
   "execution_count": null,
   "metadata": {},
   "outputs": [],
   "source": []
  },
  {
   "cell_type": "markdown",
   "metadata": {},
   "source": [
    "3. Provide a time estimate of how long you took on the homework."
   ]
  },
  {
   "cell_type": "code",
   "execution_count": null,
   "metadata": {},
   "outputs": [],
   "source": []
  },
  {
   "cell_type": "markdown",
   "metadata": {},
   "source": [
    "4. What is something from Week 1 that you enjoyed?"
   ]
  },
  {
   "cell_type": "code",
   "execution_count": null,
   "metadata": {},
   "outputs": [],
   "source": []
  },
  {
   "cell_type": "markdown",
   "metadata": {},
   "source": [
    "5. What is something from Week 1 that you did not enjoy?"
   ]
  },
  {
   "cell_type": "code",
   "execution_count": null,
   "metadata": {},
   "outputs": [],
   "source": []
  },
  {
   "cell_type": "markdown",
   "metadata": {},
   "source": [
    "6. What is something you feel confident about regarding the material in Week 1?"
   ]
  },
  {
   "cell_type": "code",
   "execution_count": null,
   "metadata": {},
   "outputs": [],
   "source": []
  },
  {
   "cell_type": "markdown",
   "metadata": {},
   "source": [
    "7. What is something you feel struggled with regarding the material in Week 1?"
   ]
  },
  {
   "cell_type": "code",
   "execution_count": null,
   "metadata": {},
   "outputs": [],
   "source": []
  },
  {
   "cell_type": "markdown",
   "metadata": {},
   "source": [
    "8. Reflection on the week. How do you feel after completing Week 1? Is there anything you want us to know? "
   ]
  },
  {
   "cell_type": "code",
   "execution_count": null,
   "metadata": {},
   "outputs": [],
   "source": []
  },
  {
   "cell_type": "markdown",
   "metadata": {
    "id": "hEcfUD9zR8sw"
   },
   "source": [
    "## Testing on Medical Data\n",
    "\n",
    "Load and familiarize yourself with the data file `diabetes_full.csv`. This data comes in part from Kaggle (I have made a few additions) and has the following description:\n",
    "\n",
    "The Diabetes prediction dataset is a collection of medical and demographic data from patients, along with their diabetes status (positive or negative). The data includes features such as age, gender, body mass index (BMI), hypertension, heart disease, smoking history, HbA1c level, and blood glucose level. This dataset can be used to build machine learning models to predict diabetes in patients based on their medical history and demographic information. This can be useful for healthcare professionals in identifying patients who may be at risk of developing diabetes and in developing personalized treatment plans. Additionally, the dataset can be used by researchers to explore the relationships between various medical and demographic factors and the likelihood of developing diabetes."
   ]
  },
  {
   "cell_type": "code",
   "execution_count": null,
   "metadata": {
    "id": "ZhpeCJkT7ErR"
   },
   "outputs": [],
   "source": [
    "# Use this cell to read in your data and inspect the first and last few lines"
   ]
  },
  {
   "cell_type": "markdown",
   "metadata": {
    "id": "s-d3EF1Y_UsQ"
   },
   "source": [
    "**Question 1.** I am curious which of these variables is most closely related with developing diabetes.\n",
    "\n",
    "**a)** Can I test this using linear regression? Why or why not?"
   ]
  },
  {
   "cell_type": "markdown",
   "metadata": {
    "id": "iwlBinRw_UsQ"
   },
   "source": [
    "Replace this text with your answer"
   ]
  },
  {
   "cell_type": "markdown",
   "metadata": {
    "id": "Wmhu9ZzM_UsQ"
   },
   "source": [
    "**b)** What is a question you could answer using linear regression on this dataset? (Do not look ahead, use one of your own)"
   ]
  },
  {
   "cell_type": "markdown",
   "metadata": {
    "id": "_GhWrM-g_UsQ"
   },
   "source": [
    "Replace this text with your answer"
   ]
  },
  {
   "cell_type": "markdown",
   "metadata": {
    "id": "vPr2ECMb_UsQ"
   },
   "source": [
    "**c)** Look at only data from 2021. Find the least squares regression line for age and bmi and plot the line on a scatterplot of the data. Is there a linear relationship between age and bmi? If so, characterize the trend (is it strong, positive, negative, etc)."
   ]
  },
  {
   "cell_type": "code",
   "execution_count": null,
   "metadata": {
    "id": "2h4Zym8-AQTz"
   },
   "outputs": [],
   "source": [
    "# Your code here"
   ]
  },
  {
   "cell_type": "markdown",
   "metadata": {
    "id": "vaLfwOKg_UsQ"
   },
   "source": [
    "Replace this text with your answer"
   ]
  },
  {
   "cell_type": "markdown",
   "metadata": {
    "id": "8Mtrtk1vBw1B"
   },
   "source": [
    "**d)** A patient comes in who is a 65 year old male with a blood glucose level of 158. What would you predict his bmi to be using your model from part c? What about from part d? What do you conclude about predicting bmi from age or blood glucose?"
   ]
  },
  {
   "cell_type": "code",
   "execution_count": null,
   "metadata": {
    "id": "5U6ISh4eCSqR"
   },
   "outputs": [],
   "source": [
    "# Your code here"
   ]
  },
  {
   "cell_type": "code",
   "execution_count": null,
   "metadata": {
    "id": "2AFtMAtr2vmJ"
   },
   "outputs": [],
   "source": []
  },
  {
   "cell_type": "markdown",
   "metadata": {
    "id": "NqOY36jOCSqS"
   },
   "source": [
    "Replace this text with your answer"
   ]
  }
 ],
 "metadata": {
  "colab": {
   "provenance": []
  },
  "kernelspec": {
   "display_name": "Python 3 (ipykernel)",
   "language": "python",
   "name": "python3"
  },
  "language_info": {
   "codemirror_mode": {
    "name": "ipython",
    "version": 3
   },
   "file_extension": ".py",
   "mimetype": "text/x-python",
   "name": "python",
   "nbconvert_exporter": "python",
   "pygments_lexer": "ipython3",
   "version": "3.9.12"
  }
 },
 "nbformat": 4,
 "nbformat_minor": 1
}
