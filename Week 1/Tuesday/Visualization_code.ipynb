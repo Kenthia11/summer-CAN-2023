{
 "cells": [
  {
   "cell_type": "markdown",
   "metadata": {},
   "source": [
    "# Visualization Introduction\n",
    "\n",
    "Tuesday, June 13 2023\n",
    "\n",
    "Notebook Author: Susanna Lange, PhD"
   ]
  },
  {
   "cell_type": "markdown",
   "metadata": {
    "slideshow": {
     "slide_type": "slide"
    }
   },
   "source": [
    "## Goals\n",
    "\n",
    " - Visualization introduction\n",
    " \n",
    " \n",
    " - communicating your data \n",
    "    "
   ]
  },
  {
   "cell_type": "markdown",
   "metadata": {
    "slideshow": {
     "slide_type": "slide"
    }
   },
   "source": [
    "## Visualization...What not to do"
   ]
  },
  {
   "cell_type": "markdown",
   "metadata": {
    "slideshow": {
     "slide_type": "fragment"
    }
   },
   "source": [
    "<div style=\"width: 50%; height: 50%\">\n",
    "    \n",
    "![](images/cnn.png)\n",
    "</div>"
   ]
  },
  {
   "cell_type": "markdown",
   "metadata": {
    "slideshow": {
     "slide_type": "slide"
    }
   },
   "source": [
    "<div style=\"width: 50%; height: 50%\">\n",
    "    \n",
    "![](images/fox_2.png)\n",
    "</div>"
   ]
  },
  {
   "cell_type": "markdown",
   "metadata": {
    "slideshow": {
     "slide_type": "slide"
    }
   },
   "source": [
    "<div style=\"width: 50%; height: 50%\">\n",
    "    \n",
    "![](images/bad_pie.png)\n",
    "</div>"
   ]
  },
  {
   "cell_type": "markdown",
   "metadata": {},
   "source": [
    "<div style=\"width: 50%; height: 50%\">\n",
    "    \n",
    "![](images/graph_studentstress.png)\n",
    "</div>"
   ]
  },
  {
   "cell_type": "markdown",
   "metadata": {
    "slideshow": {
     "slide_type": "slide"
    }
   },
   "source": [
    "<div style=\"width: 50%; height: 50%\">\n",
    "    \n",
    "![](images/bad_area.png)\n",
    "</div>"
   ]
  },
  {
   "cell_type": "markdown",
   "metadata": {},
   "source": [
    "<div style=\"width: 50%; height: 50%\">\n",
    "    \n",
    "![](images/graph_time2.png)\n",
    "</div>"
   ]
  },
  {
   "cell_type": "markdown",
   "metadata": {
    "slideshow": {
     "slide_type": "slide"
    }
   },
   "source": [
    "<div style=\"width: 70%; height: 70%\">\n",
    "    \n",
    "![](images/cps_part1.png)\n",
    "</div>"
   ]
  },
  {
   "cell_type": "markdown",
   "metadata": {
    "slideshow": {
     "slide_type": "slide"
    }
   },
   "source": [
    "<div style=\"width: 70%; height: 70%\">\n",
    "    \n",
    "![](images/cps_part2.png)\n",
    "</div>"
   ]
  },
  {
   "cell_type": "markdown",
   "metadata": {},
   "source": [
    "### Important Take-aways!\n",
    "\n",
    "- Be thoughtful about *who* your visualization is for\n",
    "\n",
    "- Present your data in a clear way\n",
    "\n",
    "    - title\n",
    "    \n",
    "    - labels\n"
   ]
  },
  {
   "cell_type": "markdown",
   "metadata": {
    "slideshow": {
     "slide_type": "slide"
    }
   },
   "source": [
    "## Data Types\n",
    "\n",
    "**Numerical** — Each value is from a fixed scale\n",
    " - Can have *discrete* or *continuous* data\n",
    " \n",
    "\n",
    " \n",
    "- Discrete: finite, countable - integers\n",
    "    - age, number of kids\n",
    "             \n",
    "             \n",
    "\n",
    " \n",
    "- Continuous: infinite, take on any real number in an interval\n",
    "    - income, height, test scores\n",
    "              \n",
    "              \n",
    "\n",
    " \n",
    " - Numerical measurements are ordered\n",
    " - Differences are typically meaningful\n",
    "    \n",
    "\n",
    "    \n"
   ]
  },
  {
   "cell_type": "markdown",
   "metadata": {
    "slideshow": {
     "slide_type": "slide"
    }
   },
   "source": [
    "**Categorical** — Each value is from a fixed inventory\n",
    " - Can have *nominal*  or *ordinal* data\n",
    " \n",
    "\n",
    " \n",
    "    - Nominal: a naming or labeling scale (that is NO natural order is present)\n",
    "        - hair color, names of people\n",
    "                 \n",
    "\n",
    " \n",
    "    - Ordinal: ordered rank (natural order is present)\n",
    "        - Letter grade, customer satisfaction (very satisfied...very dissatisfied), education\n",
    "                 \n",
    "\n",
    " \n",
    "    - Categories are the same or different"
   ]
  },
  {
   "cell_type": "markdown",
   "metadata": {
    "slideshow": {
     "slide_type": "slide"
    }
   },
   "source": [
    "## Numerical Data\n",
    "\n",
    "When working with numerical data, it is usually most appropriate to visualize through \n",
    "\n",
    "- scatter plots\n",
    " \n",
    "- line plots \n",
    " \n",
    "- histograms"
   ]
  },
  {
   "cell_type": "markdown",
   "metadata": {},
   "source": [
    "## Categorical Data\n",
    "\n",
    "When working with categorical data, it is usually most appropriate to visualize through \n",
    "\n",
    "- bar plots\n",
    "\n",
    "- pie charts\n",
    " \n"
   ]
  },
  {
   "cell_type": "markdown",
   "metadata": {
    "slideshow": {
     "slide_type": "slide"
    }
   },
   "source": [
    "## For Numerical data\n",
    "- **Line plots**\n",
    "\n",
    "    - useful when the x-axis is ordered (e.g., time data)\n",
    "\n",
    "\n",
    "- **Scatter plots** \n",
    "\n",
    "    - useful for comparing two dimensional data"
   ]
  },
  {
   "cell_type": "markdown",
   "metadata": {
    "slideshow": {
     "slide_type": "slide"
    }
   },
   "source": [
    "## Line Graphs\n",
    "\n",
    "\n",
    "\n",
    "\n",
    "\n",
    "- Best to show numerical values over a continuous interval or over time\n",
    "\n",
    "\n",
    "\n",
    "- Nice way to show trends\n",
    "\n",
    "\n",
    "\n",
    "\n",
    "- One output for each input\n",
    "\n",
    "\n",
    "\n",
    "![](images/line_graph.png)\n",
    "\n",
    "\n",
    "\n",
    "\n",
    "\n",
    "\n"
   ]
  },
  {
   "cell_type": "markdown",
   "metadata": {
    "slideshow": {
     "slide_type": "slide"
    }
   },
   "source": [
    "### Be aware of possible issues!\n",
    "\n",
    "  \n",
    "![](images/postage.png)\n",
    "\n",
    "\n",
    "\n",
    "\n",
    "\n",
    "\n",
    " \n",
    " - Use consistent interval length\n",
    " \n",
    "\n",
    "\n",
    " - Use the full axis and do not skip values when working with numerical data"
   ]
  },
  {
   "cell_type": "markdown",
   "metadata": {},
   "source": [
    "![](images/line_graph_basic.png)\n"
   ]
  },
  {
   "cell_type": "markdown",
   "metadata": {
    "slideshow": {
     "slide_type": "slide"
    }
   },
   "source": [
    "\n",
    "![](images/line_yaxis.png)"
   ]
  },
  {
   "cell_type": "markdown",
   "metadata": {
    "slideshow": {
     "slide_type": "slide"
    }
   },
   "source": [
    "## Scatter plots\n",
    "\n",
    "\n",
    "- Best to compare two numerical variables\n",
    "\n",
    "\n",
    "- multiple outputs (potentially) for each input\n",
    "\n",
    "<div style=\"width: 70%; height: 70%\">\n",
    "    \n",
    "![](images/scatter_basic.png)\n",
    "</div>\n"
   ]
  },
  {
   "cell_type": "markdown",
   "metadata": {},
   "source": [
    "<div style=\"width: 70%; height: 70%\">\n",
    "    \n",
    "![](images/scatter_muli.png)\n",
    "</div>"
   ]
  },
  {
   "cell_type": "markdown",
   "metadata": {
    "slideshow": {
     "slide_type": "slide"
    }
   },
   "source": [
    "### Be aware of possible issues\n",
    "\n",
    " - Rounded numerical values (decimal places)\n",
    " \n",
    " -  Inaccurate or not very precise measurements\n",
    " \n",
    "This may cause numerical data to appear categorical!\n",
    "\n",
    "\n",
    "<div style=\"width: 70%; height: 70%\">\n",
    "    \n",
    "![](images/scatter_issues.png)\n",
    "</div>"
   ]
  },
  {
   "cell_type": "markdown",
   "metadata": {},
   "source": [
    "## Histogram\n",
    "\n",
    "\n",
    "- Gather data into bins (numerical range)\n",
    "\n",
    "\n",
    "- A bar in a histogram represents the frequency of that range\n",
    "\n",
    "\n",
    "<div style=\"width: 70%; height: 70%\">\n",
    "    \n",
    "![](images/histogram_ex.png)\n",
    "</div>\n"
   ]
  },
  {
   "cell_type": "markdown",
   "metadata": {},
   "source": [
    "There are 50 trees with height from 250-300 cm.\n"
   ]
  },
  {
   "cell_type": "markdown",
   "metadata": {
    "slideshow": {
     "slide_type": "slide"
    }
   },
   "source": [
    "### Be aware of possible issues\n",
    "\n",
    "Histograms are extremely sensitive to the number of bins!\n",
    "\n",
    "\n",
    ". . .\n",
    "\n",
    "![](images/histogram_diff_bin.png)\n"
   ]
  },
  {
   "cell_type": "markdown",
   "metadata": {
    "slideshow": {
     "slide_type": "slide"
    }
   },
   "source": [
    "## For Categorical Data\n",
    "\n",
    "**Bar plots (bar charts)**\n",
    "\n",
    "- Useful for comparing differences within groups\n",
    "\n",
    "\n",
    "- x-axis shows categories, y-axis shows value scale (could be flipped)\n",
    "\n",
    "**Pie charts**\n",
    "\n",
    " - Useful for representing parts of a whole\n",
    " \n",
    "     - percentages"
   ]
  },
  {
   "cell_type": "markdown",
   "metadata": {
    "slideshow": {
     "slide_type": "slide"
    }
   },
   "source": [
    "## Bar plot\n",
    "\n",
    " - Plots categorical values, where each category gets one bar, length of the bar depicts \"how many?\"\n",
    "\n",
    "<div style=\"width: 70%; height: 70%\">\n",
    "    \n",
    "![](images/bar_chart_movie.png)\n",
    "</div>"
   ]
  },
  {
   "cell_type": "markdown",
   "metadata": {
    "slideshow": {
     "slide_type": "slide"
    }
   },
   "source": [
    "### Be aware of possible issues\n",
    "\n",
    "\n",
    " - Plotting against a nonzero baseline\n",
    "    \n",
    "<div style=\"width: 70%; height: 70%\">\n",
    "  \n",
    "![](images/bar_nonzero.png)\n",
    "</div>   \n",
    " "
   ]
  },
  {
   "cell_type": "markdown",
   "metadata": {},
   "source": [
    " - Replacing bars with images...\n",
    " \n",
    " <div style=\"width: 70%; height: 70%\">\n",
    "  \n",
    "![](images/bar_female.png)\n",
    "</div> "
   ]
  },
  {
   "cell_type": "markdown",
   "metadata": {
    "slideshow": {
     "slide_type": "slide"
    }
   },
   "source": [
    "### Horizontal or Vertical Bars?\n",
    "\n",
    "Useful for long category names\n",
    "\n",
    "\n",
    "  \n",
    "![](images/bar_vert.png)\n"
   ]
  },
  {
   "cell_type": "markdown",
   "metadata": {
    "slideshow": {
     "slide_type": "slide"
    }
   },
   "source": [
    "## Pie chart\n",
    "\n",
    "- showcases parts of a whole\n",
    "\n",
    "- comparing groups to a whole (rather than group to group comparison)\n",
    "\n",
    "- Good practice to include percentages\n",
    "\n",
    " <div style=\"width: 70%; height: 70%\">\n",
    "  \n",
    "![](images/pie_chart.png)\n",
    "</div> \n",
    "\n",
    "\n"
   ]
  },
  {
   "cell_type": "markdown",
   "metadata": {},
   "source": [
    "### Be aware of possible issues\n",
    "\n",
    "\n",
    " - Large number of categories can make this difficult to read!\n",
    "\n",
    " <div style=\"width: 70%; height: 70%\">\n",
    "  \n",
    "![](images/many_pie.png)\n",
    "</div>"
   ]
  },
  {
   "cell_type": "markdown",
   "metadata": {
    "slideshow": {
     "slide_type": "slide"
    }
   },
   "source": [
    " - Trying to compare between groups:\n",
    "\n",
    "<div style=\"width: 70%; height: 70%\">\n",
    "  \n",
    "![](images/pie_vs_bar.png)\n",
    "</div>"
   ]
  },
  {
   "cell_type": "markdown",
   "metadata": {},
   "source": [
    "## Be clear when you have missing data.\n",
    "\n",
    "\n",
    "\n",
    " - Explain the reason why and any limitations.\n",
    " \n",
    "\n",
    "\n",
    "![](images/line_missing.png)\n",
    "\n"
   ]
  },
  {
   "cell_type": "markdown",
   "metadata": {
    "slideshow": {
     "slide_type": "slide"
    }
   },
   "source": [
    "### In general\n",
    "\n",
    " - Your graph highlights important conclusions!\n",
    " \n",
    " - Include a brief description of the data along with your graph. \n",
    " \n",
    " \n",
    "To see varying different types of graphs and a summary of when they might be useful, see:\n",
    "\n",
    "https://datavizcatalogue.com"
   ]
  },
  {
   "cell_type": "markdown",
   "metadata": {
    "slideshow": {
     "slide_type": "slide"
    }
   },
   "source": [
    "### <mark style=\"background-color: Thistle\"> Visualization Activity</mark>\n",
    "\n",
    "In the following graphs, discuss the questions below in groups:\n",
    "    \n",
    "1. What is wrong with the graph\n",
    "\n",
    "2. How might you fix the graph to make the message more clear?"
   ]
  },
  {
   "cell_type": "markdown",
   "metadata": {},
   "source": [
    "<div style=\"width: 50%; height: 50%\">\n",
    "  \n",
    "![](images/graph_video_games.png)\n",
    "</div>"
   ]
  },
  {
   "cell_type": "code",
   "execution_count": null,
   "metadata": {},
   "outputs": [],
   "source": [
    "Answer here"
   ]
  },
  {
   "cell_type": "markdown",
   "metadata": {},
   "source": [
    "<div style=\"width: 50%; height: 50%\">\n",
    "  \n",
    "![](images/line_bad_graph.png)\n",
    "</div>"
   ]
  },
  {
   "cell_type": "markdown",
   "metadata": {},
   "source": [
    "Answer here"
   ]
  },
  {
   "cell_type": "markdown",
   "metadata": {},
   "source": [
    "<div style=\"width: 50%; height: 50%\">\n",
    "  \n",
    "![](images/graph_time.png)\n",
    "</div>    "
   ]
  },
  {
   "cell_type": "code",
   "execution_count": null,
   "metadata": {},
   "outputs": [],
   "source": [
    "Answer here"
   ]
  },
  {
   "cell_type": "markdown",
   "metadata": {},
   "source": [
    "<div style=\"width: 50%; height: 50%\">\n",
    "  \n",
    "![](images/graph_usa.png)\n",
    "</div>    "
   ]
  },
  {
   "cell_type": "markdown",
   "metadata": {},
   "source": [
    "Answer code"
   ]
  },
  {
   "cell_type": "markdown",
   "metadata": {},
   "source": [
    "<div style=\"width: 50%; height: 50%\">\n",
    "  \n",
    "![](images/graph_map.png)\n",
    "</div>    "
   ]
  },
  {
   "cell_type": "markdown",
   "metadata": {},
   "source": [
    "Answer here"
   ]
  },
  {
   "cell_type": "markdown",
   "metadata": {},
   "source": [
    "<div style=\"width: 50%; height: 50%\">\n",
    "  \n",
    "![](images/graph_pies.png)\n",
    "  \n",
    "</div>\n"
   ]
  },
  {
   "cell_type": "markdown",
   "metadata": {},
   "source": [
    "Answer here"
   ]
  }
 ],
 "metadata": {
  "anaconda-cloud": {},
  "celltoolbar": "Slideshow",
  "kernelspec": {
   "display_name": "Python 3 (ipykernel)",
   "language": "python",
   "name": "python3"
  },
  "language_info": {
   "codemirror_mode": {
    "name": "ipython",
    "version": 3
   },
   "file_extension": ".py",
   "mimetype": "text/x-python",
   "name": "python",
   "nbconvert_exporter": "python",
   "pygments_lexer": "ipython3",
   "version": "3.9.12"
  }
 },
 "nbformat": 4,
 "nbformat_minor": 1
}
