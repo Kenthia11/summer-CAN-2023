{
 "cells": [
  {
   "cell_type": "markdown",
   "id": "1c37068f",
   "metadata": {},
   "source": [
    "## Data Science for Social Impact \n",
    "# Homework Tuesday: Working With Dataframes\n",
    "\n",
    "Please complete this notebook by filling in the cells provided. The solved homework should be uploaded to Gradescope on Canvas."
   ]
  },
  {
   "cell_type": "markdown",
   "id": "28d2c70d",
   "metadata": {},
   "source": [
    "#### Deadline:\n",
    "\n",
    "This assignment is due on **Tuesday at 11:30pm**.\n",
    "\n",
    "Directly sharing answers is not okay, but discussing problems with eachother is encouraged! All data can be found *Tuesday* folder.\n"
   ]
  },
  {
   "cell_type": "code",
   "execution_count": null,
   "id": "508d2dbc",
   "metadata": {},
   "outputs": [],
   "source": [
    "import numpy as np\n",
    "import pandas as pd"
   ]
  },
  {
   "cell_type": "markdown",
   "id": "b7f21be3",
   "metadata": {},
   "source": [
    "## A Cognitive Study"
   ]
  },
  {
   "cell_type": "markdown",
   "id": "b879e915",
   "metadata": {},
   "source": [
    "A neuroscience research firm is testing out a new game that exercises memory, reasoning, and other cognitive functions. They conducted a pilot study with 1000 subjects that measures the time of completion of the game, difficulty level, and number of incorrect questions for a game consisting of 20 exercises. For each person that participated in the study demographic information was recorded, including age and gender. \n",
    "\n",
    "Load in the data for this study from `cognitive_data.csv`. Assign this to a dataframe named `cog_data`."
   ]
  },
  {
   "cell_type": "code",
   "execution_count": null,
   "id": "f2c612d0",
   "metadata": {
    "scrolled": true
   },
   "outputs": [],
   "source": []
  },
  {
   "cell_type": "markdown",
   "id": "6f71a680",
   "metadata": {},
   "source": [
    "### Question 1\n",
    "\n",
    "Each study participant played the game at a specific difficulty level where Level 1 is easy, Level 2 is medium, and Level 3 is hard. Change the values in the `Difficulty` column so that the levels are represented categorically instead of numerically."
   ]
  },
  {
   "cell_type": "code",
   "execution_count": null,
   "id": "7b339562",
   "metadata": {
    "scrolled": true
   },
   "outputs": [],
   "source": []
  },
  {
   "cell_type": "markdown",
   "id": "01d81203",
   "metadata": {},
   "source": [
    "### Question 2\n",
    "\n",
    "Calculate the proprotion of incorrect answers in `cog_data`. Update the dataframe to reflect this in a new column called `Incorrect Proportion`."
   ]
  },
  {
   "cell_type": "code",
   "execution_count": null,
   "id": "a6a6ef30",
   "metadata": {
    "scrolled": true
   },
   "outputs": [],
   "source": []
  },
  {
   "cell_type": "markdown",
   "id": "9166c787",
   "metadata": {},
   "source": [
    "### Question 3\n",
    "\n",
    "Construct a dataframe that displays the average completion time for each difficulty level across all recorded genders. Report which gender completed the game the fastest for each difficulty level."
   ]
  },
  {
   "cell_type": "code",
   "execution_count": null,
   "id": "ad4c03f4",
   "metadata": {},
   "outputs": [],
   "source": []
  },
  {
   "cell_type": "markdown",
   "id": "983125e2",
   "metadata": {},
   "source": [
    "Which gender had the lowest average completion time for each difficulty level? Write your answer in the cell below:"
   ]
  },
  {
   "cell_type": "markdown",
   "id": "c2a5d6ec",
   "metadata": {},
   "source": [
    "Easy:\n",
    "Medium:\n",
    "Hard:"
   ]
  },
  {
   "cell_type": "markdown",
   "id": "1d028418",
   "metadata": {},
   "source": [
    "### Question 4\n",
    "\n",
    "Construct a dataframe that displays the median number of incorrect questions for all recorded genders across each level of difficulty."
   ]
  },
  {
   "cell_type": "code",
   "execution_count": null,
   "id": "e8254293",
   "metadata": {},
   "outputs": [],
   "source": []
  },
  {
   "cell_type": "markdown",
   "id": "adf1cd5d",
   "metadata": {},
   "source": [
    "## Sales Competition"
   ]
  },
  {
   "cell_type": "markdown",
   "id": "7242e7cd",
   "metadata": {},
   "source": [
    "A company has created a competition where all sales made by members of the sales team were tracked for the year of 2022. All members of the sales department have been divided into two teams: Team A and Team B. The team with the highest monetary value of total sales win a pizza party, as well as each member of the team get a \\$500 bonus.  Using the data from `sales.csv` and `teams.csv`, we want to determine the total sales from each team and determine which team wins the competition."
   ]
  },
  {
   "cell_type": "code",
   "execution_count": null,
   "id": "d3d5b7fb",
   "metadata": {},
   "outputs": [],
   "source": []
  },
  {
   "cell_type": "code",
   "execution_count": null,
   "id": "9c9e50ec",
   "metadata": {},
   "outputs": [],
   "source": []
  },
  {
   "cell_type": "markdown",
   "id": "1148af8c",
   "metadata": {},
   "source": [
    "### Question 5\n",
    "\n",
    "Write code that creates a dataframe that shows the total sales made during 2022 for each salesperson. Assign to `person_totals`."
   ]
  },
  {
   "cell_type": "code",
   "execution_count": null,
   "id": "d573ed60",
   "metadata": {},
   "outputs": [],
   "source": []
  },
  {
   "cell_type": "markdown",
   "id": "213a83f7",
   "metadata": {},
   "source": [
    "### Question 6\n",
    "\n",
    "Construct a dataframe called `team_totals` that shows the total monetary value of sales made between teams A and B."
   ]
  },
  {
   "cell_type": "code",
   "execution_count": null,
   "id": "3df9af6e",
   "metadata": {
    "scrolled": true
   },
   "outputs": [],
   "source": []
  },
  {
   "cell_type": "markdown",
   "id": "e045cc09",
   "metadata": {},
   "source": [
    "### Question 7\n",
    "\n",
    "Which team won the competition? Write your answer in the markdown cell below:"
   ]
  },
  {
   "cell_type": "markdown",
   "id": "a3f7477f",
   "metadata": {},
   "source": [
    " "
   ]
  },
  {
   "cell_type": "markdown",
   "id": "e4709ebb",
   "metadata": {},
   "source": [
    "The company is also interested in how individual salespersons performed for upcoming employee evaluations. They want to rank each sales person based on the total monetary value made from sales, as well as their average monetary value per sale. Next, we want to determine who the top salesperson(s) are based on these metrics.\n",
    "\n",
    "### Question 8\n",
    "\n",
    "Write code that quantifies the number of sales made by each salesperson in 2022. Create a dataframe that includes the name of each person, the total number of sales they made, and the monetary value of the sum of all their sales in 2022."
   ]
  },
  {
   "cell_type": "code",
   "execution_count": null,
   "id": "8d471486",
   "metadata": {},
   "outputs": [],
   "source": []
  },
  {
   "cell_type": "markdown",
   "id": "34e10f73",
   "metadata": {},
   "source": [
    "### Question 9\n",
    "\n",
    "Calculate the average value per sale for each sales person. Use this value to rank all sales persons compared to each other. Append this information to the dataframe you created in the previous question."
   ]
  },
  {
   "cell_type": "code",
   "execution_count": null,
   "id": "3e80e40a",
   "metadata": {},
   "outputs": [],
   "source": []
  },
  {
   "cell_type": "code",
   "execution_count": null,
   "id": "791b2604",
   "metadata": {},
   "outputs": [],
   "source": []
  },
  {
   "cell_type": "markdown",
   "id": "5be1be97",
   "metadata": {},
   "source": [
    "### Question 10\n",
    "\n",
    "Using the above dataframe, add additional information by ranking each salesperson based on the monetary value of the sum of all sales made in 2022."
   ]
  },
  {
   "cell_type": "code",
   "execution_count": null,
   "id": "12027bb9",
   "metadata": {},
   "outputs": [],
   "source": []
  },
  {
   "cell_type": "code",
   "execution_count": null,
   "id": "ed3095e5",
   "metadata": {},
   "outputs": [],
   "source": []
  },
  {
   "cell_type": "markdown",
   "id": "072f1f65",
   "metadata": {},
   "source": [
    "### Question 11\n",
    "\n",
    "Which salesperson had the highest average per sale? Which salesperson had the highest total value of sales? Write your answers below."
   ]
  },
  {
   "cell_type": "code",
   "execution_count": null,
   "id": "cc1a3a64",
   "metadata": {},
   "outputs": [],
   "source": []
  }
 ],
 "metadata": {
  "kernelspec": {
   "display_name": "Python 3 (ipykernel)",
   "language": "python",
   "name": "python3"
  },
  "language_info": {
   "codemirror_mode": {
    "name": "ipython",
    "version": 3
   },
   "file_extension": ".py",
   "mimetype": "text/x-python",
   "name": "python",
   "nbconvert_exporter": "python",
   "pygments_lexer": "ipython3",
   "version": "3.9.12"
  }
 },
 "nbformat": 4,
 "nbformat_minor": 5
}
