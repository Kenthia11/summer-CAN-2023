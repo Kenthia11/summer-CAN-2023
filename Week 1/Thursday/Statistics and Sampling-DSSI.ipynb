{
 "cells": [
  {
   "cell_type": "code",
   "execution_count": 5,
   "id": "5749e9ba",
   "metadata": {
    "hideCode": false,
    "hidePrompt": false,
    "slideshow": {
     "slide_type": "skip"
    }
   },
   "outputs": [],
   "source": [
    "import numpy as np\n",
    "import pandas as pd\n",
    "\n",
    "%matplotlib inline\n",
    "import matplotlib.pyplot as plt\n",
    "plt.style.use('fivethirtyeight')"
   ]
  },
  {
   "cell_type": "markdown",
   "id": "a45e7fde",
   "metadata": {
    "cell_style": "center",
    "hideCode": false,
    "hidePrompt": false,
    "slideshow": {
     "slide_type": "slide"
    },
    "tags": [
     "hide_code"
    ]
   },
   "source": [
    "<center> \n",
    "\n",
    "# Statistics and Sampling\n",
    "\n",
    "## Amanda R. Kube Jotte\n",
    "    \n",
    "<img src=\"https://raw.githubusercontent.com/amandakube/Data118LectureImages/main/DSSI.png\" width=\"800\">\n",
    "    \n",
    "</center>"
   ]
  },
  {
   "cell_type": "markdown",
   "id": "f9f1568f",
   "metadata": {
    "slideshow": {
     "slide_type": "slide"
    }
   },
   "source": [
    "## Remember where we left off yesterday?\n",
    "\n",
    "We have some **population** we want to learn about - all penguins\n",
    "\n",
    "We can't (infeasible, expensive, impossible) measure the whole population - **census**\n",
    "\n",
    "We can measure a smaller potion, or **sample**, of that population"
   ]
  },
  {
   "cell_type": "markdown",
   "id": "1bd2866e",
   "metadata": {
    "slideshow": {
     "slide_type": "fragment"
    }
   },
   "source": [
    "What we want to calculate/know about a **p**opulation is called the **parameter**\n",
    "\n",
    "We estimate the parameter by calculating this on the **s**ample instead - a **statistic**"
   ]
  },
  {
   "cell_type": "markdown",
   "id": "6cc9986e",
   "metadata": {
    "slideshow": {
     "slide_type": "fragment"
    }
   },
   "source": [
    "So what is a **representative** sample?"
   ]
  },
  {
   "cell_type": "markdown",
   "id": "58b1f40e",
   "metadata": {
    "slideshow": {
     "slide_type": "slide"
    }
   },
   "source": [
    "A poorly designed sampling procedure can produce misleading conclusions.\n",
    "* Example (Non-representative sample)\n",
    "  - I want to learn the most common University majors and my sample is you guys.\n",
    "* Example (Voluntary response sample)\n",
    "  - I want to know how many people believe in ghosts so I put out an ad asking people to respond with their answers."
   ]
  },
  {
   "cell_type": "markdown",
   "id": "30e914f6",
   "metadata": {
    "slideshow": {
     "slide_type": "slide"
    }
   },
   "source": [
    "## Simple Random Sampling\n",
    "\n",
    "A **simple random sample (SRS)** of size n from a population is one in which every group of n units has an equal chance of being selected as the sample.\n",
    "\n",
    "We use a SRS to:\n",
    "* eliminate sampling bias\n",
    "* mathematically or computationally quantify variation due to sampling (i.e. the precision of our sample estimates)\n",
    "\n",
    "Need a sampling frame (e.g., list of names of all subjects in a population)\n",
    "\n",
    "Impractical for large populations\n",
    "\n",
    "<center>\n",
    "\n",
    "<img src=\"https://raw.githubusercontent.com/amandakube/Data118LectureImages/main/srs.png\" alt=\"SRS\" width=\"500\" height=\"600\">\n",
    "    \n",
    "</center>"
   ]
  },
  {
   "cell_type": "markdown",
   "id": "a6b860a8",
   "metadata": {
    "slideshow": {
     "slide_type": "slide"
    }
   },
   "source": [
    "## Stratified Sampling\n",
    "\n",
    "**Stratified random sample**: Divide the population into sub-populations (called strata) of similar units and choose a separate SRS for each stratum.\n",
    "\n",
    "The aim is to obtain more exact information than an SRS of the same size.\n",
    "\n",
    "It works better when cases within stratum are similar but there are large discrepancies between strata.\n",
    "\n",
    "Cons: need sampling frames for each strata.\n",
    "\n",
    "Example (University survey): \"Do you favor the creation of a degree program in data science?\" Possible strata?\n",
    "\n",
    "<center>\n",
    "\n",
    "<img src=\"https://raw.githubusercontent.com/amandakube/Data118LectureImages/main/strat.png\" alt=\"Stratified Sample\" width=\"500\" height=\"600\">\n",
    "    \n",
    "</center>"
   ]
  },
  {
   "cell_type": "markdown",
   "id": "7a089170",
   "metadata": {
    "slideshow": {
     "slide_type": "slide"
    }
   },
   "source": [
    "## Cluster Sampling\n",
    "\n",
    "**Cluster sampling**: Population is divided into clusters; Select a sample of clusters.\n",
    "\n",
    "Works better when there is small cluster-to-cluster variation but large variation within clusters.\n",
    "\n",
    "<center>\n",
    "\n",
    "<img src=\"https://raw.githubusercontent.com/amandakube/Data118LectureImages/main/cluster.png\" alt=\"Cluster Sample\" width=\"500\" height=\"600\">\n",
    "    \n",
    "</center>"
   ]
  },
  {
   "cell_type": "markdown",
   "id": "75d8baa1",
   "metadata": {
    "slideshow": {
     "slide_type": "slide"
    }
   },
   "source": [
    "## Multistage Sampling\n",
    "\n",
    "This is often done for nationwide samples of families,\n",
    "households, or individuals.\n",
    "\n",
    "Sampling is conducted in stages.\n",
    "\n",
    "Example: Government data on unemployment are gathered by the Current Population Survey, which conducts interviews in about 60,000 households each month. An SRS is impractical. The final sample consists of clusters of nearby households. To take a national multistage sample:\n",
    "* Stage 1: Select a sample from the 3000 counties of the US\n",
    "* Stage 2: Select a sample of townships within each of the counties chosen\n",
    "* Stage 3: Select a sample of city blocks within each chosen township\n",
    "* Stage 4: Take a sample of households within each city block"
   ]
  },
  {
   "cell_type": "markdown",
   "id": "72275d41",
   "metadata": {
    "slideshow": {
     "slide_type": "slide"
    }
   },
   "source": [
    "<center>\n",
    "\n",
    "<img src=\"https://raw.githubusercontent.com/amandakube/Data118LectureImages/main/multistage.png\" alt=\"Multistage Sample\" width=\"900\">\n",
    "    \n",
    "</center>"
   ]
  },
  {
   "cell_type": "markdown",
   "id": "40032fe6",
   "metadata": {
    "slideshow": {
     "slide_type": "slide"
    }
   },
   "source": [
    "## Sampling Bias\n",
    "\n",
    "**Selection bias**: systematic error favoring some parts of the population over others (eg voluntary response sample).\n",
    "\n",
    "**Non-response bias**: people who decline to respond may be different from those who do respond (with respect to the\n",
    "issue of interest)\n",
    "\n",
    "**Response bias**: there are sometimes incentives to lie. Influenced by phrasing of questions, tone/attitude of interviewer, questions about illegal/unpopular behavior (e,g, \"Do you wash your hands after using the bathroom?\" or \"Have you violated social distancing guidelines?\")"
   ]
  },
  {
   "cell_type": "markdown",
   "id": "ab88dd93",
   "metadata": {
    "slideshow": {
     "slide_type": "slide"
    }
   },
   "source": [
    "## Truman vs Dewey\n",
    "\n",
    "<center>\n",
    "\n",
    "<img src=\"https://raw.githubusercontent.com/amandakube/Data118LectureImages/main/DeweyDefeatsTruman.jpg\" alt=\"Dewey Defeats Truman\" width=\"700\">\n",
    "    \n",
    "</center>"
   ]
  },
  {
   "cell_type": "markdown",
   "id": "9a614bc5",
   "metadata": {
    "slideshow": {
     "slide_type": "slide"
    }
   },
   "source": [
    "A poorly designed sampling procedure can produce misleading conclusions.\n",
    "\n",
    "Even with a representative sample or a census we can come to incorrect conclusions if we do not understand our data or study design."
   ]
  },
  {
   "cell_type": "markdown",
   "id": "c3995fec",
   "metadata": {
    "slideshow": {
     "slide_type": "fragment"
    }
   },
   "source": [
    "The quality of results obtained from data analysis is only as good as the data used (garbage-in garbage-out)\n",
    "\n",
    "Analysis should involve good design, measurement and collection of data. Possible issues:\n",
    "\n",
    "* how to design the data collection, so we can answer the questions of interest?\n",
    "* from how many individuals or subjects should we collect the data?\n",
    "* how do we select the subjects?\n",
    "* how do we assign treatments in an experiment?"
   ]
  },
  {
   "cell_type": "markdown",
   "id": "145e6d6f",
   "metadata": {
    "slideshow": {
     "slide_type": "slide"
    }
   },
   "source": [
    "## Causation vs Association\n",
    "\n",
    "Spurious correlations: https://www.tylervigen.com/spurious-correlations"
   ]
  },
  {
   "cell_type": "markdown",
   "id": "e3016a67",
   "metadata": {
    "slideshow": {
     "slide_type": "fragment"
    }
   },
   "source": [
    "How can we tell if something is actually causal?"
   ]
  },
  {
   "cell_type": "markdown",
   "id": "65ecea50",
   "metadata": {
    "slideshow": {
     "slide_type": "fragment"
    }
   },
   "source": [
    "1) The cause came before the effect - simple\n",
    "\n",
    "2) The effect didn't happen by chance - replication\n",
    "\n",
    "3) There is no other cause for the relationship - harder..."
   ]
  },
  {
   "cell_type": "markdown",
   "id": "6b50f127",
   "metadata": {
    "slideshow": {
     "slide_type": "slide"
    }
   },
   "source": [
    "When we see that two variables X and Y are associated, we often wonder if one causes the other. There are 3 possible scenarios:\n",
    "\n",
    "**Causation**: change in X causes change in Y (or vice-versa)\n",
    "\n",
    "**Confounding**: some other variable Z causes change in both X and Y\n",
    "\n",
    "**Colliding**: changes in both X and Y cause change in some variable Z\n",
    "\n",
    "<center>\n",
    "\n",
    "<img src=\"https://raw.githubusercontent.com/amandakube/Data118LectureImages/main/DAGs.png\" alt=\"DAGS\" width=\"900\">\n",
    "    \n",
    "</center>"
   ]
  },
  {
   "cell_type": "markdown",
   "id": "6b6aea20",
   "metadata": {
    "slideshow": {
     "slide_type": "slide"
    }
   },
   "source": [
    "## Gold Standard - An Experiment\n",
    "\n",
    "**Experiments**: one or more factors controlled by experimenter (deliberately impose certain treatments on individuals in order to observe their responses)\n",
    "\n",
    "### Experimental Design\n",
    "\n",
    "**Control**: to understand the effects of a treatment, need a control group\n",
    "\n",
    "**Replication**: applying a treatment independently to two or more experimental units\n",
    "\n",
    "**Randomization**: random assignment of treatments to experimental units"
   ]
  },
  {
   "cell_type": "markdown",
   "id": "abf7e2fd",
   "metadata": {
    "slideshow": {
     "slide_type": "slide"
    }
   },
   "source": [
    "### As a data scientist, most of your data won't look like this...\n",
    "\n",
    "**Observational studies**: no effort/intention to manipulate the object of study (collect the data without interfering with the subjects)\n",
    "\n",
    "### Types of Observational Studies\n",
    "\n",
    "**Retrospective studies**: collect data after events have\n",
    "taken place (e.g. past records, historical data). \n",
    " * Example: Select a group of people who had skin cancer and a group of controls (no skin cancer) and ask about tanning bed usage\n",
    "\n",
    "**Prospective studies**: identifies individuals and collects information as events unfold. \n",
    "  * Example: Enroll 500 subjects. Ask them to complete daily diet diaries (used to estimate the amount of sodium intake). Measure their blood pressure"
   ]
  },
  {
   "cell_type": "markdown",
   "id": "97fec3db",
   "metadata": {
    "slideshow": {
     "slide_type": "fragment"
    }
   },
   "source": [
    "It is very important you understand your data, how it was collected, and what you can (or can't) say about it!"
   ]
  },
  {
   "cell_type": "markdown",
   "id": "c95fc8f6",
   "metadata": {
    "slideshow": {
     "slide_type": "slide"
    }
   },
   "source": [
    "In our activity from yesterday, we used observational data about penguins."
   ]
  },
  {
   "cell_type": "markdown",
   "id": "72240c04",
   "metadata": {
    "slideshow": {
     "slide_type": "fragment"
    }
   },
   "source": [
    "We saw that random sampling created a more representative sample and allowed us to calculate a statistic that was a good estimate for our parameter."
   ]
  },
  {
   "cell_type": "markdown",
   "id": "96afadcc",
   "metadata": {
    "slideshow": {
     "slide_type": "fragment"
    }
   },
   "source": [
    "Once we understand our data and have explored it thoroughly, sometimes we want to make stronger claims about the statistics we calculate or compare statistics from different samples."
   ]
  },
  {
   "cell_type": "markdown",
   "id": "009c1572",
   "metadata": {
    "slideshow": {
     "slide_type": "fragment"
    }
   },
   "source": [
    "We do this by testing our **hypotheses** about these statistics in something called a **Hypothesis Test**."
   ]
  },
  {
   "cell_type": "markdown",
   "id": "d7d101ad",
   "metadata": {
    "slideshow": {
     "slide_type": "slide"
    }
   },
   "source": [
    "Later today, you will learn about hypothesis testing, what it means to say something is significant, and some common examples of hypothesis tests.\n",
    "\n",
    "But first..."
   ]
  },
  {
   "cell_type": "markdown",
   "id": "d5b8194f",
   "metadata": {
    "slideshow": {
     "slide_type": "fragment"
    }
   },
   "source": [
    "... you need to learn a bit about probability distributions."
   ]
  },
  {
   "cell_type": "markdown",
   "id": "1c4fb4cc",
   "metadata": {
    "slideshow": {
     "slide_type": "fragment"
    }
   },
   "source": [
    "The histograms you made yesterday,"
   ]
  },
  {
   "cell_type": "code",
   "execution_count": 6,
   "id": "852d3974",
   "metadata": {
    "hideCode": true,
    "hidePrompt": true,
    "slideshow": {
     "slide_type": "fragment"
    }
   },
   "outputs": [
    {
     "data": {
      "image/png": "[encoded data removed]",
      "text/plain": [
       "<Figure size 640x480 with 1 Axes>"
      ]
     },
     "metadata": {},
     "output_type": "display_data"
    }
   ],
   "source": [
    "penguins = pd.read_csv(\"https://raw.githubusercontent.com/amandakube/Data118LectureImages/main/penguins_size.csv\")\n",
    "\n",
    "\n",
    "outcomes = np.array([])\n",
    "\n",
    "for i in np.arange(1000):\n",
    "    my_sample = penguins.sample(100)\n",
    "    outcomes = np.append(outcomes, my_sample.culmen_length_mm.mean())\n",
    "    \n",
    "\n",
    "plt.hist(outcomes)\n",
    "plt.scatter(penguins.culmen_length_mm.mean(), -5, color='red', s=30)\n",
    "plt.xlabel(\"Average Culmen Length (mm)\")\n",
    "plt.ylabel(\"Frequency\");"
   ]
  },
  {
   "cell_type": "markdown",
   "id": "9b4f99bd",
   "metadata": {
    "slideshow": {
     "slide_type": "fragment"
    }
   },
   "source": [
    "... create something called an **empirical distribution**. Distributions have useful properties that allow us to do **Hypothesis Testing** "
   ]
  },
  {
   "cell_type": "markdown",
   "id": "8aa414f2",
   "metadata": {
    "slideshow": {
     "slide_type": "skip"
    }
   },
   "source": []
  }
 ],
 "metadata": {
  "celltoolbar": "Slideshow",
  "hide_code_all_hidden": false,
  "kernelspec": {
   "display_name": "Python 3 (ipykernel)",
   "language": "python",
   "name": "python3"
  },
  "language_info": {
   "codemirror_mode": {
    "name": "ipython",
    "version": 3
   },
   "file_extension": ".py",
   "mimetype": "text/x-python",
   "name": "python",
   "nbconvert_exporter": "python",
   "pygments_lexer": "ipython3",
   "version": "3.10.9"
  },
  "latex_envs": {
   "LaTeX_envs_menu_present": true,
   "autoclose": false,
   "autocomplete": true,
   "bibliofile": "biblio.bib",
   "cite_by": "apalike",
   "current_citInitial": 1,
   "eqLabelWithNumbers": true,
   "eqNumInitial": 1,
   "hotkeys": {
    "equation": "Ctrl-E",
    "itemize": "Ctrl-I"
   },
   "labels_anchors": false,
   "latex_user_defs": false,
   "report_style_numbering": false,
   "user_envs_cfg": false
  },
  "rise": {
   "scroll": true
  },
  "toc": {
   "base_numbering": 1,
   "nav_menu": {},
   "number_sections": false,
   "sideBar": true,
   "skip_h1_title": false,
   "title_cell": "Table of Contents",
   "title_sidebar": "Contents",
   "toc_cell": false,
   "toc_position": {
    "height": "calc(100% - 180px)",
    "left": "10px",
    "top": "150px",
    "width": "165px"
   },
   "toc_section_display": true,
   "toc_window_display": false
  }
 },
 "nbformat": 4,
 "nbformat_minor": 5
}
