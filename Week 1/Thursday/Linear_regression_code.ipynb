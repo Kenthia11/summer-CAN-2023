{
 "cells": [
  {
   "cell_type": "markdown",
   "metadata": {},
   "source": [
    "# Linear Regression!\n",
    "\n",
    "Thursday, June 15 2023\n",
    "\n",
    "Notebook Author: Susanna Lange, PhD"
   ]
  },
  {
   "cell_type": "markdown",
   "metadata": {},
   "source": [
    "We have talked about\n",
    "\n",
    " - Different associations between variables\n",
    " \n",
    " - A method of statistical inference (hypothesis testing)\n",
    " \n",
    " \n",
    " \n",
    "# Goals\n",
    "\n",
    " - Continue discussion of variable associations\n",
    " \n",
    " - A method to help describe (and predict) such a relationship\n",
    "         \n",
    "      - Linear Regression"
   ]
  },
  {
   "cell_type": "markdown",
   "metadata": {},
   "source": [
    "We have large amounts of data.\n",
    "\n",
    " - Some of the data fields have relationships.\n",
    " \n",
    " \n",
    "- Some of these relationships are important...and some are meaningless.\n",
    "\n",
    "\n",
    "- The first step in sorting these out is measuring how strong the relationships are.\n"
   ]
  },
  {
   "cell_type": "markdown",
   "metadata": {},
   "source": [
    "We focus on **linear association**."
   ]
  },
  {
   "cell_type": "markdown",
   "metadata": {},
   "source": [
    "In particular\n",
    "\n",
    "\n",
    " - 2 variables of interest\n",
    "    \n",
    "     - Explanatory (independent) variable: the variable that explains, or influences a trend in the response variable. This is the x-variable.\n",
    "     \n",
    "     - Response (dependent) variable: the measured outcome. Responds to trends in the explanatory variable. This is the y-variable\n",
    "     \n",
    "Interested in a possible relationship between them! How do we begin to find such a relationship? Through visualizations....scatterplots.\n",
    "\n",
    "Eventual goal: To predict the outcome given new observations."
   ]
  },
  {
   "cell_type": "markdown",
   "metadata": {},
   "source": [
    "### Possible Scatterplots\n",
    "\n",
    "\n",
    "Two measures:\n",
    "\n",
    " - Strength of association \n",
    " \n",
    " - Direction of association"
   ]
  },
  {
   "cell_type": "markdown",
   "metadata": {},
   "source": [
    "<img src=\"\n",
    "https://github.com/SusannaLange/Data_118_images/blob/main/DSSI_images/linear_regression/corr_part0.png?raw=true\" width=\"800\">"
   ]
  },
  {
   "cell_type": "markdown",
   "metadata": {},
   "source": [
    "Described in terms of ...\n",
    "\n",
    "## Correlation: Correlation Coefficient, r\n",
    "\n",
    "\n",
    "- **Correlation r** is a numerical measure of the <font color=red>direction</font> and <font color=red>strength</font> of the <font color=red>linear</font> relationship between two numerical variables.\n",
    "\n",
    "- r always lies between -1 and 1; the strength increases as you move away from 0 to either -1 or 1.\n",
    "\n",
    "    - $r > 0$: positive association\n",
    "      \n",
    "    - $r < 0$: negative association\n",
    "       \n",
    "    - $r \\approx 0$: very weak linear relationship\n",
    "    - close to 1 or -1: strong linear relationship\n",
    "    - $r=-1$ or $r=1$: *only* when all the data points on the scatterplot lie exactly along a *straight line*\n"
   ]
  },
  {
   "cell_type": "markdown",
   "metadata": {},
   "source": [
    "## How does a change in $x$ affect change in $y$?"
   ]
  },
  {
   "cell_type": "markdown",
   "metadata": {},
   "source": [
    "\n",
    "<img src=\"\n",
    "https://github.com/SusannaLange/Data_118_images/blob/main/DSSI_images/linear_regression/corr_part2.png?raw=true\" width=\"800\">"
   ]
  },
  {
   "cell_type": "markdown",
   "metadata": {},
   "source": [
    "\n",
    "<img src=\"\n",
    "https://github.com/SusannaLange/Data_118_images/blob/main/DSSI_images/linear_regression/corr_r.png?raw=true\" width=\"800\">\n",
    "Note: Images taken from SkewtheScript"
   ]
  },
  {
   "cell_type": "markdown",
   "metadata": {},
   "source": [
    "### Recall we do have to be careful! Correlation is not Causation!"
   ]
  },
  {
   "cell_type": "markdown",
   "metadata": {},
   "source": [
    "\n",
    "<img src=\"\n",
    "https://github.com/SusannaLange/Data_118_images/blob/main/DSSI_images/linear_regression/linear_corr.png?raw=true\" width=\"800\">"
   ]
  },
  {
   "cell_type": "markdown",
   "metadata": {},
   "source": [
    "Let's consider data!"
   ]
  },
  {
   "cell_type": "markdown",
   "metadata": {},
   "source": [
    "## Remember the Galton height data?\n",
    "\n",
    "- [Sir Francis Galton](https://en.wikipedia.org/wiki/Francis_Galton) was an eminent 19th century scientist, and among the first to use measures of dependence\n",
    "- Rediscovered the concept of correlation (1888) and used it to study heredity, anthropology and psychology.\n",
    "- Sir Francis Galton collected data from more than 900 children recording, among other things, their (adult) heights and the heights of their parents.\n",
    "\n",
    "\n",
    "Includes a variable midparent height - average of the heights of the two parents.\n"
   ]
  },
  {
   "cell_type": "markdown",
   "metadata": {},
   "source": [
    "\n",
    "There are two questions we would like to ask:\n",
    "\n",
    "1. How strong is the dependence/association between children and parent heights?\n",
    "\n",
    "2. How might we use this to predict another data point (within x bounds)?"
   ]
  },
  {
   "cell_type": "code",
   "execution_count": 1,
   "metadata": {},
   "outputs": [],
   "source": [
    "#import libraries\n",
    "import numpy as np\n",
    "import pandas as pd\n",
    "\n",
    "%matplotlib inline\n",
    "import matplotlib.pyplot as plt\n",
    "plt.style.use('fivethirtyeight')"
   ]
  },
  {
   "cell_type": "code",
   "execution_count": 2,
   "metadata": {
    "scrolled": true
   },
   "outputs": [
    {
     "data": {
      "text/html": [
       "<div>\n",
       "<style scoped>\n",
       "    .dataframe tbody tr th:only-of-type {\n",
       "        vertical-align: middle;\n",
       "    }\n",
       "\n",
       "    .dataframe tbody tr th {\n",
       "        vertical-align: top;\n",
       "    }\n",
       "\n",
       "    .dataframe thead th {\n",
       "        text-align: right;\n",
       "    }\n",
       "</style>\n",
       "<table border=\"1\" class=\"dataframe\">\n",
       "  <thead>\n",
       "    <tr style=\"text-align: right;\">\n",
       "      <th></th>\n",
       "      <th>family</th>\n",
       "      <th>father</th>\n",
       "      <th>mother</th>\n",
       "      <th>midparentHeight</th>\n",
       "      <th>children</th>\n",
       "      <th>childNum</th>\n",
       "      <th>gender</th>\n",
       "      <th>childHeight</th>\n",
       "    </tr>\n",
       "  </thead>\n",
       "  <tbody>\n",
       "    <tr>\n",
       "      <th>0</th>\n",
       "      <td>1</td>\n",
       "      <td>78.5</td>\n",
       "      <td>67.0</td>\n",
       "      <td>75.43</td>\n",
       "      <td>4</td>\n",
       "      <td>1</td>\n",
       "      <td>male</td>\n",
       "      <td>73.2</td>\n",
       "    </tr>\n",
       "    <tr>\n",
       "      <th>1</th>\n",
       "      <td>1</td>\n",
       "      <td>78.5</td>\n",
       "      <td>67.0</td>\n",
       "      <td>75.43</td>\n",
       "      <td>4</td>\n",
       "      <td>2</td>\n",
       "      <td>female</td>\n",
       "      <td>69.2</td>\n",
       "    </tr>\n",
       "    <tr>\n",
       "      <th>2</th>\n",
       "      <td>1</td>\n",
       "      <td>78.5</td>\n",
       "      <td>67.0</td>\n",
       "      <td>75.43</td>\n",
       "      <td>4</td>\n",
       "      <td>3</td>\n",
       "      <td>female</td>\n",
       "      <td>69.0</td>\n",
       "    </tr>\n",
       "    <tr>\n",
       "      <th>3</th>\n",
       "      <td>1</td>\n",
       "      <td>78.5</td>\n",
       "      <td>67.0</td>\n",
       "      <td>75.43</td>\n",
       "      <td>4</td>\n",
       "      <td>4</td>\n",
       "      <td>female</td>\n",
       "      <td>69.0</td>\n",
       "    </tr>\n",
       "    <tr>\n",
       "      <th>4</th>\n",
       "      <td>2</td>\n",
       "      <td>75.5</td>\n",
       "      <td>66.5</td>\n",
       "      <td>73.66</td>\n",
       "      <td>4</td>\n",
       "      <td>1</td>\n",
       "      <td>male</td>\n",
       "      <td>73.5</td>\n",
       "    </tr>\n",
       "    <tr>\n",
       "      <th>5</th>\n",
       "      <td>2</td>\n",
       "      <td>75.5</td>\n",
       "      <td>66.5</td>\n",
       "      <td>73.66</td>\n",
       "      <td>4</td>\n",
       "      <td>2</td>\n",
       "      <td>male</td>\n",
       "      <td>72.5</td>\n",
       "    </tr>\n",
       "  </tbody>\n",
       "</table>\n",
       "</div>"
      ],
      "text/plain": [
       "  family  father  mother  midparentHeight  children  childNum  gender   \n",
       "0      1    78.5    67.0            75.43         4         1    male  \\\n",
       "1      1    78.5    67.0            75.43         4         2  female   \n",
       "2      1    78.5    67.0            75.43         4         3  female   \n",
       "3      1    78.5    67.0            75.43         4         4  female   \n",
       "4      2    75.5    66.5            73.66         4         1    male   \n",
       "5      2    75.5    66.5            73.66         4         2    male   \n",
       "\n",
       "   childHeight  \n",
       "0         73.2  \n",
       "1         69.2  \n",
       "2         69.0  \n",
       "3         69.0  \n",
       "4         73.5  \n",
       "5         72.5  "
      ]
     },
     "execution_count": 2,
     "metadata": {},
     "output_type": "execute_result"
    }
   ],
   "source": [
    "galton_df = pd.read_csv(\"../datasets/galton.csv\")\n",
    "galton_df.head(6)"
   ]
  },
  {
   "cell_type": "code",
   "execution_count": 3,
   "metadata": {},
   "outputs": [
    {
     "data": {
      "text/plain": [
       "934"
      ]
     },
     "execution_count": 3,
     "metadata": {},
     "output_type": "execute_result"
    }
   ],
   "source": [
    "len(galton_df) # number of rows"
   ]
  },
  {
   "cell_type": "code",
   "execution_count": 5,
   "metadata": {},
   "outputs": [
    {
     "data": {
      "image/png": "[encoded data removed]",
      "text/plain": [
       "<Figure size 432x432 with 1 Axes>"
      ]
     },
     "metadata": {},
     "output_type": "display_data"
    }
   ],
   "source": [
    "# first row - sets figure size; 's=15' sets the size of the points\n",
    "plt.figure(figsize=(6,6))\n",
    "plt.scatter(galton_df['midparentHeight'], galton_df['childHeight'],c=\"darkblue\",s=15)\n",
    "plt.xlabel(\"MidParent Height\")\n",
    "plt.ylabel(\"Child\")\n",
    "plt.title(\"Galton's height data\")\n",
    "plt.show()"
   ]
  },
  {
   "cell_type": "markdown",
   "metadata": {},
   "source": [
    "Visually, there does appear to be a positive linear relationship!\n",
    "\n",
    "We can find the correlation coefficient in python with the code:\n",
    "\n",
    "```python \n",
    "x.corr(y)\n",
    "```\n",
    "or \n",
    "```python \n",
    "y.corr(x)\n",
    "```\n",
    "where x and y are Series."
   ]
  },
  {
   "cell_type": "code",
   "execution_count": 6,
   "metadata": {},
   "outputs": [
    {
     "name": "stdout",
     "output_type": "stream",
     "text": [
      "0.32094989606395924\n",
      "0.3209498960639593\n"
     ]
    }
   ],
   "source": [
    "# Correlation Coefficient: Pearson's r\n",
    "\n",
    "print(galton_df['midparentHeight'].corr(galton_df['childHeight']))                    \n",
    "\n",
    "print(galton_df['childHeight'].corr(galton_df['midparentHeight']))\n"
   ]
  },
  {
   "cell_type": "markdown",
   "metadata": {},
   "source": [
    "## It is important to visualize your data"
   ]
  },
  {
   "cell_type": "code",
   "execution_count": 8,
   "metadata": {},
   "outputs": [
    {
     "data": {
      "image/png": "[encoded data removed]",
      "text/plain": [
       "<Figure size 432x288 with 1 Axes>"
      ]
     },
     "metadata": {},
     "output_type": "display_data"
    }
   ],
   "source": [
    "new_x = np.arange(-4, 4.1, 0.5)\n",
    "y = new_x**2\n",
    "plt.scatter(new_x, y, s=30, color='r');"
   ]
  },
  {
   "cell_type": "code",
   "execution_count": 9,
   "metadata": {},
   "outputs": [
    {
     "data": {
      "text/plain": [
       "0.0"
      ]
     },
     "execution_count": 9,
     "metadata": {},
     "output_type": "execute_result"
    }
   ],
   "source": [
    "pd.Series(new_x).corr(pd.Series(y))"
   ]
  },
  {
   "cell_type": "code",
   "execution_count": 11,
   "metadata": {},
   "outputs": [
    {
     "data": {
      "image/png": "[encoded data removed]",
      "text/plain": [
       "<Figure size 432x288 with 1 Axes>"
      ]
     },
     "metadata": {},
     "output_type": "display_data"
    }
   ],
   "source": [
    "# the impact of outliers\n",
    "x=np.array([1, 2, 3, 4, 5])\n",
    "y=np.array([1, 2, 3, 4, 0])\n",
    "plt.scatter(x, y, s=40, color='r');"
   ]
  },
  {
   "cell_type": "code",
   "execution_count": 12,
   "metadata": {},
   "outputs": [
    {
     "data": {
      "text/plain": [
       "0.0"
      ]
     },
     "execution_count": 12,
     "metadata": {},
     "output_type": "execute_result"
    }
   ],
   "source": [
    "pd.Series(x).corr(pd.Series(y))"
   ]
  },
  {
   "cell_type": "markdown",
   "metadata": {},
   "source": [
    "### Back to height data"
   ]
  },
  {
   "cell_type": "code",
   "execution_count": 13,
   "metadata": {},
   "outputs": [
    {
     "data": {
      "image/png": "[encoded data removed]",
      "text/plain": [
       "<Figure size 432x432 with 1 Axes>"
      ]
     },
     "metadata": {},
     "output_type": "display_data"
    }
   ],
   "source": [
    "plt.figure(figsize=(6,6))\n",
    "plt.scatter(galton_df['midparentHeight'],galton_df['childHeight'],c=\"darkblue\",s=15)\n",
    "plt.xlabel(\"MidParent Height\")\n",
    "plt.ylabel(\"Child\")\n",
    "plt.title(\"Galton's height data\")\n",
    "plt.show()"
   ]
  },
  {
   "cell_type": "markdown",
   "metadata": {},
   "source": [
    "Suppose we have a **new** midparent height value of 72. How might we predict the child's height?"
   ]
  },
  {
   "cell_type": "markdown",
   "metadata": {},
   "source": [
    "We want to create a line to fit the data! Then we can use that line to predict."
   ]
  },
  {
   "cell_type": "markdown",
   "metadata": {},
   "source": [
    "<img src=\"\n",
    "https://github.com/SusannaLange/Data_118_images/blob/main/DSSI_images/linear_regression/best_fit_line.png?raw=true\" width=\"800\">\n"
   ]
  },
  {
   "cell_type": "markdown",
   "metadata": {},
   "source": [
    "How do we choose the best line?!\n",
    "\n",
    "\n",
    "<img src=\"\n",
    "https://github.com/SusannaLange/Data_118_images/blob/main/DSSI_images/linear_regression/best_line.png?raw=true\" width=\"800\">"
   ]
  },
  {
   "cell_type": "markdown",
   "metadata": {},
   "source": [
    "### Residuals"
   ]
  },
  {
   "cell_type": "markdown",
   "metadata": {},
   "source": [
    "We consider the residuals:\n",
    "    For every data point $(x_i, y_i)$, the residual is $$e_i = y_i - \\hat{y_i}$$\n",
    "   \n",
    "   \n",
    "In words, this is the difference between the observed data output and the predicted output."
   ]
  },
  {
   "cell_type": "markdown",
   "metadata": {},
   "source": [
    "\n",
    "<img src=\"\n",
    "https://github.com/SusannaLange/Data_118_images/blob/main/DSSI_images/linear_regression/residual.png?raw=true\" width=\"800\">"
   ]
  },
  {
   "cell_type": "markdown",
   "metadata": {},
   "source": [
    "\n",
    "<img src=\"\n",
    "https://github.com/SusannaLange/Data_118_images/blob/main/DSSI_images/linear_regression/residual_ex.png?raw=true\" width=\"800\">"
   ]
  },
  {
   "cell_type": "markdown",
   "metadata": {},
   "source": [
    "We might think it is enough to consider the sum of the residuals and try to minimize this!"
   ]
  },
  {
   "cell_type": "markdown",
   "metadata": {},
   "source": [
    "\n",
    "<img src=\"\n",
    "https://github.com/SusannaLange/Data_118_images/blob/main/DSSI_images/linear_regression/line_sum0.png?raw=true\" width=\"800\">"
   ]
  },
  {
   "cell_type": "markdown",
   "metadata": {},
   "source": [
    "\n",
    "<img src=\"\n",
    "https://github.com/SusannaLange/Data_118_images/blob/main/DSSI_images/linear_regression/line_sum2.png?raw=true\" width=\"800\">"
   ]
  },
  {
   "cell_type": "markdown",
   "metadata": {},
   "source": [
    "Instead, we can minimize the sum of the squared residuals!"
   ]
  },
  {
   "cell_type": "markdown",
   "metadata": {},
   "source": [
    "<img src=\"\n",
    "https://github.com/SusannaLange/Data_118_images/blob/main/DSSI_images/linear_regression/squared_res.png?raw=true\" width=\"800\">\n",
    "\n",
    "Image credit: SkewtheScript"
   ]
  },
  {
   "cell_type": "markdown",
   "metadata": {},
   "source": [
    "This is the **least square method**\n",
    "\n",
    "We are minimizing\n",
    "\n",
    "$$e_1^2+e_2^2+...+e_n^2 = \\sum_i e_i^2= \\sum_i(y_i - \\hat{y_i})$$\n"
   ]
  },
  {
   "cell_type": "markdown",
   "metadata": {},
   "source": [
    "Recall the equation of a line: $$y=mx+b$$"
   ]
  },
  {
   "cell_type": "markdown",
   "metadata": {},
   "source": [
    "Each $\\hat{y_i}$ is on the line $\\hat{y_i} = a+bx_i$...\n",
    "\n",
    "so we want to find $a$ and $b$ such that this sum is the smallest $$\\sum_i(y_i - (a+bx_i))$$\n",
    "\n",
    "\n",
    "That is, we want to minimize this, where\n",
    "\n",
    "$b$ is the slope\n",
    "\n",
    "$a$ is the $y$-intercept"
   ]
  },
  {
   "cell_type": "markdown",
   "metadata": {},
   "source": [
    "If you're curious...if can be shown (through Calculus) that \n",
    "\n",
    "$$b = \\frac{\\sum_{i=1}^n(x_i - \\bar{x})(y_i - \\bar{y})}{\\sum_{i=1}^n(x_i - \\bar{x})^2}$$\n",
    "\n",
    "and\n",
    "\n",
    "\n",
    "$$a = \\bar{y} - b\\bar{x}$$\n",
    "\n",
    "where $\\bar{x}$ and $\\bar{y}$ are the average over the data points $\\{(x_i, y_i)\\}_{i=1}^n$"
   ]
  },
  {
   "cell_type": "markdown",
   "metadata": {},
   "source": [
    "Remember the correlation coefficient, $r$?! It comes from the sum of squared errors!\n",
    "\n",
    "**Intuition behind the correlation coefficient**"
   ]
  },
  {
   "cell_type": "markdown",
   "metadata": {},
   "source": [
    "\n",
    "<img src=\"\n",
    "https://github.com/SusannaLange/Data_118_images/blob/main/DSSI_images/linear_regression/sse_ssto.png?raw=true\" width=\"800\">"
   ]
  },
  {
   "cell_type": "markdown",
   "metadata": {},
   "source": [
    "$$r^2 = 1-\\frac{RSS}{TSS} = \\frac{TSS-RSS}{TSS}$$\n",
    "\n",
    "where RSS= sum of squared errors (or residual sum of squares) = $\\sum_i(y_i - \\hat{y_i})^2$\n",
    "\n",
    "\n",
    "TSS = total sum of squares = $\\sum_i(y_i - \\bar{y})^2$"
   ]
  },
  {
   "cell_type": "markdown",
   "metadata": {},
   "source": [
    "A measure of how 'good' the regression line (minimizing RSS) is to compare it against how much the error improved over TSS."
   ]
  },
  {
   "cell_type": "markdown",
   "metadata": {},
   "source": [
    "Example if $TSS = 100 $ and $RSS = 2$ then  $$\\frac{TSS-RSS}{TSS} = \\frac{98}{100} \\approx 1$$\n",
    "\n",
    "(hence $r \\approx 1$ )\n",
    "\n",
    "$TSS = 100 $ and $RSS = 90$ then  $$\\frac{TSS-RSS}{TSS} = \\frac{10}{100} = 1/10$$\n",
    "\n",
    "(hence $r \\approx 0$) "
   ]
  },
  {
   "cell_type": "markdown",
   "metadata": {},
   "source": [
    "Note: Recall the least square line makes the sum of squared residuals the SMALLEST!!! Every other line has larger residuals. A measure to compare is to consider the specific line that ignores the $x$ values altogether - the average line.\n",
    "\n",
    "How does the inclusion of the $x$ variable improve the error?"
   ]
  },
  {
   "cell_type": "markdown",
   "metadata": {},
   "source": [
    "### **How can we do this in python?!**\n",
    "\n",
    "We do need another library. The sklearn library."
   ]
  },
  {
   "cell_type": "code",
   "execution_count": 14,
   "metadata": {},
   "outputs": [],
   "source": [
    "from sklearn.linear_model import LinearRegression"
   ]
  },
  {
   "cell_type": "code",
   "execution_count": 15,
   "metadata": {},
   "outputs": [],
   "source": [
    "model = LinearRegression()"
   ]
  },
  {
   "cell_type": "markdown",
   "metadata": {},
   "source": [
    "To feed the data to the model we need the format:\n",
    "\n",
    "```python\n",
    "model.fit(numpy_array_x, numpy_array_y)\n",
    "\n",
    "```\n",
    "where numpy_array_x is a 2 dimensional array and numpy_array_y is a 1-D array"
   ]
  },
  {
   "cell_type": "code",
   "execution_count": 16,
   "metadata": {},
   "outputs": [
    {
     "data": {
      "text/plain": [
       "LinearRegression()"
      ]
     },
     "execution_count": 16,
     "metadata": {},
     "output_type": "execute_result"
    }
   ],
   "source": [
    "model.fit(galton_df['midparentHeight'].to_numpy().reshape((-1, 1)), galton_df['childHeight'].to_numpy())"
   ]
  },
  {
   "cell_type": "code",
   "execution_count": 17,
   "metadata": {},
   "outputs": [
    {
     "name": "stdout",
     "output_type": "stream",
     "text": [
      "coefficient of determination 0.1030088357834662\n",
      "intercept: 22.636240549589786\n",
      "slope [0.6373609]\n"
     ]
    }
   ],
   "source": [
    "#We can get the following: r^2 value, y-intercept, slope of the linear regression line\n",
    "\n",
    "r_sq = model.score(galton_df['midparentHeight'].to_numpy().reshape((-1, 1)), galton_df['childHeight'].to_numpy())\n",
    "\n",
    "print(\"coefficient of determination\", r_sq)\n",
    "\n",
    "print(\"intercept:\", model.intercept_)\n",
    "\n",
    "\n",
    "print(\"slope\", model.coef_)"
   ]
  },
  {
   "cell_type": "code",
   "execution_count": 18,
   "metadata": {},
   "outputs": [
    {
     "data": {
      "image/png": "[encoded data removed]",
      "text/plain": [
       "<Figure size 432x432 with 1 Axes>"
      ]
     },
     "metadata": {},
     "output_type": "display_data"
    }
   ],
   "source": [
    "#back to our data\n",
    "import numpy as np\n",
    "plt.figure(figsize=(6,6))\n",
    "plt.scatter(galton_df['midparentHeight'],galton_df['childHeight'],c=\"darkblue\",s=15)\n",
    "plt.xlabel(\"MidParent Height\")\n",
    "plt.ylabel(\"Child\")\n",
    "xlims = np.array([64, 76])\n",
    "plt.plot(xlims, 0.63736 * xlims + 22.636, lw=2,color='red')\n",
    "plt.title(\"Galton's height data\")\n",
    "plt.show()"
   ]
  },
  {
   "cell_type": "markdown",
   "metadata": {},
   "source": [
    "To predict using our linear regression model: Predict the child's height with a midparent height of 72:"
   ]
  },
  {
   "cell_type": "markdown",
   "metadata": {},
   "source": [
    "Using the python model:"
   ]
  },
  {
   "cell_type": "code",
   "execution_count": 19,
   "metadata": {},
   "outputs": [
    {
     "data": {
      "text/plain": [
       "array([68.52622513])"
      ]
     },
     "execution_count": 19,
     "metadata": {},
     "output_type": "execute_result"
    }
   ],
   "source": [
    "model.predict(np.array([72]).reshape((-1, 1))) #input into  model.predict must be a 2D array"
   ]
  },
  {
   "cell_type": "code",
   "execution_count": 20,
   "metadata": {},
   "outputs": [
    {
     "data": {
      "text/plain": [
       "68.52592"
      ]
     },
     "execution_count": 20,
     "metadata": {},
     "output_type": "execute_result"
    }
   ],
   "source": [
    "#using the line we created! y = 0.63736x+22.636\n",
    "\n",
    "y_pred = 0.63736 * 72 + 22.636\n",
    "y_pred"
   ]
  },
  {
   "cell_type": "markdown",
   "metadata": {},
   "source": [
    "## How do we know linear regression is a good option for our data?!"
   ]
  },
  {
   "cell_type": "markdown",
   "metadata": {},
   "source": [
    "Visualize the residuals in a plot\n",
    "\n",
    " - residuals on y-axis\n",
    " - x-values on x-axis\n",
    " \n",
    " \n",
    "The outcome of this graph can help us determine if linear regression is a good option."
   ]
  },
  {
   "cell_type": "markdown",
   "metadata": {},
   "source": [
    "Add \"Residuals\" column to the dataframe."
   ]
  },
  {
   "cell_type": "code",
   "execution_count": 21,
   "metadata": {},
   "outputs": [],
   "source": [
    "def computes_residuals(row):\n",
    "    ''' computes the resiudal for childHeight and midparentHeight '''\n",
    "    return row['childHeight'] - (model.coef_[0]*row['midparentHeight'] + model.intercept_)\n",
    "\n",
    "\n",
    "galton_df['Residuals'] = galton_df.apply(computes_residuals, axis=1)"
   ]
  },
  {
   "cell_type": "code",
   "execution_count": 22,
   "metadata": {},
   "outputs": [
    {
     "data": {
      "text/html": [
       "<div>\n",
       "<style scoped>\n",
       "    .dataframe tbody tr th:only-of-type {\n",
       "        vertical-align: middle;\n",
       "    }\n",
       "\n",
       "    .dataframe tbody tr th {\n",
       "        vertical-align: top;\n",
       "    }\n",
       "\n",
       "    .dataframe thead th {\n",
       "        text-align: right;\n",
       "    }\n",
       "</style>\n",
       "<table border=\"1\" class=\"dataframe\">\n",
       "  <thead>\n",
       "    <tr style=\"text-align: right;\">\n",
       "      <th></th>\n",
       "      <th>family</th>\n",
       "      <th>father</th>\n",
       "      <th>mother</th>\n",
       "      <th>midparentHeight</th>\n",
       "      <th>children</th>\n",
       "      <th>childNum</th>\n",
       "      <th>gender</th>\n",
       "      <th>childHeight</th>\n",
       "      <th>Residuals</th>\n",
       "    </tr>\n",
       "  </thead>\n",
       "  <tbody>\n",
       "    <tr>\n",
       "      <th>0</th>\n",
       "      <td>1</td>\n",
       "      <td>78.5</td>\n",
       "      <td>67.0</td>\n",
       "      <td>75.43</td>\n",
       "      <td>4</td>\n",
       "      <td>1</td>\n",
       "      <td>male</td>\n",
       "      <td>73.2</td>\n",
       "      <td>2.487627</td>\n",
       "    </tr>\n",
       "    <tr>\n",
       "      <th>1</th>\n",
       "      <td>1</td>\n",
       "      <td>78.5</td>\n",
       "      <td>67.0</td>\n",
       "      <td>75.43</td>\n",
       "      <td>4</td>\n",
       "      <td>2</td>\n",
       "      <td>female</td>\n",
       "      <td>69.2</td>\n",
       "      <td>-1.512373</td>\n",
       "    </tr>\n",
       "    <tr>\n",
       "      <th>2</th>\n",
       "      <td>1</td>\n",
       "      <td>78.5</td>\n",
       "      <td>67.0</td>\n",
       "      <td>75.43</td>\n",
       "      <td>4</td>\n",
       "      <td>3</td>\n",
       "      <td>female</td>\n",
       "      <td>69.0</td>\n",
       "      <td>-1.712373</td>\n",
       "    </tr>\n",
       "    <tr>\n",
       "      <th>3</th>\n",
       "      <td>1</td>\n",
       "      <td>78.5</td>\n",
       "      <td>67.0</td>\n",
       "      <td>75.43</td>\n",
       "      <td>4</td>\n",
       "      <td>4</td>\n",
       "      <td>female</td>\n",
       "      <td>69.0</td>\n",
       "      <td>-1.712373</td>\n",
       "    </tr>\n",
       "    <tr>\n",
       "      <th>4</th>\n",
       "      <td>2</td>\n",
       "      <td>75.5</td>\n",
       "      <td>66.5</td>\n",
       "      <td>73.66</td>\n",
       "      <td>4</td>\n",
       "      <td>1</td>\n",
       "      <td>male</td>\n",
       "      <td>73.5</td>\n",
       "      <td>3.915756</td>\n",
       "    </tr>\n",
       "    <tr>\n",
       "      <th>...</th>\n",
       "      <td>...</td>\n",
       "      <td>...</td>\n",
       "      <td>...</td>\n",
       "      <td>...</td>\n",
       "      <td>...</td>\n",
       "      <td>...</td>\n",
       "      <td>...</td>\n",
       "      <td>...</td>\n",
       "      <td>...</td>\n",
       "    </tr>\n",
       "    <tr>\n",
       "      <th>929</th>\n",
       "      <td>203</td>\n",
       "      <td>62.0</td>\n",
       "      <td>66.0</td>\n",
       "      <td>66.64</td>\n",
       "      <td>3</td>\n",
       "      <td>1</td>\n",
       "      <td>male</td>\n",
       "      <td>64.0</td>\n",
       "      <td>-1.109971</td>\n",
       "    </tr>\n",
       "    <tr>\n",
       "      <th>930</th>\n",
       "      <td>203</td>\n",
       "      <td>62.0</td>\n",
       "      <td>66.0</td>\n",
       "      <td>66.64</td>\n",
       "      <td>3</td>\n",
       "      <td>2</td>\n",
       "      <td>female</td>\n",
       "      <td>62.0</td>\n",
       "      <td>-3.109971</td>\n",
       "    </tr>\n",
       "    <tr>\n",
       "      <th>931</th>\n",
       "      <td>203</td>\n",
       "      <td>62.0</td>\n",
       "      <td>66.0</td>\n",
       "      <td>66.64</td>\n",
       "      <td>3</td>\n",
       "      <td>3</td>\n",
       "      <td>female</td>\n",
       "      <td>61.0</td>\n",
       "      <td>-4.109971</td>\n",
       "    </tr>\n",
       "    <tr>\n",
       "      <th>932</th>\n",
       "      <td>204</td>\n",
       "      <td>62.5</td>\n",
       "      <td>63.0</td>\n",
       "      <td>65.27</td>\n",
       "      <td>2</td>\n",
       "      <td>1</td>\n",
       "      <td>male</td>\n",
       "      <td>66.5</td>\n",
       "      <td>2.263214</td>\n",
       "    </tr>\n",
       "    <tr>\n",
       "      <th>933</th>\n",
       "      <td>204</td>\n",
       "      <td>62.5</td>\n",
       "      <td>63.0</td>\n",
       "      <td>65.27</td>\n",
       "      <td>2</td>\n",
       "      <td>2</td>\n",
       "      <td>female</td>\n",
       "      <td>57.0</td>\n",
       "      <td>-7.236786</td>\n",
       "    </tr>\n",
       "  </tbody>\n",
       "</table>\n",
       "<p>934 rows × 9 columns</p>\n",
       "</div>"
      ],
      "text/plain": [
       "    family  father  mother  midparentHeight  children  childNum  gender   \n",
       "0        1    78.5    67.0            75.43         4         1    male  \\\n",
       "1        1    78.5    67.0            75.43         4         2  female   \n",
       "2        1    78.5    67.0            75.43         4         3  female   \n",
       "3        1    78.5    67.0            75.43         4         4  female   \n",
       "4        2    75.5    66.5            73.66         4         1    male   \n",
       "..     ...     ...     ...              ...       ...       ...     ...   \n",
       "929    203    62.0    66.0            66.64         3         1    male   \n",
       "930    203    62.0    66.0            66.64         3         2  female   \n",
       "931    203    62.0    66.0            66.64         3         3  female   \n",
       "932    204    62.5    63.0            65.27         2         1    male   \n",
       "933    204    62.5    63.0            65.27         2         2  female   \n",
       "\n",
       "     childHeight  Residuals  \n",
       "0           73.2   2.487627  \n",
       "1           69.2  -1.512373  \n",
       "2           69.0  -1.712373  \n",
       "3           69.0  -1.712373  \n",
       "4           73.5   3.915756  \n",
       "..           ...        ...  \n",
       "929         64.0  -1.109971  \n",
       "930         62.0  -3.109971  \n",
       "931         61.0  -4.109971  \n",
       "932         66.5   2.263214  \n",
       "933         57.0  -7.236786  \n",
       "\n",
       "[934 rows x 9 columns]"
      ]
     },
     "execution_count": 22,
     "metadata": {},
     "output_type": "execute_result"
    }
   ],
   "source": [
    "galton_df"
   ]
  },
  {
   "cell_type": "code",
   "execution_count": 23,
   "metadata": {},
   "outputs": [],
   "source": [
    "# plot a scatterplot of residuals against midparentHeight"
   ]
  },
  {
   "cell_type": "code",
   "execution_count": 25,
   "metadata": {},
   "outputs": [
    {
     "data": {
      "image/png": "[encoded data removed]",
      "text/plain": [
       "<Figure size 432x432 with 1 Axes>"
      ]
     },
     "metadata": {},
     "output_type": "display_data"
    }
   ],
   "source": [
    "import numpy as np\n",
    "plt.figure(figsize=(6,6))\n",
    "plt.scatter(galton_df['midparentHeight'],galton_df['Residuals'],c=\"darkblue\",s=15)\n",
    "plt.xlabel(\"MidParent Height\")\n",
    "plt.ylabel(\"Residuals\")\n",
    "xlims = np.array([64, 76])\n",
    "plt.plot(xlims, 0 * xlims, lw=2,color='red') \n",
    "plt.title(\"Residual Plot\")\n",
    "plt.show()"
   ]
  },
  {
   "cell_type": "markdown",
   "metadata": {},
   "source": [
    "**Talk to your neighbor: What is happening here?**"
   ]
  },
  {
   "cell_type": "markdown",
   "metadata": {},
   "source": [
    "This residual plot indicates that linear regression was a reasonable method of estimation!"
   ]
  },
  {
   "cell_type": "markdown",
   "metadata": {},
   "source": [
    "What does a poor residual plot look like?\n",
    "\n",
    " - uneven variation about the horizontal line at 0\n",
    " \n",
    " - non random pattern"
   ]
  },
  {
   "cell_type": "markdown",
   "metadata": {},
   "source": [
    "\n",
    "<img src=\"\n",
    "https://github.com/SusannaLange/Data_118_images/blob/main/DSSI_images/linear_regression/residual_plot_example.png?raw=true\" width=\"800\">"
   ]
  },
  {
   "cell_type": "markdown",
   "metadata": {},
   "source": [
    "Recall this relationship between $x$ and $y$\n",
    "\n",
    "\n",
    "$y=x^2$\n",
    "\n",
    "What does the residual plot look like for this clearly non-linear plot?!"
   ]
  },
  {
   "cell_type": "code",
   "execution_count": 26,
   "metadata": {},
   "outputs": [
    {
     "data": {
      "image/png": "[encoded data removed]",
      "text/plain": [
       "<Figure size 432x288 with 1 Axes>"
      ]
     },
     "metadata": {},
     "output_type": "display_data"
    }
   ],
   "source": [
    "new_x = np.random.uniform(-2,2,20)\n",
    "\n",
    "y = (new_x)**2 + np.random.uniform(-2,2)\n",
    "plt.scatter(new_x, y, s=30, color='r');"
   ]
  },
  {
   "cell_type": "markdown",
   "metadata": {},
   "source": [
    "### <mark style=\"background-color: Thistle\">Find the linear regression line for this data: (Note we do not expect good results) </mark>\n"
   ]
  },
  {
   "cell_type": "code",
   "execution_count": null,
   "metadata": {},
   "outputs": [],
   "source": [
    "model2 = LinearRegression() \n",
    "\n",
    "#one line of code here"
   ]
  },
  {
   "cell_type": "code",
   "execution_count": 30,
   "metadata": {},
   "outputs": [
    {
     "data": {
      "image/png": "[encoded data removed]",
      "text/plain": [
       "<Figure size 432x288 with 1 Axes>"
      ]
     },
     "metadata": {},
     "output_type": "display_data"
    }
   ],
   "source": [
    "#plot the graph\n",
    "xlims = np.array([-2, 2])\n",
    "plt.scatter(new_x, y, s=30, color='r');\n",
    "plt.plot(xlims, model2.coef_[0]*xlims + model2.intercept_, lw=2,color='red')\n",
    "plt.show()"
   ]
  },
  {
   "cell_type": "markdown",
   "metadata": {},
   "source": [
    "The residual plot looks like:"
   ]
  },
  {
   "cell_type": "code",
   "execution_count": 31,
   "metadata": {},
   "outputs": [
    {
     "data": {
      "text/plain": [
       "Text(0, 0.5, 'Residuals')"
      ]
     },
     "execution_count": 31,
     "metadata": {},
     "output_type": "execute_result"
    },
    {
     "data": {
      "image/png": "[encoded data removed]",
      "text/plain": [
       "<Figure size 432x288 with 1 Axes>"
      ]
     },
     "metadata": {},
     "output_type": "display_data"
    }
   ],
   "source": [
    "residual_array = y - (model2.coef_[0]*new_x + model2.intercept_)\n",
    "xlims = np.array([-2, 2])\n",
    "plt.plot(xlims, 0 * xlims, lw=2,color='blue')\n",
    "plt.scatter(new_x, residual_array, s=30, color='r');\n",
    "plt.title('Residual Plot')\n",
    "plt.xlabel('x-values')\n",
    "plt.ylabel('Residuals')\n",
    "plt.show()"
   ]
  },
  {
   "cell_type": "markdown",
   "metadata": {},
   "source": [
    "So ...what does a poor residual plot look like?\n",
    "\n",
    " - uneven variation about the horizontal line at 0\n",
    " \n",
    " - non random pattern"
   ]
  },
  {
   "cell_type": "markdown",
   "metadata": {},
   "source": [
    "### Extrapolation: using your model to make predictions outside the range of your data\n",
    "\n",
    " - Can be dangerous because the trends may not continue"
   ]
  },
  {
   "cell_type": "markdown",
   "metadata": {},
   "source": [
    "\n",
    "\n",
    "<img src=\"\n",
    "https://github.com/SusannaLange/Data_118_images/blob/main/DSSI_images/linear_regression/extrapolation.png?raw=true\" width=\"800\">"
   ]
  },
  {
   "cell_type": "markdown",
   "metadata": {},
   "source": [
    "\n",
    "\n",
    "<img src=\"\n",
    "https://github.com/SusannaLange/Data_118_images/blob/main/DSSI_images/linear_regression/extrap_2.png?raw=true\" width=\"800\">\n",
    "\n",
    "Both comics: xkcd"
   ]
  },
  {
   "cell_type": "markdown",
   "metadata": {},
   "source": [
    "#### Goal of Regression:\n",
    "    \n",
    "To predict what happens if we include another data point or points! (within original $x$ bounds.)"
   ]
  },
  {
   "cell_type": "markdown",
   "metadata": {},
   "source": [
    "### <mark style=\"background-color: Thistle\">Linear Regression Activity! </mark>\n",
    "\n",
    "Below is a housing dataset that contains information on year built, number of rooms, number of beds, etc. Make a few scatterplots comparing 'sold price' with differnt variables to find a potential association between the two. \n",
    "\n",
    "**The question to answer: what variables should we use if we want to predict selling price for a house?**\n",
    "\n",
    "Find the least squares regression line for your chosen variables.\n",
    "\n",
    "Determine if linear regression was a good option for your variables of interest."
   ]
  },
  {
   "cell_type": "code",
   "execution_count": null,
   "metadata": {},
   "outputs": [],
   "source": [
    "housing_df=pd.read_csv(\"../datasets/Housing.csv\")\n",
    "housing_df.head()"
   ]
  },
  {
   "cell_type": "code",
   "execution_count": null,
   "metadata": {},
   "outputs": [],
   "source": []
  }
 ],
 "metadata": {
  "anaconda-cloud": {},
  "kernelspec": {
   "display_name": "Python 3 (ipykernel)",
   "language": "python",
   "name": "python3"
  },
  "language_info": {
   "codemirror_mode": {
    "name": "ipython",
    "version": 3
   },
   "file_extension": ".py",
   "mimetype": "text/x-python",
   "name": "python",
   "nbconvert_exporter": "python",
   "pygments_lexer": "ipython3",
   "version": "3.9.12"
  }
 },
 "nbformat": 4,
 "nbformat_minor": 1
}
