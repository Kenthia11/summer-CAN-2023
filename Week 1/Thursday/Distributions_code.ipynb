{
 "cells": [
  {
   "cell_type": "markdown",
   "id": "fd17428e",
   "metadata": {},
   "source": [
    "# Distributions!\n",
    "\n",
    "Thursday, June 15 2023\n",
    "\n",
    "Notebook Author: Susanna Lange, PhD"
   ]
  },
  {
   "cell_type": "markdown",
   "id": "ced50b13",
   "metadata": {},
   "source": [
    "# Goals\n",
    "\n",
    " - Formalize probability distributions\n",
    " \n",
    "    - Key aspects of distributions\n",
    "    \n",
    "    - Normal Distribution\n",
    "    \n",
    "    \n",
    "## Big picture goal: \n",
    "\n",
    "Inference: using data from a sample to draw conclusions about a \n",
    "wider population. \n",
    "\n",
    "(penguins I observed ---> all penguins)\n",
    "\n",
    "How do we do this? By understanding something about what the data looks like."
   ]
  },
  {
   "cell_type": "markdown",
   "id": "07f2eca6",
   "metadata": {},
   "source": [
    "In data science, the word “empirical” means “observed”. Empirical distributions are distributions of observed data."
   ]
  },
  {
   "cell_type": "markdown",
   "id": "7945a8eb",
   "metadata": {},
   "source": [
    "In general, distributions refer to the spread of a statistic or parameter. How likely is some value to occur?\n",
    "\n",
    "Empirical Probability Distribution\n",
    "\n",
    " - The observed distribution\n",
    " \n",
    " - An experiment can be repeated and recorded\n",
    "    \n",
    "Probability Distribution\n",
    "\n",
    " - Not based on observed data but rather theoretical\n",
    " \n",
    " - It can be studied and understood without any sample or experiment\n",
    "   "
   ]
  },
  {
   "cell_type": "markdown",
   "id": "bb83f9ef",
   "metadata": {},
   "source": [
    "So, what do we mean by **probability**? The chance or likelihood of some event to occur."
   ]
  },
  {
   "cell_type": "markdown",
   "id": "3f7b2fb9",
   "metadata": {},
   "source": [
    "Consider a 6 sided die that we roll exactly one time. We have some idea of what will show as the outcome of a roll.\n",
    "\n",
    "The code below replicates this 'experiment'"
   ]
  },
  {
   "cell_type": "code",
   "execution_count": null,
   "id": "87c6de08",
   "metadata": {},
   "outputs": [],
   "source": [
    "#import libraries\n",
    "import numpy as np\n",
    "import pandas as pd\n",
    "\n",
    "%matplotlib inline\n",
    "import matplotlib.pyplot as plt\n",
    "plt.style.use('fivethirtyeight')"
   ]
  },
  {
   "cell_type": "markdown",
   "id": "e52da442",
   "metadata": {},
   "source": [
    "Here we'll create and sample from a DataFrame!\n"
   ]
  },
  {
   "cell_type": "code",
   "execution_count": null,
   "id": "dff4b5de",
   "metadata": {},
   "outputs": [],
   "source": [
    "die = pd.DataFrame(\n",
    "   {\n",
    "       'Face': np.arange(1, 7),\n",
    "   })\n",
    "die"
   ]
  },
  {
   "cell_type": "code",
   "execution_count": null,
   "id": "51399dd6",
   "metadata": {},
   "outputs": [],
   "source": [
    "die.sample(1)"
   ]
  },
  {
   "cell_type": "markdown",
   "id": "0bc772f4",
   "metadata": {},
   "source": [
    "Suppose we want to repeat this experiment and see how often each face shows up!\n",
    "\n",
    "Recall the default is to sample without replacement. "
   ]
  },
  {
   "cell_type": "code",
   "execution_count": null,
   "id": "a9ab93d8",
   "metadata": {},
   "outputs": [],
   "source": [
    "die.sample(12, replace = True)"
   ]
  },
  {
   "cell_type": "markdown",
   "id": "e6888c28",
   "metadata": {},
   "source": [
    "If we sample from a DataFrame, we can directly plot the results:"
   ]
  },
  {
   "cell_type": "code",
   "execution_count": null,
   "id": "2876446b",
   "metadata": {},
   "outputs": [],
   "source": [
    "#histogram\n",
    "# note, starting the bins at 0.5 will give us bars centered nicely over the face numbers\n",
    "\n",
    "roll_bins = np.arange(0.5, 7, 1)\n",
    "die.sample(12, replace=True).hist(bins=roll_bins)\n",
    "plt.ylabel('Frequency')\n",
    "plt.xlabel('Roll of the Die')\n",
    "plt.show()"
   ]
  },
  {
   "cell_type": "markdown",
   "id": "447e9971",
   "metadata": {},
   "source": [
    "What about 100 rolls?"
   ]
  },
  {
   "cell_type": "code",
   "execution_count": null,
   "id": "f96efd5e",
   "metadata": {},
   "outputs": [],
   "source": [
    "die.sample(100, replace=True).hist(bins=roll_bins)\n",
    "plt.ylabel('Frequency')\n",
    "plt.xlabel('Roll of the Die')\n",
    "plt.show()"
   ]
  },
  {
   "cell_type": "markdown",
   "id": "9eb17a75",
   "metadata": {},
   "source": [
    "And 1000?"
   ]
  },
  {
   "cell_type": "code",
   "execution_count": null,
   "id": "afec083b",
   "metadata": {},
   "outputs": [],
   "source": [
    "die.sample(1000, replace=True).hist(bins=roll_bins)\n",
    "plt.ylabel('Frequency')\n",
    "plt.xlabel('Roll of the Die')\n",
    "plt.show()"
   ]
  },
  {
   "cell_type": "markdown",
   "id": "cec29112",
   "metadata": {},
   "source": [
    "Should we attempt 100,000 rolls?"
   ]
  },
  {
   "cell_type": "code",
   "execution_count": null,
   "id": "d084c8d4",
   "metadata": {},
   "outputs": [],
   "source": [
    "die.sample(100_000, replace=True).hist(bins=roll_bins)\n",
    "plt.ylabel('Frequency')\n",
    "plt.xlabel('Roll of the Die')\n",
    "plt.show()"
   ]
  },
  {
   "cell_type": "markdown",
   "id": "02ef49c8",
   "metadata": {},
   "source": [
    "The result is a histogram of observed data."
   ]
  },
  {
   "cell_type": "markdown",
   "id": "3e970065",
   "metadata": {},
   "source": [
    "In fact, this has a special name. An **empirical distribution** is a distribution of observed data."
   ]
  },
  {
   "cell_type": "markdown",
   "id": "4c103cc9",
   "metadata": {},
   "source": [
    "But we know in theory what to expect before we even roll a die....\n",
    "\n",
    "\n",
    "Because each outcome here is (in theory) equally likely to occur.\n",
    "\n",
    "The probability of equally likely events: is $P(A) = \\frac{\\text{number of outcomes in event A}}{\\text{total number of outcomes}}$"
   ]
  },
  {
   "cell_type": "markdown",
   "id": "0a2012b4",
   "metadata": {},
   "source": [
    "So, the probability of rolling a 1 is $\\frac{1}{6}$.\n",
    "\n",
    "The probability of rolling a 2 is $\\frac{1}{6}$.\n",
    "\n",
    "\n",
    "and so on..."
   ]
  },
  {
   "cell_type": "code",
   "execution_count": null,
   "id": "fa861125",
   "metadata": {},
   "outputs": [],
   "source": [
    "die_bins = np.arange(0.5, 6.6, 1)\n",
    "die.hist(bins = die_bins, density=True) #this density=True argument changes the y-axis from frequency to relative frequency\n",
    "plt.xlabel('Face of the Die')\n",
    "plt.ylabel('Probability')"
   ]
  },
  {
   "cell_type": "markdown",
   "id": "12754ded",
   "metadata": {},
   "source": [
    "The observed probabilities are not always so nice!\n",
    "\n",
    "We can calculate the observed probabilies by $P(\\text{'rolling the face n'}) = \\frac{\\text{number of times n was rolled}}{\\text{Total number of rolls}}$"
   ]
  },
  {
   "cell_type": "code",
   "execution_count": null,
   "id": "02b8c2cb",
   "metadata": {},
   "outputs": [],
   "source": [
    "empirical_probabilites = (die.sample(1_000, replace=True).value_counts())/1_000\n",
    "empirical_probabilites "
   ]
  },
  {
   "cell_type": "code",
   "execution_count": null,
   "id": "db523ca7",
   "metadata": {},
   "outputs": [],
   "source": [
    "die.sample(1000, replace=True).hist(bins=roll_bins, density = True)"
   ]
  },
  {
   "cell_type": "markdown",
   "id": "f741f39c",
   "metadata": {},
   "source": [
    "The probabilities associated with our experiment or observation give us an **empirical probability distribution**\n",
    "\n",
    "Whereas, a **probability distribution** gives us our true theoretical probabilities."
   ]
  },
  {
   "cell_type": "markdown",
   "id": "74b0826d",
   "metadata": {},
   "source": [
    "Note, this example with equally likely outcomes arises in a special type of probability distribution known as the **uniform probability distribution**. "
   ]
  },
  {
   "cell_type": "markdown",
   "id": "da17765d",
   "metadata": {},
   "source": [
    "### We saw something interesting with this example!"
   ]
  },
  {
   "cell_type": "markdown",
   "id": "b7b41c5d",
   "metadata": {},
   "source": [
    "As the number of experiments increased, our **empirical probability distribution** got closer and closer to the **probability distribution**."
   ]
  },
  {
   "cell_type": "markdown",
   "id": "208b6dd2",
   "metadata": {},
   "source": [
    "This is true in general!!! (with a few conditions)\n",
    "The **Law of Averages** says if we repeat an experiment a large number of times we expect the empirical results to be close to the theoretical.\n",
    "\n",
    "Conditions for the result to hold:\n",
    "\n",
    " - Each experiment has no effect on any other experiment\n",
    " \n",
    " - Each experiment is done under the same conditions"
   ]
  },
  {
   "cell_type": "markdown",
   "id": "d9d655bc",
   "metadata": {},
   "source": [
    "But distributions can take on different shapes"
   ]
  },
  {
   "cell_type": "markdown",
   "id": "be337904",
   "metadata": {},
   "source": [
    "<img src=\"https://github.com/SusannaLange/Data_118_images/blob/main/DSSI_images/distributions.png?raw=true\" width=\"800\">"
   ]
  },
  {
   "cell_type": "markdown",
   "id": "b9afb6ef",
   "metadata": {},
   "source": [
    "There are certain values or statistics that are useful when discussing any probability distribution.\n",
    "\n",
    " - Measures of center\n",
    " \n",
    " - Measures of spread"
   ]
  },
  {
   "cell_type": "markdown",
   "id": "6fcccb2f",
   "metadata": {},
   "source": [
    "The **mean** of given data is used to get a sense of the center of the distribution.\n",
    "\n",
    "- denoted $\\mu$ or $\\bar{x}$\n",
    "\n",
    "- the average of the data\n",
    "\n",
    "- tells us the balance point of the distribution\n",
    "\n",
    "\n",
    "Given finite data $x_1, x_2, ..., x_n$ the mean is $\\frac{x_1 + x_2 + ...+ x_n}{n}$"
   ]
  },
  {
   "cell_type": "markdown",
   "id": "94f17258",
   "metadata": {},
   "source": [
    "The **variance** and/or the **standard deviation** are both measures of spread\n",
    "\n",
    " - variance is denoted $\\sigma^2$\n",
    " \n",
    " - standard deviation is denoted $\\sigma$\n",
    " \n",
    " - How far away from the mean is the data?\n",
    " \n",
    " \n",
    "Given finite data $x_1, x_2, ..., x_n$ and mean $\\mu$, the variance is $$\\sigma^2  = \\sum_i \\frac{(x_i-\\mu)^2}{n}$$"
   ]
  },
  {
   "cell_type": "markdown",
   "id": "20933128",
   "metadata": {},
   "source": [
    "Let's consider another distribution. \n",
    "Load in Galton Height Data. This contains data on father, mother, and child heights!"
   ]
  },
  {
   "cell_type": "code",
   "execution_count": null,
   "id": "4c548271",
   "metadata": {},
   "outputs": [],
   "source": [
    "galton_df = pd.read_csv(\"../datasets/galton.csv\")\n",
    "galton_df.head(6)"
   ]
  },
  {
   "cell_type": "markdown",
   "id": "d4f4646f",
   "metadata": {},
   "source": [
    "### <mark style=\"background-color: Thistle\">Activity: Make a histogram of the heights of the fathers in the galton_df. </mark>\n",
    "Use probabilities on y-axis."
   ]
  },
  {
   "cell_type": "code",
   "execution_count": null,
   "id": "6ed685fc",
   "metadata": {},
   "outputs": [],
   "source": [
    "bin_size=np.arange(60, 80.5, 1) #use these bins\n",
    "\n",
    "##code here"
   ]
  },
  {
   "cell_type": "markdown",
   "id": "07c933f2",
   "metadata": {},
   "source": [
    "This is another **empirical distribution**, but a special one!\n",
    "An **empirical normal distribution**.\n",
    "\n",
    "- Unlike what we saw above, the values are continous variables."
   ]
  },
  {
   "cell_type": "markdown",
   "id": "bb2a9c38",
   "metadata": {},
   "source": [
    "### Normal Probability Distribution"
   ]
  },
  {
   "cell_type": "markdown",
   "id": "deaa2299",
   "metadata": {},
   "source": [
    "\n",
    "<img src=\"https://github.com/SusannaLange/Data_118_images/blob/main/DSSI_images/normal_bell.png?raw=true\" width=\"800\">"
   ]
  },
  {
   "cell_type": "markdown",
   "id": "088866df",
   "metadata": {},
   "source": [
    "Arguably the most important continuous distribution.\n",
    "\n",
    "Describes the distributions of things such as\n",
    "\n",
    "- height\n",
    "\n",
    "- weight\n",
    "\n",
    "- SAT scores"
   ]
  },
  {
   "cell_type": "markdown",
   "id": "f8c7efe5",
   "metadata": {},
   "source": [
    "Important facts about the normal distribution:\n",
    "\n",
    " - A normal distribution is symmetric and bell-shaped, giving it the nickname \"bell-curve\".\n",
    "\n",
    " - The mean, median and mode are exactly the same.\n",
    "\n",
    " - Defined entirely by its mean and standard deviation!\n",
    "\n",
    "\n",
    "If $X$ is distributed continuous Normal, then $X ∼ N(\\mu,\\sigma)$"
   ]
  },
  {
   "cell_type": "markdown",
   "id": "d1f01b8b",
   "metadata": {},
   "source": [
    "Remember how we said standard deviation was a good measure of spread?! One reason is because it can be used to bound the data..."
   ]
  },
  {
   "cell_type": "markdown",
   "id": "9ca1dbc8",
   "metadata": {},
   "source": [
    "\n",
    "<img src=\"https://github.com/SusannaLange/Data_118_images/blob/main/DSSI_images/normal_sd.png?raw=true\" width=\"800\">"
   ]
  },
  {
   "cell_type": "markdown",
   "id": "a7477219",
   "metadata": {},
   "source": [
    "The special case of the normal distribution is called the **standard normal**, where $\\mu=0$ and $\\sigma=1$.\n",
    "\n",
    "If $X  ∼  N(\\mu, \\sigma)$ then we can *transform* it to a standard normal, by normalizing it! That is:\n",
    "\n",
    "$$\\frac{X-\\mu}{\\sigma}$$"
   ]
  },
  {
   "cell_type": "markdown",
   "id": "6450896b",
   "metadata": {},
   "source": [
    "##### A few reasons that we care about the normal distribution.\n",
    "\n",
    "It shows up a lot!!!"
   ]
  },
  {
   "cell_type": "markdown",
   "id": "8b47740d",
   "metadata": {},
   "source": [
    "There is an important relationship between the mean of given data and a normal distribution."
   ]
  },
  {
   "cell_type": "markdown",
   "id": "e01dfacb",
   "metadata": {},
   "source": [
    "### <mark style=\"background-color: Thistle\">Investigative activity </mark>"
   ]
  },
  {
   "cell_type": "markdown",
   "id": "ed9c9374",
   "metadata": {},
   "source": [
    "Recall we experimented with rolling a 6 sided die? Instead of graphing the outputs themselves, let's replicate the following process:\n",
    "\n",
    "(1) roll a fair 6 sided die 50 times\n",
    "\n",
    "(2) record the mean over these 50 rolls\n",
    "\n",
    "Repeat this $n$ times and graph the results!"
   ]
  },
  {
   "cell_type": "code",
   "execution_count": null,
   "id": "f2ce0faa",
   "metadata": {},
   "outputs": [],
   "source": [
    "#first we have our definition of die\n",
    "die = pd.DataFrame(\n",
    "    {\n",
    "        'Face': np.arange(1, 7),\n",
    "    })"
   ]
  },
  {
   "cell_type": "code",
   "execution_count": null,
   "id": "45521fdf",
   "metadata": {},
   "outputs": [],
   "source": [
    "def face_mean_sim(nsim):\n",
    "    \"\"\"Simulates nsim repetions of 50 dice rolls and returns their sample mean.\"\"\"\n",
    "    means = [] #we want to store our means here\n",
    "    \n",
    "    for i in np.arange(nsim):\n",
    "        ?????????\n",
    "        \n",
    "    return means"
   ]
  },
  {
   "cell_type": "markdown",
   "id": "90cf958b",
   "metadata": {},
   "source": [
    "We want to plot our results in a histogram:\n",
    "\n",
    "    Let's start with n_sim = 10"
   ]
  },
  {
   "cell_type": "code",
   "execution_count": null,
   "id": "159b3252",
   "metadata": {},
   "outputs": [],
   "source": [
    "#code here\n"
   ]
  },
  {
   "cell_type": "markdown",
   "id": "948edbdf",
   "metadata": {},
   "source": [
    "We can increase the number of repetitions and consider the distribution. Fill in the following code."
   ]
  },
  {
   "cell_type": "code",
   "execution_count": null,
   "id": "4462aca9",
   "metadata": {},
   "outputs": [],
   "source": [
    "fig, axs = plt.subplots(3, figsize=(8, 8))\n",
    "fig.suptitle('Mean Dice Roll Simulation: 100, 1000, and 10000')\n",
    "fig.tight_layout()\n",
    "axs[0].hist(???) #repeat 100 times\n",
    "axs[1].hist(???) #repeat 1000 times\n",
    "axs[2].hist(????) #repeat 10000 times\n",
    "plt.show()"
   ]
  },
  {
   "cell_type": "markdown",
   "id": "92d5be4a",
   "metadata": {},
   "source": [
    "What do you notice?"
   ]
  },
  {
   "cell_type": "markdown",
   "id": "249b03e7",
   "metadata": {},
   "source": [
    "Answer here"
   ]
  },
  {
   "cell_type": "markdown",
   "id": "99f225d5",
   "metadata": {},
   "source": [
    "This is because of the **Central Limit Theorem**!\n",
    "\n",
    "If you take sufficiently large random samples from a population with replacement, the distribution of sample means will be approximately normally distributed **regardless of the original distribution!!**\n"
   ]
  },
  {
   "cell_type": "markdown",
   "id": "ec30463a",
   "metadata": {},
   "source": [
    "Why is this useful?!"
   ]
  },
  {
   "cell_type": "markdown",
   "id": "0a3a8c0c",
   "metadata": {},
   "source": [
    "We may not know what the population looks like, but this allows us to get a good estimate of a statistic (like the sample mean or proportion)"
   ]
  },
  {
   "cell_type": "markdown",
   "id": "c8f1b763",
   "metadata": {},
   "source": [
    "Why did we need distributions? And why do we care?!\n",
    "\n",
    "\n",
    "In order to make statistical conclusions about your data, you need some idea of\n",
    "\n",
    " - the shape of the data\n",
    " \n",
    " - information and understanding about its mean, variance, standard deviation"
   ]
  },
  {
   "cell_type": "markdown",
   "id": "9f439b9c",
   "metadata": {},
   "source": [
    "### <mark style=\"background-color: Thistle\">Concept Check </mark>\n",
    "\n",
    "Summarize 2 important concepts from this notebook. See if your highlights agree with your neighbor/group."
   ]
  },
  {
   "cell_type": "markdown",
   "id": "3dd9d790",
   "metadata": {},
   "source": [
    "1. "
   ]
  },
  {
   "cell_type": "markdown",
   "id": "fd231b18",
   "metadata": {},
   "source": [
    "2."
   ]
  },
  {
   "cell_type": "code",
   "execution_count": null,
   "id": "a51ff418",
   "metadata": {},
   "outputs": [],
   "source": []
  }
 ],
 "metadata": {
  "kernelspec": {
   "display_name": "Python 3 (ipykernel)",
   "language": "python",
   "name": "python3"
  },
  "language_info": {
   "codemirror_mode": {
    "name": "ipython",
    "version": 3
   },
   "file_extension": ".py",
   "mimetype": "text/x-python",
   "name": "python",
   "nbconvert_exporter": "python",
   "pygments_lexer": "ipython3",
   "version": "3.9.12"
  }
 },
 "nbformat": 4,
 "nbformat_minor": 5
}
