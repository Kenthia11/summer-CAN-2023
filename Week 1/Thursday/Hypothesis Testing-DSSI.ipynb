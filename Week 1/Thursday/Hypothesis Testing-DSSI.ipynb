{
 "cells": [
  {
   "cell_type": "code",
   "execution_count": 1,
   "id": "5749e9ba",
   "metadata": {
    "hideCode": false,
    "hidePrompt": false,
    "slideshow": {
     "slide_type": "skip"
    }
   },
   "outputs": [],
   "source": [
    "import numpy as np\n",
    "import pandas as pd\n",
    "\n",
    "%matplotlib inline\n",
    "import matplotlib.pyplot as plt\n",
    "plt.style.use('fivethirtyeight')\n",
    "\n",
    "import warnings\n",
    "warnings.filterwarnings(\"ignore\")"
   ]
  },
  {
   "cell_type": "markdown",
   "id": "a45e7fde",
   "metadata": {
    "cell_style": "center",
    "hideCode": false,
    "hidePrompt": false,
    "slideshow": {
     "slide_type": "slide"
    },
    "tags": [
     "hide_code"
    ]
   },
   "source": [
    "<center> \n",
    "\n",
    "# Hypothesis Testing and p-values\n",
    "\n",
    "## Amanda R. Kube Jotte\n",
    "    \n",
    "<img src=\"https://raw.githubusercontent.com/amandakube/Data118LectureImages/main/DSSI.png\" width=\"800\">\n",
    "    \n",
    "</center>"
   ]
  },
  {
   "cell_type": "markdown",
   "id": "f9f1568f",
   "metadata": {
    "slideshow": {
     "slide_type": "slide"
    }
   },
   "source": [
    "## Remember where we left off this morning?\n",
    "\n",
    "Once we understand our data and have explored it thoroughly, sometimes we want to make stronger claims about the statistics we calculate or compare statistics from different samples.\n",
    "\n",
    "We do this by testing our **hypotheses** about these statistics in something called a **Hypothesis Test**."
   ]
  },
  {
   "cell_type": "markdown",
   "id": "9b4f99bd",
   "metadata": {
    "slideshow": {
     "slide_type": "fragment"
    }
   },
   "source": [
    "A hypothesis is...\n",
    "\n",
    "A proposed explanation made on the basis of limited evidence as a starting point for further investigation"
   ]
  },
  {
   "cell_type": "markdown",
   "id": "5151b239",
   "metadata": {
    "slideshow": {
     "slide_type": "slide"
    }
   },
   "source": [
    "Suppose I have a hypothesis about our group:\n",
    "\n",
    "You are more adept at data science than others at your schools."
   ]
  },
  {
   "cell_type": "markdown",
   "id": "eab0b8ca",
   "metadata": {
    "slideshow": {
     "slide_type": "fragment"
    }
   },
   "source": [
    "I have limited evidence of this, but I can propose this based on the knowledge that you are here!"
   ]
  },
  {
   "cell_type": "markdown",
   "id": "76b9a8ea",
   "metadata": {
    "slideshow": {
     "slide_type": "slide"
    }
   },
   "source": [
    "This is the starting point for further investigation into how good you are at data science compared to others from your school."
   ]
  },
  {
   "cell_type": "markdown",
   "id": "f0a888ce",
   "metadata": {
    "slideshow": {
     "slide_type": "fragment"
    }
   },
   "source": [
    "What might I need to know to investigate this?"
   ]
  },
  {
   "cell_type": "markdown",
   "id": "9eb99289",
   "metadata": {
    "slideshow": {
     "slide_type": "fragment"
    }
   },
   "source": [
    "What is my population?"
   ]
  },
  {
   "cell_type": "markdown",
   "id": "341dd819",
   "metadata": {
    "slideshow": {
     "slide_type": "fragment"
    }
   },
   "source": [
    "What could I use as a statistic?"
   ]
  },
  {
   "cell_type": "markdown",
   "id": "b72a57bd",
   "metadata": {
    "slideshow": {
     "slide_type": "slide"
    }
   },
   "source": [
    "## Let's Formalize this\n",
    "\n",
    "**My Hypothesis:** You are more adept at data science than others at your schools.\n",
    "\n",
    "**The opposite:** You are NOT more adept at data science than others at your schools. (Not necessarily LESS adept!)"
   ]
  },
  {
   "cell_type": "markdown",
   "id": "5257b55a",
   "metadata": {
    "slideshow": {
     "slide_type": "fragment"
    }
   },
   "source": [
    "I want to know which is correct."
   ]
  },
  {
   "cell_type": "markdown",
   "id": "f9d086da",
   "metadata": {
    "slideshow": {
     "slide_type": "fragment"
    }
   },
   "source": [
    "Statisticians have special words to distinguish the two hypotheses..."
   ]
  },
  {
   "cell_type": "markdown",
   "id": "5de974d2",
   "metadata": {
    "slideshow": {
     "slide_type": "slide"
    }
   },
   "source": [
    "## Let's Formalize this\n",
    "\n",
    "**Alternative Hypothesis (HA or H1):** You are more adept at data science than others at your schools.\n",
    "\n",
    "**Null Hypothesis (H0):** You are NOT more adept at data science than others at your schools. (Not necessarily LESS adept!)"
   ]
  },
  {
   "cell_type": "markdown",
   "id": "29af096b",
   "metadata": {
    "slideshow": {
     "slide_type": "fragment"
    }
   },
   "source": [
    "Null means...\n",
    "\n",
    "    Invalid, associated with zero"
   ]
  },
  {
   "cell_type": "markdown",
   "id": "de765f05",
   "metadata": {
    "slideshow": {
     "slide_type": "fragment"
    }
   },
   "source": [
    "H**0**\n",
    "\n",
    "If our HA is **invalid**\n",
    "\n",
    "There is no statistically meaningful relationship!"
   ]
  },
  {
   "cell_type": "markdown",
   "id": "ef621850",
   "metadata": {
    "slideshow": {
     "slide_type": "fragment"
    }
   },
   "source": [
    "We frame hypothesis tests around the null hypothesis, assuming there is no meaningful difference until shown otherwise."
   ]
  },
  {
   "cell_type": "markdown",
   "id": "354483ba",
   "metadata": {
    "slideshow": {
     "slide_type": "slide"
    }
   },
   "source": [
    "## Let's try this on some data"
   ]
  },
  {
   "cell_type": "code",
   "execution_count": 2,
   "id": "80d0b961",
   "metadata": {
    "slideshow": {
     "slide_type": "fragment"
    }
   },
   "outputs": [
    {
     "data": {
      "text/html": [
       "<div>\n",
       "<style scoped>\n",
       "    .dataframe tbody tr th:only-of-type {\n",
       "        vertical-align: middle;\n",
       "    }\n",
       "\n",
       "    .dataframe tbody tr th {\n",
       "        vertical-align: top;\n",
       "    }\n",
       "\n",
       "    .dataframe thead th {\n",
       "        text-align: right;\n",
       "    }\n",
       "</style>\n",
       "<table border=\"1\" class=\"dataframe\">\n",
       "  <thead>\n",
       "    <tr style=\"text-align: right;\">\n",
       "      <th></th>\n",
       "      <th>culmen_length_mm</th>\n",
       "      <th>culmen_depth_mm</th>\n",
       "      <th>flipper_length_mm</th>\n",
       "      <th>body_mass_g</th>\n",
       "    </tr>\n",
       "    <tr>\n",
       "      <th>species</th>\n",
       "      <th></th>\n",
       "      <th></th>\n",
       "      <th></th>\n",
       "      <th></th>\n",
       "    </tr>\n",
       "  </thead>\n",
       "  <tbody>\n",
       "    <tr>\n",
       "      <th>Adelie</th>\n",
       "      <td>38.791391</td>\n",
       "      <td>18.346358</td>\n",
       "      <td>189.953642</td>\n",
       "      <td>3700.662252</td>\n",
       "    </tr>\n",
       "    <tr>\n",
       "      <th>Chinstrap</th>\n",
       "      <td>48.833824</td>\n",
       "      <td>18.420588</td>\n",
       "      <td>195.823529</td>\n",
       "      <td>3733.088235</td>\n",
       "    </tr>\n",
       "    <tr>\n",
       "      <th>Gentoo</th>\n",
       "      <td>47.504878</td>\n",
       "      <td>14.982114</td>\n",
       "      <td>217.186992</td>\n",
       "      <td>5076.016260</td>\n",
       "    </tr>\n",
       "  </tbody>\n",
       "</table>\n",
       "</div>"
      ],
      "text/plain": [
       "           culmen_length_mm  culmen_depth_mm  flipper_length_mm  body_mass_g\n",
       "species                                                                     \n",
       "Adelie            38.791391        18.346358         189.953642  3700.662252\n",
       "Chinstrap         48.833824        18.420588         195.823529  3733.088235\n",
       "Gentoo            47.504878        14.982114         217.186992  5076.016260"
      ]
     },
     "execution_count": 2,
     "metadata": {},
     "output_type": "execute_result"
    }
   ],
   "source": [
    "# back to penguins\n",
    "penguins = pd.read_csv(\"https://raw.githubusercontent.com/amandakube/Data118LectureImages/main/penguins_size.csv\")\n",
    "penguins.groupby('species').mean(numeric_only = True)"
   ]
  },
  {
   "cell_type": "markdown",
   "id": "3b473914",
   "metadata": {
    "slideshow": {
     "slide_type": "fragment"
    }
   },
   "source": [
    "I want to investigate whether there is a meaningful difference between flipper lengths for different species of penguin.\n",
    "\n",
    "Let's focus on *Gentoo* and *Chinstrap* penguins."
   ]
  },
  {
   "cell_type": "markdown",
   "id": "6b74cfd5",
   "metadata": {
    "slideshow": {
     "slide_type": "fragment"
    }
   },
   "source": [
    "What is my null hypothesis?"
   ]
  },
  {
   "cell_type": "markdown",
   "id": "be79c426",
   "metadata": {
    "slideshow": {
     "slide_type": "fragment"
    }
   },
   "source": [
    "     H0: Gentoo flipper_length == Chinstrap flipper_length"
   ]
  },
  {
   "cell_type": "markdown",
   "id": "30f7a34a",
   "metadata": {
    "slideshow": {
     "slide_type": "fragment"
    }
   },
   "source": [
    "What is my alternative hypothesis? (3 options...)"
   ]
  },
  {
   "cell_type": "markdown",
   "id": "9952fab3",
   "metadata": {
    "slideshow": {
     "slide_type": "fragment"
    }
   },
   "source": [
    "     HA: Gentoo flipper_length != Chinstrap flipper_length\n",
    "     HA: Gentoo flipper_length > Chinstrap flipper_length\n",
    "     HA: Gentoo flipper_length < Chinstrap flipper_length"
   ]
  },
  {
   "cell_type": "markdown",
   "id": "45da2b0c",
   "metadata": {
    "slideshow": {
     "slide_type": "fragment"
    }
   },
   "source": [
    "Which does the data NOT support?"
   ]
  },
  {
   "cell_type": "markdown",
   "id": "989f9a6a",
   "metadata": {
    "slideshow": {
     "slide_type": "fragment"
    }
   },
   "source": [
    "We call this a two-sided test:\n",
    "     \n",
    "     HA: Gentoo flipper_length != Chinstrap flipper_length\n",
    "\n",
    "We call this a one-sided test:\n",
    "     \n",
    "     HA: Gentoo flipper_length > Chinstrap flipper_length"
   ]
  },
  {
   "cell_type": "markdown",
   "id": "86f2778b",
   "metadata": {
    "slideshow": {
     "slide_type": "slide"
    }
   },
   "source": [
    "## Testing hypotheses using data\n",
    "\n",
    "Choosing between two views, called hypotheses, on how data were generated\n",
    "\n",
    "The test selects the hypothesis that is better supported by the data.\n",
    "\n",
    "Ingredients:\n",
    "* A null hypothesis H0\n",
    "* An alternative hypothesis HA\n",
    "* A test statistic \n",
    "* A decision or a measure of significance "
   ]
  },
  {
   "cell_type": "markdown",
   "id": "81073bb8",
   "metadata": {
    "slideshow": {
     "slide_type": "slide"
    }
   },
   "source": [
    "## Here is a topic, what are the null and alternative hypotheses?\n",
    "\n",
    "1) According to Glassdoor (the popular salary information website), the mean data scientist salary in the US is 113,000 dollars."
   ]
  },
  {
   "cell_type": "markdown",
   "id": "aa2d0bfc",
   "metadata": {
    "slideshow": {
     "slide_type": "fragment"
    }
   },
   "source": [
    "2) Say your friend, Paul, told you that he thinks data scientists earn more than 125,000 dollars per year. You doubt him, so you design a test to see who’s right."
   ]
  },
  {
   "cell_type": "markdown",
   "id": "2855b226",
   "metadata": {
    "slideshow": {
     "slide_type": "fragment"
    }
   },
   "source": [
    "3) Not so long ago, people believed that the world was flat. Several scientists, including Copernicus, set out to study this."
   ]
  },
  {
   "cell_type": "markdown",
   "id": "43b0424e",
   "metadata": {
    "slideshow": {
     "slide_type": "fragment"
    }
   },
   "source": [
    "3) Are artists more likely to be left-handed than people found in the general population?"
   ]
  },
  {
   "cell_type": "markdown",
   "id": "f2f63145",
   "metadata": {
    "slideshow": {
     "slide_type": "slide"
    }
   },
   "source": [
    "## Back to our penguins\n",
    "\n",
    "We've got H0 and HA.\n",
    "\n",
    "Now we need a test statistic..."
   ]
  },
  {
   "cell_type": "markdown",
   "id": "140547bf",
   "metadata": {
    "slideshow": {
     "slide_type": "fragment"
    }
   },
   "source": [
    "What would be a useful value to look at to compare these?"
   ]
  },
  {
   "cell_type": "code",
   "execution_count": 3,
   "id": "6a4bfa0f",
   "metadata": {
    "slideshow": {
     "slide_type": "fragment"
    }
   },
   "outputs": [
    {
     "data": {
      "text/html": [
       "<div>\n",
       "<style scoped>\n",
       "    .dataframe tbody tr th:only-of-type {\n",
       "        vertical-align: middle;\n",
       "    }\n",
       "\n",
       "    .dataframe tbody tr th {\n",
       "        vertical-align: top;\n",
       "    }\n",
       "\n",
       "    .dataframe thead th {\n",
       "        text-align: right;\n",
       "    }\n",
       "</style>\n",
       "<table border=\"1\" class=\"dataframe\">\n",
       "  <thead>\n",
       "    <tr style=\"text-align: right;\">\n",
       "      <th></th>\n",
       "      <th>flipper_length_mm</th>\n",
       "    </tr>\n",
       "    <tr>\n",
       "      <th>species</th>\n",
       "      <th></th>\n",
       "    </tr>\n",
       "  </thead>\n",
       "  <tbody>\n",
       "    <tr>\n",
       "      <th>Adelie</th>\n",
       "      <td>189.953642</td>\n",
       "    </tr>\n",
       "    <tr>\n",
       "      <th>Chinstrap</th>\n",
       "      <td>195.823529</td>\n",
       "    </tr>\n",
       "    <tr>\n",
       "      <th>Gentoo</th>\n",
       "      <td>217.186992</td>\n",
       "    </tr>\n",
       "  </tbody>\n",
       "</table>\n",
       "</div>"
      ],
      "text/plain": [
       "           flipper_length_mm\n",
       "species                     \n",
       "Adelie            189.953642\n",
       "Chinstrap         195.823529\n",
       "Gentoo            217.186992"
      ]
     },
     "execution_count": 3,
     "metadata": {},
     "output_type": "execute_result"
    }
   ],
   "source": [
    "flipper_table = penguins.groupby('species').mean(numeric_only = True)[['flipper_length_mm']]\n",
    "flipper_table"
   ]
  },
  {
   "cell_type": "code",
   "execution_count": 4,
   "id": "bf14ed90",
   "metadata": {
    "slideshow": {
     "slide_type": "fragment"
    }
   },
   "outputs": [
    {
     "data": {
      "text/plain": [
       "flipper_length_mm    21.363462\n",
       "dtype: float64"
      ]
     },
     "execution_count": 4,
     "metadata": {},
     "output_type": "execute_result"
    }
   ],
   "source": [
    "flipper_table.iloc[2] - flipper_table.iloc[1] "
   ]
  },
  {
   "cell_type": "markdown",
   "id": "a189eae5",
   "metadata": {
    "slideshow": {
     "slide_type": "fragment"
    }
   },
   "source": [
    "How do we make a decision on if this difference is meaningful?"
   ]
  },
  {
   "cell_type": "markdown",
   "id": "9aad4691",
   "metadata": {
    "slideshow": {
     "slide_type": "slide"
    }
   },
   "source": [
    "## Let's assume the null hypothesis is true..."
   ]
  },
  {
   "cell_type": "markdown",
   "id": "fc958ac1",
   "metadata": {
    "slideshow": {
     "slide_type": "fragment"
    }
   },
   "source": [
    "Then, mixing up the species of the two penguins shouldn't matter... the flipper lengths are not unique to the species"
   ]
  },
  {
   "cell_type": "markdown",
   "id": "8a7ddd60",
   "metadata": {
    "slideshow": {
     "slide_type": "fragment"
    }
   },
   "source": [
    "What does the data look like when we do this?"
   ]
  },
  {
   "cell_type": "code",
   "execution_count": 5,
   "id": "f500a1b6",
   "metadata": {
    "slideshow": {
     "slide_type": "slide"
    }
   },
   "outputs": [
    {
     "data": {
      "image/png": "[encoded data removed]",
      "text/plain": [
       "<Figure size 640x480 with 1 Axes>"
      ]
     },
     "metadata": {},
     "output_type": "display_data"
    }
   ],
   "source": [
    "# This is called a permutation test\n",
    "# You can look more closely at this code on your own, focus on the overall concepts for now\n",
    "penguins_small = penguins.loc[(penguins.species == 'Chinstrap') | (penguins.species == 'Gentoo')]\n",
    "\n",
    "flippers = penguins_small[['flipper_length_mm']]\n",
    "species_labels = penguins_small['species'].values\n",
    "\n",
    "differences = np.array([])\n",
    "\n",
    "for i in np.arange(5000):\n",
    "    shuffled_flippers = flippers.sample(len(flippers),replace = False)['flipper_length_mm'].values\n",
    "    shuffled_df=pd.DataFrame({\"Shuffled Flippers\":shuffled_flippers,\"Label\":species_labels})\n",
    "    smeans_df=shuffled_df.groupby('Label').mean()\n",
    "    new_diff=smeans_df.iloc[1]-smeans_df.iloc[0] \n",
    "    differences = np.append(differences, new_diff)\n",
    "    \n",
    "plt.hist(differences)\n",
    "plt.title(\"Null Difference Between Means\");"
   ]
  },
  {
   "cell_type": "markdown",
   "id": "7c419d19",
   "metadata": {
    "slideshow": {
     "slide_type": "fragment"
    }
   },
   "source": [
    "Does our test statistic look like it comes from this distribution of test statistics created assuming the null hypothesis is true?"
   ]
  },
  {
   "cell_type": "code",
   "execution_count": 6,
   "id": "255492bf",
   "metadata": {
    "slideshow": {
     "slide_type": "slide"
    }
   },
   "outputs": [
    {
     "data": {
      "image/png": "[encoded data removed]",
      "text/plain": [
       "<Figure size 640x480 with 1 Axes>"
      ]
     },
     "metadata": {},
     "output_type": "display_data"
    }
   ],
   "source": [
    "plt.hist(differences)\n",
    "plt.title(\"Null Difference Between Means\")\n",
    "plt.xlim([-6, 22])\n",
    "plt.scatter(flipper_table.iloc[2] - flipper_table.iloc[1] , -30, color='red', s=50);"
   ]
  },
  {
   "cell_type": "markdown",
   "id": "6e098d1f",
   "metadata": {
    "slideshow": {
     "slide_type": "slide"
    }
   },
   "source": [
    "## Definition of p-value\n",
    "\n",
    "A p-value captures the consistency of the data (test statistic) with the null hypothesis (distribution of the statistic under the null)\n",
    "\n",
    "The p-value is the chance:\n",
    "* under the null hypothesis\n",
    "* that the test statistic\n",
    "* is equal to the observed value\n",
    "* or is further in the direction of the alternative.\n",
    "\n",
    "It is important to correctly specify the alternative hypothesis"
   ]
  },
  {
   "cell_type": "markdown",
   "id": "59274480",
   "metadata": {},
   "source": [
    "<img src=\"https://compote.slate.com/images/4bb1d42b-e0d3-4bfa-9b85-103b63977542.jpg?crop=1180%2C842%2Cx0%2Cy0&width=1440\" alt=\"Type1 and Type2 Errors\" width=\"500\">"
   ]
  },
  {
   "cell_type": "markdown",
   "id": "aaba8eb8",
   "metadata": {
    "slideshow": {
     "slide_type": "fragment"
    }
   },
   "source": [
    "None of our null test statistics were >= our test statistic from the data\n",
    "\n",
    "So our p-value is 0!"
   ]
  },
  {
   "cell_type": "markdown",
   "id": "6aa26ae9",
   "metadata": {
    "slideshow": {
     "slide_type": "slide"
    }
   },
   "source": [
    "## Interpretation of p-value\n",
    "\n",
    "P-value is not the probability that H0 is true!\n",
    "* A small p-value (typically ≤0.05 or 0.01) indicates evidence against the null hypothesis (smaller the p-value, stronger the evidence)\n",
    "* A large p-value indicates no evidence (or weak evidence) against the null."
   ]
  },
  {
   "cell_type": "markdown",
   "id": "14c92de3",
   "metadata": {
    "slideshow": {
     "slide_type": "slide"
    }
   },
   "source": [
    "## Now, what about something less straightforward?\n",
    "\n",
    "Compare the body mass of Adelie and Chinstrap penguins.\n",
    "\n",
    "H0: Adelie body mass == body mass\n",
    "\n",
    "HA: Adelie body mass <= Chinstrap body mass"
   ]
  },
  {
   "cell_type": "code",
   "execution_count": 7,
   "id": "ccfb3278",
   "metadata": {
    "slideshow": {
     "slide_type": "slide"
    }
   },
   "outputs": [
    {
     "data": {
      "image/png": "[encoded data removed]",
      "text/plain": [
       "<Figure size 640x480 with 1 Axes>"
      ]
     },
     "metadata": {},
     "output_type": "display_data"
    }
   ],
   "source": [
    "# You can look more closely at this code on your own, focus on the overall concepts for now\n",
    "penguins_small = penguins.loc[(penguins.species == 'Chinstrap') | (penguins.species == 'Adelie')]\n",
    "penguinsmass_df = penguins_small.groupby('species').mean(numeric_only = True)[['body_mass_g']]\n",
    "\n",
    "mass = penguins_small[['body_mass_g']]\n",
    "species_labels = penguins_small['species'].values\n",
    "\n",
    "differences = np.array([])\n",
    "\n",
    "for i in np.arange(5000):\n",
    "    shuffled_mass = mass.sample(len(mass),replace = False)['body_mass_g'].values\n",
    "    shuffled_df=pd.DataFrame({\"Shuffled Mass\":shuffled_mass,\"Label\":species_labels})\n",
    "    smeans_df=shuffled_df.groupby('Label').mean()\n",
    "    new_diff=smeans_df.iloc[1]-smeans_df.iloc[0] \n",
    "    differences = np.append(differences, new_diff)\n",
    "    \n",
    "plt.hist(differences)\n",
    "plt.title(\"Null Difference Between Means\");\n",
    "plt.scatter(penguinsmass_df.iloc[1] - penguinsmass_df.iloc[0] , -30, color='red', s=50);"
   ]
  },
  {
   "cell_type": "markdown",
   "id": "24b49338",
   "metadata": {
    "slideshow": {
     "slide_type": "fragment"
    }
   },
   "source": [
    "Now, does our test statistic look like it comes from this distribution of test statistics created assuming the null hypothesis is true?"
   ]
  },
  {
   "cell_type": "markdown",
   "id": "8a4eacea",
   "metadata": {
    "slideshow": {
     "slide_type": "fragment"
    }
   },
   "source": [
    "What is the p-value?"
   ]
  },
  {
   "cell_type": "code",
   "execution_count": 8,
   "id": "5f66d89c",
   "metadata": {
    "slideshow": {
     "slide_type": "fragment"
    }
   },
   "outputs": [
    {
     "data": {
      "text/plain": [
       "0.31"
      ]
     },
     "execution_count": 8,
     "metadata": {},
     "output_type": "execute_result"
    }
   ],
   "source": [
    "test_stat = float(penguinsmass_df.iloc[1] - penguinsmass_df.iloc[0])\n",
    "p_value = sum(differences >= test_stat)/5000\n",
    "p_value"
   ]
  },
  {
   "cell_type": "markdown",
   "id": "d24165dc",
   "metadata": {
    "slideshow": {
     "slide_type": "slide"
    }
   },
   "source": [
    "## Decisions and Statistical Significance\n",
    "\n",
    "In some studies, a decision needs to be made about which hypothesis to trust:\n",
    "* Select a cut-off value α, called significance level\n",
    "  * If P-value ≤α, we reject H0\n",
    "  * If P-value > α, we do not reject H0\n",
    "\n",
    "Commonly used significance levels: 0.05 and 0.01\n",
    "* A test with P-value < 0.05 is called statistically significant\n",
    "* A test with P-value < 0.01 is called highly significant"
   ]
  },
  {
   "cell_type": "markdown",
   "id": "96a0702c",
   "metadata": {
    "slideshow": {
     "slide_type": "slide"
    }
   },
   "source": [
    "## Decisions: Type 1 and Type 2 Errors\n",
    "\n",
    "In a hypothesis test, we could make a decision about which of H0 or HA might be true, but our decision might be incorrect.\n",
    "\n",
    "<img src=\"https://raw.githubusercontent.com/amandakube/Data118LectureImages/main/Errors.png\" alt=\"Type1 and Type2 Errors\" width=\"500\">\n",
    "\n",
    "\n",
    "* A Type 1 Error is rejecting the H0 when it is true.\n",
    "* A Type 2 Error is failing to reject the H0 when it is false.\n",
    "\n",
    "We (almost) never know if H0 or HA is true, but we need to consider all possibilities.\n",
    "\n",
    "Significance Level = Type 1 Error Rate."
   ]
  },
  {
   "cell_type": "markdown",
   "id": "987b3b25",
   "metadata": {
    "slideshow": {
     "slide_type": "slide"
    }
   },
   "source": [
    "## Consequences of Type 1 and 2 errors\n",
    "\n",
    "Type 1 and type 2 errors are different sorts of mistakes and have different consequences\n",
    "\n",
    "Usually H0 is the status quo (generally believed to be true)\n",
    "\n",
    "Rejecting H0 means something generally accepted is overturned. It might be a scientific breakthrough.\n",
    "\n",
    "A type 1 error introduces a false conclusion and can lead to a tremendous waste of resources before further research invalidates the original finding\n",
    "\n",
    "A type 2 error — failing to recognize a scientific breakthrough — represents a missed opportunity\n",
    "\n",
    "Type 2 errors can be costly as well, but generally go unnoticed\n",
    "\n",
    "Many scientists believe it is more important to control the Type 1 error rate than the Type 2 error rate."
   ]
  },
  {
   "cell_type": "markdown",
   "id": "d1fea3cf",
   "metadata": {
    "slideshow": {
     "slide_type": "slide"
    }
   },
   "source": [
    "### True or False\n",
    "**Q:** If H0 is rejected at 5% level, then we can be certain that H0 is false."
   ]
  },
  {
   "cell_type": "markdown",
   "id": "8aea75cd",
   "metadata": {
    "slideshow": {
     "slide_type": "fragment"
    }
   },
   "source": [
    "**A: False.** Even if H0 is true, 5% of the time the experiment will give a result with a p-value < 5% so that H0 is rejected."
   ]
  },
  {
   "cell_type": "markdown",
   "id": "c5dbebcf",
   "metadata": {
    "slideshow": {
     "slide_type": "fragment"
    }
   },
   "source": [
    "**Q:** If H0 is rejected at 5% level, there is less than a 5% chance for H0 to be true."
   ]
  },
  {
   "cell_type": "markdown",
   "id": "783b3742",
   "metadata": {
    "slideshow": {
     "slide_type": "fragment"
    }
   },
   "source": [
    "**A: False.** A P-value does not give the chance of H0 being true. In fact, the P-value is computed assuming H0 is true."
   ]
  },
  {
   "cell_type": "markdown",
   "id": "b4e444e8",
   "metadata": {
    "slideshow": {
     "slide_type": "slide"
    }
   },
   "source": [
    "*Sir Ronald Fisher* popularized the use of p-values and proposed the level p = 0.05, or a 1 in 20 chance of being exceeded by chance, as a limit for statistical significance (in his 1925 book, Statistical Methods for Research\n",
    "Workers).\n",
    "\n",
    "*Albert Einstein:* \"No amount of experimentation can ever prove me right; a single experiment can prove me wrong\".\n",
    "\n",
    "   With data, we cannot really prove a hypothesis, but we can disprove it.\n",
    "\n",
    "   Therefore we never declare the null hypothesis to be true.\n",
    "\n",
    "Correct statement: \"We do not have evidence to reject the null hypothesis\"."
   ]
  },
  {
   "cell_type": "markdown",
   "id": "83f77546",
   "metadata": {
    "slideshow": {
     "slide_type": "slide"
    }
   },
   "source": [
    "## How to statisticians do this?\n",
    "\n",
    "There are pre-built functions that can do hypothesis testing for us.\n",
    "\n",
    "We can use a **permutation test** when we don't know much about the distribution of our data.\n",
    "\n",
    "But usually a **Student's t-test** is used to compare the difference in means between two groups."
   ]
  },
  {
   "cell_type": "markdown",
   "id": "21b24560",
   "metadata": {
    "slideshow": {
     "slide_type": "slide"
    }
   },
   "source": [
    "## Student's t-test\n",
    "\n",
    "Assumes:\n",
    "- independent and continuous data\n",
    "- normally distributed\n",
    "- randomly sampled\n",
    "- samples have almost equal standard deviation"
   ]
  },
  {
   "cell_type": "markdown",
   "id": "940de9ae",
   "metadata": {
    "slideshow": {
     "slide_type": "slide"
    }
   },
   "source": [
    "## Recall the Central Limit Theorem\n",
    "\n",
    "Approximately normal distribution for large enough data\n",
    "\n",
    "Hence we can use this test for things like mean and proportion as test statistics!"
   ]
  },
  {
   "cell_type": "markdown",
   "id": "bdd8f178",
   "metadata": {
    "slideshow": {
     "slide_type": "slide"
    }
   },
   "source": [
    "## Does our data fit the assumptions?"
   ]
  },
  {
   "cell_type": "code",
   "execution_count": 9,
   "id": "ee53839e",
   "metadata": {
    "slideshow": {
     "slide_type": "fragment"
    }
   },
   "outputs": [
    {
     "data": {
      "image/png": "[encoded data removed]",
      "text/plain": [
       "<Figure size 640x480 with 1 Axes>"
      ]
     },
     "metadata": {},
     "output_type": "display_data"
    }
   ],
   "source": [
    "plt.hist(penguins[penguins[\"species\"] == \"Chinstrap\"][\"flipper_length_mm\"], \n",
    "         label='Chinstrap')\n",
    "plt.hist(penguins[penguins[\"species\"] == \"Gentoo\"][\"flipper_length_mm\"], \n",
    "         label='Gentoo')\n",
    "  \n",
    "plt.legend(loc='upper right')\n",
    "plt.title(\"Overlapping histograms of flipper length for Chinstrap and Adelie penguins\")\n",
    "plt.show()"
   ]
  },
  {
   "cell_type": "markdown",
   "id": "8bd82fb0",
   "metadata": {
    "slideshow": {
     "slide_type": "slide"
    }
   },
   "source": [
    "## Let's run a t-test"
   ]
  },
  {
   "cell_type": "code",
   "execution_count": 10,
   "id": "c6a62b40",
   "metadata": {
    "slideshow": {
     "slide_type": "fragment"
    }
   },
   "outputs": [
    {
     "data": {
      "text/plain": [
       "Ttest_indResult(statistic=-21.032941180531715, pvalue=2.1740700400090866e-51)"
      ]
     },
     "execution_count": 10,
     "metadata": {},
     "output_type": "execute_result"
    }
   ],
   "source": [
    "from scipy import stats\n",
    "\n",
    "sample1 = penguins[penguins[\"species\"] == \"Chinstrap\"][\"flipper_length_mm\"]\n",
    "sample2 = penguins[penguins[\"species\"] == \"Gentoo\"][\"flipper_length_mm\"]\n",
    "\n",
    "stats.ttest_ind(sample1, sample2, nan_policy='omit')"
   ]
  },
  {
   "cell_type": "code",
   "execution_count": 11,
   "id": "12a6a183",
   "metadata": {
    "slideshow": {
     "slide_type": "fragment"
    }
   },
   "outputs": [
    {
     "name": "stdout",
     "output_type": "stream",
     "text": [
      "T-statistic value:  -21.032941180531715\n",
      "P-Value:  2.1740700400090866e-51\n"
     ]
    }
   ],
   "source": [
    "t_stat, p_value = stats.ttest_ind(sample1, sample2, nan_policy='omit')\n",
    "print(\"T-statistic value: \", t_stat)  \n",
    "print(\"P-Value: \", p_value)"
   ]
  },
  {
   "cell_type": "markdown",
   "id": "e963ec1b",
   "metadata": {
    "slideshow": {
     "slide_type": "fragment"
    }
   },
   "source": [
    "Do we come to the same conclusion?"
   ]
  },
  {
   "cell_type": "markdown",
   "id": "7615755b",
   "metadata": {
    "slideshow": {
     "slide_type": "slide"
    }
   },
   "source": [
    "## 3 Types of t-tests\n",
    "\n",
    "One-sample\n",
    "- compare mean of sample against a value\n",
    "- ex. Hypothesis: Gentoo flipper_length is 210mm on average\n",
    "\n",
    "Two-sample\n",
    "- What we just did above\n",
    "- compare means of two independent samples\n",
    "\n",
    "Paired\n",
    "- compare means of two related samples\n",
    "- ie two groups at different points in time\n",
    "- ex. Is your average knowledge about data science different now than it was 3 days ago?"
   ]
  },
  {
   "cell_type": "markdown",
   "id": "4cba956e",
   "metadata": {},
   "source": [
    "## Options and Arguments\n",
    "\n",
    "**One Sided Test**\n",
    "- Alternative hypothesis is directional\n",
    "\n",
    "**Two Sided Test**\n",
    "- Alternative hypothesis is not directional\n",
    "\n",
    "alternative{‘two-sided’, ‘less’, ‘greater’} (default is two-sided)\n",
    "\n",
    "**Welch's Test**\n",
    "- A different version for when standard deviation is not equal\n",
    "\n",
    "equal_var bool, optional (default is True)\n",
    "\n",
    "**Permutation Test**\n",
    "- Does not assume data is normally distributed\n",
    "\n",
    "permutations non-negative int, np.inf, or None (default), optional\n",
    "If 0 or None (default), use the t-distribution to calculate p-values. Otherwise, permutations is the number of random permutations that will be used to estimate p-values using a permutation test."
   ]
  },
  {
   "cell_type": "code",
   "execution_count": 12,
   "id": "b45a2daa",
   "metadata": {
    "slideshow": {
     "slide_type": "slide"
    }
   },
   "outputs": [
    {
     "name": "stdout",
     "output_type": "stream",
     "text": [
      "T-statistic value:  12.291116872799643\n",
      "P-Value:  4.3522920576376815e-23\n"
     ]
    }
   ],
   "source": [
    "# A one-sample test\n",
    "t_stat, p_value = stats.ttest_1samp(sample2, 210, nan_policy='omit')\n",
    "print(\"T-statistic value: \", t_stat)  \n",
    "print(\"P-Value: \", p_value)"
   ]
  },
  {
   "cell_type": "code",
   "execution_count": 13,
   "id": "47b19cee",
   "metadata": {
    "slideshow": {
     "slide_type": "fragment"
    }
   },
   "outputs": [
    {
     "name": "stdout",
     "output_type": "stream",
     "text": [
      "T-statistic value:  -3.8129334558134556\n",
      "P-Value:  0.00660265592724442\n"
     ]
    }
   ],
   "source": [
    "# A paired test\n",
    "monday = [1,2,3,2,3,2,1,1]\n",
    "thursday = [3,3,5,2,4,2,3,2]\n",
    "\n",
    "t_stat, p_value = stats.ttest_rel(monday, thursday)\n",
    "print(\"T-statistic value: \", t_stat)  \n",
    "print(\"P-Value: \", p_value)"
   ]
  },
  {
   "cell_type": "markdown",
   "id": "9b2be29f",
   "metadata": {
    "slideshow": {
     "slide_type": "slide"
    }
   },
   "source": [
    "## This is a lot of information...\n",
    "\n",
    "Takeaways:\n",
    "- Know what a null hypothesis is and how to write null and alternative hypotheses.\n",
    "- Know what a p-value is and how to interpret it.\n",
    "- Know what a t-test is and when to use each type."
   ]
  },
  {
   "cell_type": "markdown",
   "id": "8aa414f2",
   "metadata": {
    "slideshow": {
     "slide_type": "skip"
    }
   },
   "source": [
    "## Annotated code for permutation test"
   ]
  },
  {
   "cell_type": "code",
   "execution_count": null,
   "id": "27bcf88f",
   "metadata": {},
   "outputs": [],
   "source": [
    "# Select only penguins who are Chinstrap or Adelie and save that subset to a new dataframe named penguins_small\n",
    "\n",
    "penguins_small = penguins.loc[(penguins.species == 'Chinstrap') | (penguins.species == 'Adelie')]\n",
    "\n",
    "\n",
    "# Group this new smaller dataset by species and summarize the data by taking the average of the numeric columns.\n",
    "# We are interested in body mass specifically so let's grab that column and \n",
    "# save the resulting dataframe (now with species as an index as penguinsmass_df)\n",
    "\n",
    "penguinsmass_df = penguins_small.groupby('species').mean(numeric_only = True)[['body_mass_g']]\n",
    "\n",
    "\n",
    "# Back to the penguins_small dataframe, select the mass column and save it under the name mass\n",
    "mass = penguins_small[['body_mass_g']]\n",
    "\n",
    "\n",
    "# Select the species for all penguins and save under the name species_labels \n",
    "# (you can also do penguins_small[['species']] like above but I want you to see different ways of doing this)\n",
    "species_labels = penguins_small['species'].values\n",
    "\n",
    "\n",
    "# Create an empty array named differences\n",
    "differences = np.array([])\n",
    "\n",
    "\n",
    "# Iterate through an array of 5000 values (0 to 4999). This will just execute the following code 500 times\n",
    "for i in np.arange(5000):\n",
    "    \n",
    "    \n",
    "    # I am sampling mass values here\n",
    "    # Since I sample as many values are in the mass array, it will essentially shuffle these values\n",
    "    shuffled_mass = mass.sample(len(mass),replace = False)['body_mass_g'].values\n",
    "    \n",
    "    \n",
    "    # Make a new dataframe with the same species labels in the same order as the original dataframe \n",
    "    # but with the shuffled mass values\n",
    "    shuffled_df=pd.DataFrame({\"Shuffled Mass\":shuffled_mass,\"Label\":species_labels})\n",
    "    \n",
    "    \n",
    "    # Group this new dataframe by label and take the mean of the body mass (the only column here)\n",
    "    smeans_df=shuffled_df.groupby('Label').mean()\n",
    "    \n",
    "    \n",
    "    # Look at the difference between average weights for each group\n",
    "    new_diff=smeans_df.iloc[1]-smeans_df.iloc[0] \n",
    "    \n",
    "    \n",
    "    # Append this difference to the end of the differences array\n",
    "    differences = np.append(differences, new_diff)\n",
    "\n",
    "# At this point in the code we have an array of 5000 differences between the weights of chinstrap and adelie penguins \n",
    "# But these are all after shuffling the weights "
   ]
  },
  {
   "cell_type": "code",
   "execution_count": null,
   "id": "8a636aee",
   "metadata": {},
   "outputs": [],
   "source": [
    "\n",
    "# Draw a histogram of these differences\n",
    "plt.hist(differences)\n",
    "plt.title(\"Null Difference Between Means\");\n",
    "\n",
    "# Add a dot to the plot that shows our original test statistic ( the true difference between average weights of \n",
    "# chinstrap and adelie penguins)\n",
    "plt.scatter(penguinsmass_df.iloc[1] - penguinsmass_df.iloc[0] , -30, color='red', s=50);"
   ]
  }
 ],
 "metadata": {
  "celltoolbar": "Slideshow",
  "hide_code_all_hidden": false,
  "kernelspec": {
   "display_name": "Python 3 (ipykernel)",
   "language": "python",
   "name": "python3"
  },
  "language_info": {
   "codemirror_mode": {
    "name": "ipython",
    "version": 3
   },
   "file_extension": ".py",
   "mimetype": "text/x-python",
   "name": "python",
   "nbconvert_exporter": "python",
   "pygments_lexer": "ipython3",
   "version": "3.10.9"
  },
  "latex_envs": {
   "LaTeX_envs_menu_present": true,
   "autoclose": false,
   "autocomplete": true,
   "bibliofile": "biblio.bib",
   "cite_by": "apalike",
   "current_citInitial": 1,
   "eqLabelWithNumbers": true,
   "eqNumInitial": 1,
   "hotkeys": {
    "equation": "Ctrl-E",
    "itemize": "Ctrl-I"
   },
   "labels_anchors": false,
   "latex_user_defs": false,
   "report_style_numbering": false,
   "user_envs_cfg": false
  },
  "rise": {
   "scroll": true
  },
  "toc": {
   "base_numbering": 1,
   "nav_menu": {},
   "number_sections": false,
   "sideBar": true,
   "skip_h1_title": false,
   "title_cell": "Table of Contents",
   "title_sidebar": "Contents",
   "toc_cell": false,
   "toc_position": {
    "height": "calc(100% - 180px)",
    "left": "10px",
    "top": "150px",
    "width": "165px"
   },
   "toc_section_display": true,
   "toc_window_display": false
  }
 },
 "nbformat": 4,
 "nbformat_minor": 5
}
