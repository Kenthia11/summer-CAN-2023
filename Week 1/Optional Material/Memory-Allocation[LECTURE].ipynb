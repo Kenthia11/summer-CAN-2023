{
 "cells": [
  {
   "cell_type": "markdown",
   "id": "c5fcde2c",
   "metadata": {},
   "source": [
    "# Memory Allocation of Objects in Python"
   ]
  },
  {
   "cell_type": "code",
   "execution_count": 63,
   "id": "5d53d1f0",
   "metadata": {},
   "outputs": [],
   "source": [
    "import pandas as pd\n",
    "import numpy as np"
   ]
  },
  {
   "cell_type": "markdown",
   "id": "bbce099c",
   "metadata": {},
   "source": [
    "## Variable Storage and Memory Allocation\n",
    "\n",
    "<img align=\"right\" src=\"https://tinyurl.com/2p8za6a3\" width=\"33%\"/> \n",
    "\n",
    "In Python, almost everything under the hood is an *object*. Variables reference to objects. Methods are chunks of code associated with objects. Even functions are lines of code stored as objects. \n",
    "\n",
    "When we create a variable, an object is created in the *memory*. The variable is <u>assigned</u> to the object created in memory, and we use the variable to be able to *reference* that object. You could think of it as a book on a bookshelf.\n",
    "\n",
    "\n",
    "\n",
    "Using a bookshelf analogy, if we were to create a variable called `a` and equate it to 10, a book is placed into the bookshelf and `a` is assigned to that book. </br>\n",
    "\n",
    "If we create a new variable called `b` and we equate it to `a`, a new book (object) is **not** created. Instead, the variable `b` is simply assigned to the same object as the variable `a`. \n",
    "\n",
    "This means that in memory, `a` <u>is the same as</u> `b`. </br>\n",
    "We can check this by printing the expression `a is b` and a Boolean value `True` will be returned. We can also check the memory address of both `a` and `b` by using the `id()` function, confirming that they are indeed stored as the same object:"
   ]
  },
  {
   "cell_type": "code",
   "execution_count": 68,
   "id": "6b434bfe",
   "metadata": {},
   "outputs": [
    {
     "name": "stdout",
     "output_type": "stream",
     "text": [
      "True\n",
      "140191222262352\n",
      "140191222262352\n",
      "a: 10\n",
      "b: 10\n"
     ]
    }
   ],
   "source": [
    "a = 10\n",
    "b = a\n",
    "\n",
    "print(a is b)\n",
    "print(id(a))\n",
    "print(id(b))\n",
    "print(\"a:\", a)\n",
    "print(\"b:\", b)"
   ]
  },
  {
   "cell_type": "markdown",
   "id": "287f8482",
   "metadata": {},
   "source": [
    "<img align=\"right\" src=\"https://tinyurl.com/yctwrdkw\" width=\"33%\"/>\n",
    "\n",
    "If we were to reassign `a` to a new value, say 20, a new book (object) is created. \n",
    "\n",
    "The variable `a` has now been reassigned to this new object. Meanwhile, `b` is still assigned to the same object as before. \n",
    "\n",
    "When we go to check if `a` and `b` are the same, we see that <u>they are not the same</u> and have two different memory addresses. The value of `a` is now 20, while the value of `b` remains 10.\n"
   ]
  },
  {
   "cell_type": "code",
   "execution_count": 69,
   "id": "d2eb01d9",
   "metadata": {},
   "outputs": [
    {
     "name": "stdout",
     "output_type": "stream",
     "text": [
      "False\n",
      "140191222262672\n",
      "140191222262352\n",
      "a: 20\n",
      "b: 10\n"
     ]
    }
   ],
   "source": [
    "a = 20\n",
    "\n",
    "print(a is b)\n",
    "print(id(a))\n",
    "print(id(b))\n",
    "print(\"a:\", a)\n",
    "print(\"b:\", b)"
   ]
  },
  {
   "cell_type": "markdown",
   "id": "61bbfabb",
   "metadata": {},
   "source": [
    "<img align=\"right\" src=\"https://tinyurl.com/35me9jps\" width=\"33%\"/>\n",
    "\n",
    "This phenomena is known as *object interning*. In Python, this is an efficient way for memory management because every time a new variable is defined, a new object will only be created if it is of unique value. In other words, Python doesn't want to be a hoarder and doesn't make new objects for something it already has. \n",
    "\n",
    "For <u>scalar, immutable objects</u>, this is important to keep in mind because you may be performing a task that is dependent on another variable and if the original variable is updated, things can be thrown off. \n",
    "\n",
    "However, with <u>mutable structural objects</u>, such as lists, this scenario can look a lot different.\n",
    "\n",
    "Say we define a new variable `c` as a list of integers. We then equate another variable `d` to `c`. Like before, if we check if these variables are the same, we will see that this is true."
   ]
  },
  {
   "cell_type": "code",
   "execution_count": 70,
   "id": "f7a983d7",
   "metadata": {},
   "outputs": [
    {
     "data": {
      "text/plain": [
       "True"
      ]
     },
     "execution_count": 70,
     "metadata": {},
     "output_type": "execute_result"
    }
   ],
   "source": [
    "c = [1234, 45, 456, 843]\n",
    "d = c\n",
    "c is d"
   ]
  },
  {
   "cell_type": "markdown",
   "id": "0c4685da",
   "metadata": {},
   "source": [
    "<img align=\"right\" src=\"https://tinyurl.com/2tkn3wut\" width=\"33%\"/> \n",
    "\n",
    "If we were to turn around and append a new value to `c`, this <u>updates</u> the object in the memory. Thus, a new object does not need to be created and `c` is still assigned to the same object. \n",
    "\n",
    "Because `d` is also assigned to the same object, when we call for `d` it will also show the updated object. Thus, `c` and `d` are still equivalent and have the same memory address."
   ]
  },
  {
   "cell_type": "code",
   "execution_count": 71,
   "id": "4ec97c0b",
   "metadata": {},
   "outputs": [
    {
     "name": "stdout",
     "output_type": "stream",
     "text": [
      "True\n",
      "140191277616512\n",
      "140191277616512\n",
      "c: [1234, 45, 456, 843, 12]\n",
      "d: [1234, 45, 456, 843, 12]\n"
     ]
    }
   ],
   "source": [
    "c.append(12)\n",
    "\n",
    "print(c is d)\n",
    "print(id(c))\n",
    "print(id(d))\n",
    "print(\"c:\", c)\n",
    "print(\"d:\", d)"
   ]
  },
  {
   "cell_type": "markdown",
   "id": "e70539bf",
   "metadata": {},
   "source": [
    "<img align=\"right\" src=\"https://tinyurl.com/bp78ttu3\" width=\"33%\"/>\n",
    "\n",
    "Only if we actually <u>change</u> the object that `c` is assigned to will the value of `c` change. \n",
    "\n",
    "If we do this, `c` will be assigned to a new object, but `d` will still be assigned to the same object. \n",
    "\n",
    "If we look to see if `c` and `d` are equivalent, they will no longer be and have different memory addresses."
   ]
  },
  {
   "cell_type": "code",
   "execution_count": 72,
   "id": "64f6e430",
   "metadata": {},
   "outputs": [
    {
     "name": "stdout",
     "output_type": "stream",
     "text": [
      "False\n",
      "140191268143552\n",
      "140191277616512\n",
      "c: [23, 2445, 2984, 5]\n",
      "d: [1234, 45, 456, 843, 12]\n"
     ]
    }
   ],
   "source": [
    "c = [23,2445,2984,5]\n",
    "\n",
    "print(c is d)\n",
    "print(id(c))\n",
    "print(id(d))\n",
    "print(\"c:\", c)\n",
    "print(\"d:\", d)"
   ]
  },
  {
   "cell_type": "markdown",
   "id": "8c7e5bb1",
   "metadata": {},
   "source": [
    "## Copying variables\n",
    "\n",
    "Copying variables can be useful for modifying data structures <u>independent</u> of one another. In Python, we are able to do what are called **shallow copying** and **deep copying**. Shallow copying and deep copying can be done through the `copy()` and `deepcopy()` functions, respectively, which can be imported from the `copy` library.\n",
    "\n",
    "A shallow copy creates a separate object in the memory, making for two distinct objects. We accomplish this by first importing the `copy` library and calling `copy.copy()`:"
   ]
  },
  {
   "cell_type": "code",
   "execution_count": 57,
   "id": "217ecc5c",
   "metadata": {},
   "outputs": [
    {
     "name": "stdout",
     "output_type": "stream",
     "text": [
      "False\n",
      "140191277617216\n",
      "140191277483712\n",
      "e: ['red', True, 3.5]\n",
      "f: ['red', True, 3.5]\n"
     ]
    }
   ],
   "source": [
    "import copy\n",
    "\n",
    "e = ['red', True, 3.5]\n",
    "f = copy.copy(e)\n",
    "\n",
    "print(e is f)\n",
    "print(id(e))\n",
    "print(id(f))\n",
    "print(\"e:\", e)\n",
    "print(\"f:\", f)"
   ]
  },
  {
   "cell_type": "markdown",
   "id": "835d351d",
   "metadata": {},
   "source": [
    "Above, we made a copy of the list assigned to `e` and assigned it to a new variable called `f`.\n",
    "\n",
    "If one item is modified in `e`, the `f` will not be modified:"
   ]
  },
  {
   "cell_type": "code",
   "execution_count": 73,
   "id": "66ac656c",
   "metadata": {},
   "outputs": [
    {
     "name": "stdout",
     "output_type": "stream",
     "text": [
      "e: ['red', True, 3.5, 9, 9]\n",
      "f: ['red', True, 3.5]\n"
     ]
    }
   ],
   "source": [
    "e.append(9)\n",
    "\n",
    "print(\"e:\", e)\n",
    "print(\"f:\", f)"
   ]
  },
  {
   "cell_type": "markdown",
   "id": "e8ea9a98",
   "metadata": {},
   "source": [
    "A shallow copy copies a data structure *one level deep*, meaning numeric values and variables reference the <u>same object</u> in memory. \n",
    "\n",
    "An example demonstrates this below with a list of lists:"
   ]
  },
  {
   "cell_type": "code",
   "execution_count": 79,
   "id": "5f44d1ba",
   "metadata": {},
   "outputs": [
    {
     "name": "stdout",
     "output_type": "stream",
     "text": [
      "[['red', 'blue', 'green'], 5, [True, False]]\n",
      "[['red', 'blue', 'green'], 5, [True, False]]\n",
      "\n",
      "\n",
      "140191277553792\n",
      "140191277552448\n",
      "False\n",
      "\n",
      "\n",
      "140191277576960\n",
      "140191277576960\n",
      "True\n"
     ]
    }
   ],
   "source": [
    "g = [[\"red\", \"blue\", \"green\"], 5, [True, False]]\n",
    "h = copy.copy(g)\n",
    "\n",
    "#View the objects' data\n",
    "print(g)\n",
    "print(h)\n",
    "print('\\n') # new line\n",
    "\n",
    "#View the memory location of g and h\n",
    "print(id(g))\n",
    "print(id(h))\n",
    "print(g is h)\n",
    "print('\\n') # new line\n",
    "\n",
    "#View the memory location of the item at index 0 in g and h\n",
    "print(id(g[0]))\n",
    "print(id(h[0]))\n",
    "print(g[0] is h[0])"
   ]
  },
  {
   "cell_type": "markdown",
   "id": "f5e98c8f",
   "metadata": {},
   "source": [
    "Notice above that `g` and `h` have the <u>same data</u>, but are <u>different objects</u> with unique memory IDs. \n",
    "\n",
    "When we extract the first item from `g` and `h`, notice that those items reference <u>the the same object</u> in memory. \n",
    "\n",
    "Because the first item is a mutable list, if we modify the item in one copy, <u>it will be modified in the other copy</u> as well:"
   ]
  },
  {
   "cell_type": "code",
   "execution_count": 80,
   "id": "2b1ac92e",
   "metadata": {},
   "outputs": [
    {
     "name": "stdout",
     "output_type": "stream",
     "text": [
      "[['red', 'blue', 'green', 'grey'], 5, [True, False]]\n",
      "[['red', 'blue', 'green', 'grey'], 5, [True, False]]\n",
      "\n",
      "\n",
      "140191277553792\n",
      "140191277552448\n",
      "False\n",
      "\n",
      "\n",
      "140191277576960\n",
      "140191277576960\n",
      "True\n",
      "\n",
      "\n"
     ]
    }
   ],
   "source": [
    "g[0].append('grey')\n",
    "\n",
    "#View the object data\n",
    "print(g)\n",
    "print(h)\n",
    "print('\\n')\n",
    "\n",
    "#View the memory location\n",
    "print(id(g))\n",
    "print(id(h))\n",
    "print(g is h)\n",
    "print('\\n')\n",
    "\n",
    "#View the memory location of the item at index 0\n",
    "print(id(g[0]))\n",
    "print(id(h[0]))\n",
    "print(g[0] is h[0])\n",
    "print('\\n')"
   ]
  },
  {
   "cell_type": "markdown",
   "id": "b37d3bc0",
   "metadata": {
    "slideshow": {
     "slide_type": "subslide"
    }
   },
   "source": [
    "Because the second item in `g` and `h` is a <u>scalar value</u>, if we modify it in one copy, it <u>will not</u> be modified in the other:"
   ]
  },
  {
   "cell_type": "code",
   "execution_count": 81,
   "id": "fc9587b7",
   "metadata": {},
   "outputs": [
    {
     "name": "stdout",
     "output_type": "stream",
     "text": [
      "[['red', 'blue', 'green', 'grey'], 8, [True, False]]\n",
      "[['red', 'blue', 'green', 'grey'], 5, [True, False]]\n",
      "\n",
      "\n",
      "140191277553792\n",
      "140191277552448\n",
      "False\n",
      "\n",
      "\n",
      "140191222262288\n",
      "140191222262192\n",
      "False\n",
      "\n",
      "\n"
     ]
    }
   ],
   "source": [
    "g[1] = 8\n",
    "\n",
    "#View the object data\n",
    "print(g)\n",
    "print(h)\n",
    "print('\\n')\n",
    "\n",
    "#View the memory location\n",
    "print(id(g))\n",
    "print(id(h))\n",
    "print(g is h)\n",
    "print('\\n')\n",
    "\n",
    "#View the memory location of the item at index 0\n",
    "print(id(g[1]))\n",
    "print(id(h[1]))\n",
    "print(g[1] is h[1])\n",
    "print('\\n')"
   ]
  },
  {
   "cell_type": "markdown",
   "id": "06f8cd45",
   "metadata": {},
   "source": [
    "If you want to make a separate copy of an object where **all** items are separate and independent of other objects, you can make a deep copy using `copy.deepcopy()`."
   ]
  },
  {
   "cell_type": "code",
   "execution_count": 82,
   "id": "7be5ac02",
   "metadata": {},
   "outputs": [
    {
     "name": "stdout",
     "output_type": "stream",
     "text": [
      "[['red', 'blue', 'green', 'grey'], 8, [True, False]]\n",
      "[['red', 'blue', 'green', 'grey'], 5, [True, False]]\n",
      "\n",
      "\n",
      "140191277554496\n",
      "140191277462976\n",
      "False\n",
      "\n",
      "\n",
      "140191277569152\n",
      "140191277483200\n",
      "False\n",
      "\n",
      "\n"
     ]
    }
   ],
   "source": [
    "i = [[5, 10, 15], 3.14, ['a', 'b']]\n",
    "j = copy.deepcopy(i)\n",
    "\n",
    "#View the object data\n",
    "print(g)\n",
    "print(h)\n",
    "print('\\n')\n",
    "\n",
    "#View the memory location\n",
    "print(id(i))\n",
    "print(id(j))\n",
    "print(i is j)\n",
    "print('\\n')\n",
    "\n",
    "#View the memory location of the item at index 0\n",
    "print(id(i[2]))\n",
    "print(id(j[2]))\n",
    "print(i[2] is j[2])\n",
    "print('\\n')"
   ]
  },
  {
   "cell_type": "markdown",
   "id": "36d124d8",
   "metadata": {},
   "source": [
    "***Note:*** Making a deep copy creates more objects in the memory. While this allows you to duplicate data and modify them separately, it is best to only do this if necessary because you will probably need space in your memory for other data and performing other tasks. Remember, Python doesn't want to be a hoarder.\n",
    "\n",
    "While there are more advanced topics about memory allocation and object interning in Python, these basic considerations will be important for you moving forward. In discussion of functions (built-in or user-defined), memory allocation can be relevant for the variables we define."
   ]
  },
  {
   "cell_type": "code",
   "execution_count": null,
   "id": "d4baa12a",
   "metadata": {},
   "outputs": [],
   "source": []
  }
 ],
 "metadata": {
  "kernelspec": {
   "display_name": "Python 3 (ipykernel)",
   "language": "python",
   "name": "python3"
  },
  "language_info": {
   "codemirror_mode": {
    "name": "ipython",
    "version": 3
   },
   "file_extension": ".py",
   "mimetype": "text/x-python",
   "name": "python",
   "nbconvert_exporter": "python",
   "pygments_lexer": "ipython3",
   "version": "3.9.12"
  }
 },
 "nbformat": 4,
 "nbformat_minor": 5
}
