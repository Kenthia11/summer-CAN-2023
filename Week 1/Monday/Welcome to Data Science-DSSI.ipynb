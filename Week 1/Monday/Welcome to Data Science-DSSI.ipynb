{
 "cells": [
  {
   "cell_type": "markdown",
   "id": "a45e7fde",
   "metadata": {
    "slideshow": {
     "slide_type": "slide"
    },
    "tags": [
     "hide_code"
    ]
   },
   "source": [
    "<center> \n",
    "\n",
    "# Welcome to the CAN Data Science Summer Experience\n",
    "\n",
    "## Amanda R. Kube Jotte\n",
    "    \n",
    "<img src=\"https://raw.githubusercontent.com/amandakube/Data118LectureImages/main/DSSI.png\" width=\"800\">\n",
    "    \n",
    "</center>"
   ]
  },
  {
   "cell_type": "markdown",
   "id": "2b2bff40",
   "metadata": {
    "slideshow": {
     "slide_type": "slide"
    }
   },
   "source": [
    "## About this program\n",
    "\n",
    "### Objectives: \n",
    "* Learn about data science\n",
    "* Learn how to do data science\n",
    "* Participate in a real-world project\n",
    "* Learn where you may want to go from here\n",
    "\n",
    "### Schedule\n",
    "* Weeks 1 and 2: Instruction and Prep\n",
    "* Weeks 3 - 7: Social Impact Projects"
   ]
  },
  {
   "cell_type": "markdown",
   "id": "409dd1cb",
   "metadata": {
    "slideshow": {
     "slide_type": "slide"
    }
   },
   "source": [
    "## First 2 Weeks of Instruction\n",
    "\n",
    "We will be learning together all day for 2 full work-weeks\n",
    "\n",
    "Juneteenth is a holiday!\n",
    "\n",
    "We’ll be using Canvas, JupyterLab, and Gradescope\n",
    "\n",
    "### Week 1:  \n",
    "  * How to code in Python\n",
    "  * Pandas, numpy, scipy, scikitlearn\n",
    "  * Basic probability and statistics\n",
    "  * Overview of machine learning\n",
    "  \n",
    "### Week 2:  \n",
    "  * Spatial Data Science\n"
   ]
  },
  {
   "cell_type": "markdown",
   "id": "52f36e87",
   "metadata": {
    "slideshow": {
     "slide_type": "slide"
    }
   },
   "source": [
    "## Zooming in on Week 1\n",
    "\n",
    "* We will start each morning at 9am!\n",
    "* We will break for lunch (provided) and a research talk\n",
    "* We will end at 5pm\n",
    "* We will have homeworks each night due by 11:30pm\n",
    "* It is a lot of material at a fast pace!\n",
    "* There are 3 instructors for Week 1 (1 instructor for Week 2)\n",
    "* There are 2 TAs helping with instruction AND with projects"
   ]
  },
  {
   "cell_type": "markdown",
   "id": "1b585d0e",
   "metadata": {
    "slideshow": {
     "slide_type": "slide"
    }
   },
   "source": [
    "## Tentative Schedule (subject to change)\n",
    "\n",
    "Monday\n",
    "* Introduction to Jupyter\n",
    "* Python basics\n",
    "* Data structures in Python\n",
    "* Campus Tour\n",
    "* Target Walk\n",
    "\n",
    "Tuesday\n",
    "* DataFrames\n",
    "* Working in Pandas\n",
    "\n",
    "Wednesday\n",
    "* Visualization\n",
    "* User-defined functions\n",
    "* Iteration and Conditionals\n",
    "\n",
    "Thursday\n",
    "* Statistics and sampling\n",
    "* Probability\n",
    "* Hypothesis Testing\n",
    "* Regression\n",
    "\n",
    "Friday\n",
    "* Machine learning\n",
    "* Ethics\n",
    "* Beginning of spatial material"
   ]
  },
  {
   "cell_type": "markdown",
   "id": "1e99f72f",
   "metadata": {
    "slideshow": {
     "slide_type": "slide"
    }
   },
   "source": [
    "## Learning Math and Coding\n",
    "\n",
    "* Learn through practice - participate in activities, do homework\n",
    "* Concepts build on each other - ask questions when you need!"
   ]
  },
  {
   "cell_type": "markdown",
   "id": "bed10bdf",
   "metadata": {
    "slideshow": {
     "slide_type": "fragment"
    }
   },
   "source": [
    "## What does it mean to participate?\n",
    "\n",
    "* Have the notebooks in front of you and ready for each session  \n",
    "* Ask questions often\n",
    "* Work through coding activities\n",
    "* Talk to your partners/groups when asked\n"
   ]
  },
  {
   "cell_type": "markdown",
   "id": "a4386161",
   "metadata": {
    "slideshow": {
     "slide_type": "slide"
    }
   },
   "source": [
    "## So what is Data Science?"
   ]
  },
  {
   "cell_type": "markdown",
   "id": "cb686802",
   "metadata": {
    "slideshow": {
     "slide_type": "slide"
    }
   },
   "source": [
    "<center> \n",
    "\n",
    "<img src=\"https://raw.githubusercontent.com/amandakube/Data118LectureImages/main/DSReviews.png\" alt=\"Data Science Reviews\">\n",
    "    \n",
    "</center>"
   ]
  },
  {
   "cell_type": "markdown",
   "id": "c308241d",
   "metadata": {
    "slideshow": {
     "slide_type": "slide"
    }
   },
   "source": [
    "## Data Science is the study of...\n",
    "\n",
    "* Extracting value from data (Jeannette Wing)\n",
    "* Learning from data (David Donoho)\n",
    "* Holistic data science requires that we understand the context of data, appreciate the responsibilities involved in using private and public data, and clearly communicate what a dataset can and cannot tell us about the world. [...]\n",
    "* Data science is more than the combination of statistics and computer science – it requires training in how to weave statistical and computational techniques into a larger framework, problem by problem, and to address discipline-specific questions. (Blei and Smyth, PNAS Aug 15, 2017)\n"
   ]
  },
  {
   "cell_type": "markdown",
   "id": "85f83c51",
   "metadata": {
    "cell_style": "split",
    "slideshow": {
     "slide_type": "slide"
    }
   },
   "source": [
    "## What is Data Science? - My 2 Cents\n",
    "\n",
    "* Interdisciplinary / Collaboratory  \n",
    "* Extract knowledge from data\n",
    "[noisy, experimental, observational, text, scraping, mining]  \n",
    "* Apply knowledge to domain  \n",
    "\n",
    "Data Science increasingly used to feed AI BUT IS NOT SYNONYMOUS WITH ML/AI!\n",
    "\n"
   ]
  },
  {
   "cell_type": "markdown",
   "id": "1a893ed0",
   "metadata": {
    "cell_style": "split"
   },
   "source": [
    "<center> \n",
    "\n",
    "<img src=\"https://raw.githubusercontent.com/amandakube/Data118LectureImages/main/DSVennDiagram.png\" alt=\"Data Science Venn Diagram\" width=\"500\" height=\"600\">\n",
    "    \n",
    "</center>\n",
    "\n",
    "\n",
    "\n",
    "\n",
    "\n"
   ]
  },
  {
   "cell_type": "markdown",
   "id": "45daa711",
   "metadata": {
    "cell_style": "split",
    "slideshow": {
     "slide_type": "slide"
    }
   },
   "source": [
    "## What is Data Science at UChicago?\n",
    "\n",
    "DSI Mission: “[To] address important scientific and societal questions through coordinated advances in applications, models, algorithms, and platforms”\n",
    "\n"
   ]
  },
  {
   "cell_type": "markdown",
   "id": "0b9ba92c",
   "metadata": {
    "cell_style": "split"
   },
   "source": [
    "<center> \n",
    "\n",
    "<img src=\"https://raw.githubusercontent.com/amandakube/Data118LectureImages/main/UCDS.png\" alt=\"Data Science Image UChicago\" width=\"500\" height=\"600\">\n",
    "    \n",
    "</center>"
   ]
  },
  {
   "cell_type": "markdown",
   "id": "822df85b",
   "metadata": {
    "slideshow": {
     "slide_type": "slide"
    }
   },
   "source": [
    "### Data Science isn't truly new...\n",
    "\n",
    "<center> \n",
    "\n",
    "<img src=\"https://raw.githubusercontent.com/SusannaLange/Data_118_images/main/images/Data_science_role_models.png\" alt=\"Data Science History\" width=\"80%\">\n",
    "    \n",
    "</center>"
   ]
  },
  {
   "cell_type": "markdown",
   "id": "a6bcc4cb",
   "metadata": {
    "slideshow": {
     "slide_type": "slide"
    }
   },
   "source": [
    "### ...we just have more data now\n",
    "\n",
    "<center> \n",
    "\n",
    "<img src=\"https://raw.githubusercontent.com/amandakube/Data118LectureImages/main/BigData.png\" alt=\"Big Data\" width=\"70%\">\n",
    "    \n",
    "</center>"
   ]
  },
  {
   "cell_type": "markdown",
   "id": "99d4a7f4",
   "metadata": {
    "slideshow": {
     "slide_type": "slide"
    }
   },
   "source": [
    "### And Data Scientists are in demand!\n",
    "\n",
    "<center> \n",
    "\n",
    "<img src=\"https://raw.githubusercontent.com/amandakube/Data118LectureImages/main/DSDemand.png\" alt=\"Data Science Demand\" width=\"80%\">\n",
    "    \n",
    "</center>"
   ]
  },
  {
   "cell_type": "markdown",
   "id": "6b03f3d3",
   "metadata": {
    "slideshow": {
     "slide_type": "slide"
    }
   },
   "source": [
    "## You are going to participate in REAL Data Science research that can have REAL impacts!\n",
    "\n",
    "But first, we need to prepare\n",
    "\n",
    "Some of you will know more about some topics than others. That is ok!\n",
    "\n",
    "You will work in groups for your projects - Why is this important?\n",
    "\n",
    "So, it is important to get to know each other!\n",
    "* Name\n",
    "* School\n",
    "* Favorite snack\n",
    "* Most used emoji on your phone"
   ]
  },
  {
   "cell_type": "markdown",
   "id": "787cb33b",
   "metadata": {
    "slideshow": {
     "slide_type": "slide"
    }
   },
   "source": [
    "## Let's play a game\n",
    "\n",
    "Magic wall: \n",
    "* 2 teams separated by a blanket\n",
    "* Blanket drops, first to say the other's name wins\n",
    "* Loser joins winner's team"
   ]
  },
  {
   "cell_type": "code",
   "execution_count": null,
   "id": "3e49b42b",
   "metadata": {},
   "outputs": [],
   "source": []
  }
 ],
 "metadata": {
  "celltoolbar": "Slideshow",
  "kernelspec": {
   "display_name": "Python 3 (ipykernel)",
   "language": "python",
   "name": "python3"
  },
  "language_info": {
   "codemirror_mode": {
    "name": "ipython",
    "version": 3
   },
   "file_extension": ".py",
   "mimetype": "text/x-python",
   "name": "python",
   "nbconvert_exporter": "python",
   "pygments_lexer": "ipython3",
   "version": "3.10.9"
  },
  "latex_envs": {
   "LaTeX_envs_menu_present": true,
   "autoclose": false,
   "autocomplete": true,
   "bibliofile": "biblio.bib",
   "cite_by": "apalike",
   "current_citInitial": 1,
   "eqLabelWithNumbers": true,
   "eqNumInitial": 1,
   "hotkeys": {
    "equation": "Ctrl-E",
    "itemize": "Ctrl-I"
   },
   "labels_anchors": false,
   "latex_user_defs": false,
   "report_style_numbering": false,
   "user_envs_cfg": false
  },
  "toc": {
   "base_numbering": 1,
   "nav_menu": {},
   "number_sections": false,
   "sideBar": false,
   "skip_h1_title": false,
   "title_cell": "Table of Contents",
   "title_sidebar": "Contents",
   "toc_cell": false,
   "toc_position": {
    "height": "calc(100% - 180px)",
    "left": "10px",
    "top": "150px",
    "width": "165px"
   },
   "toc_section_display": false,
   "toc_window_display": false
  },
  "vscode": {
   "interpreter": {
    "hash": "1a1af0ee75eeea9e2e1ee996c87e7a2b11a0bebd85af04bb136d915cefc0abce"
   }
  }
 },
 "nbformat": 4,
 "nbformat_minor": 5
}
