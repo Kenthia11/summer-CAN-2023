{
 "cells": [
  {
   "cell_type": "markdown",
   "metadata": {
    "id": "y8T7s95P0j-w"
   },
   "source": [
    "## Data Science for Social Impact \n",
    "# Homework Monday: Python Basics, Lists, and Arrays\n",
    "\n",
    "Please complete this notebook by filling in the cells provided. The solved homework should be uploaded to Gradescope on Canvas."
   ]
  },
  {
   "cell_type": "markdown",
   "metadata": {
    "id": "PWfyI6Qk0j-0"
   },
   "source": [
    "#### Deadline:\n",
    "\n",
    "This assignment is due on **Monday at 11:30pm**.\n",
    "\n",
    "Directly sharing answers is not okay, but discussing problems with eachother is encouraged!\n"
   ]
  },
  {
   "cell_type": "code",
   "execution_count": 17,
   "metadata": {
    "id": "M-ftgmNO0j-0"
   },
   "outputs": [],
   "source": [
    "# Don't change this cell; just run it. \n",
    "\n",
    "import numpy as np"
   ]
  },
  {
   "cell_type": "markdown",
   "metadata": {
    "id": "hEcfUD9zR8sw"
   },
   "source": [
    "## Data Types"
   ]
  },
  {
   "cell_type": "markdown",
   "metadata": {
    "id": "aYoE2URJR8s3"
   },
   "source": [
    "**Question 1.** When would you make a string using \" \" instead of ' '?"
   ]
  },
  {
   "cell_type": "markdown",
   "metadata": {
    "id": "RGG17eNrJOWD"
   },
   "source": [
    "If you want to create a string and use certain characters that would otherwise be misinterpreted by Python (i.e. use escape sequences as string modifiers). In particular, if you want to use an apostrophe."
   ]
  },
  {
   "cell_type": "markdown",
   "metadata": {
    "id": "ccBuoW2iR8s4"
   },
   "source": [
    "**Question 2.** What data type would you use to represent your bill at a restaurant?"
   ]
  },
  {
   "cell_type": "markdown",
   "metadata": {
    "id": "YcFINJuPR8s4"
   },
   "source": [
    "Float (allows for cents)"
   ]
  },
  {
   "cell_type": "markdown",
   "metadata": {
    "id": "yi1xkUDRR8s4"
   },
   "source": [
    "**Question 3.** What data type would you use to represent whether a number is even or odd?"
   ]
  },
  {
   "cell_type": "markdown",
   "metadata": {
    "id": "z1_j_IVdKjRo"
   },
   "source": [
    "Boolean (True or False)"
   ]
  },
  {
   "cell_type": "markdown",
   "metadata": {
    "id": "ZOZu9GK0K47h"
   },
   "source": [
    "**Question 4.** Use a function to print the data type of the following variable:"
   ]
  },
  {
   "cell_type": "code",
   "execution_count": 1,
   "metadata": {
    "id": "1LU3x-3FLd85"
   },
   "outputs": [],
   "source": [
    "my_variable = '8.3'"
   ]
  },
  {
   "cell_type": "code",
   "execution_count": 2,
   "metadata": {
    "id": "njujSa1ULebH"
   },
   "outputs": [
    {
     "data": {
      "text/plain": [
       "str"
      ]
     },
     "execution_count": 2,
     "metadata": {},
     "output_type": "execute_result"
    }
   ],
   "source": [
    "type(my_variable)"
   ]
  },
  {
   "cell_type": "markdown",
   "metadata": {
    "id": "ZaawyT4tK6jw"
   },
   "source": [
    "**Question 5.** Use a function to convert `my_variable` into a float."
   ]
  },
  {
   "cell_type": "code",
   "execution_count": 4,
   "metadata": {
    "id": "BAcMjsUJLqW5"
   },
   "outputs": [
    {
     "data": {
      "text/plain": [
       "float"
      ]
     },
     "execution_count": 4,
     "metadata": {},
     "output_type": "execute_result"
    }
   ],
   "source": [
    "type(float(my_variable))"
   ]
  },
  {
   "cell_type": "markdown",
   "metadata": {
    "id": "7RNGZTxAJOby"
   },
   "source": [
    "# Strings and Lists\n",
    "\n",
    "Consider the list below:"
   ]
  },
  {
   "cell_type": "code",
   "execution_count": 5,
   "metadata": {
    "id": "b3rzl6z3OUpk"
   },
   "outputs": [],
   "source": [
    "my_words = [\"My\", \"I\", \"This\", 'a', \"She\", 7, \"\"\"am\"\"\", 89, \"is\", 'sentence', 'cup', 'dog', 'cute', 'love', '.', '!' ]"
   ]
  },
  {
   "cell_type": "markdown",
   "metadata": {
    "id": "X69tJBkWJOeq"
   },
   "source": [
    "**Question 6.** Extract and slice from the list my_words to create the sentence: \"This is a sentence.\" You can use list methods or operations."
   ]
  },
  {
   "cell_type": "code",
   "execution_count": 9,
   "metadata": {
    "id": "ZrdeVKT3TSpC"
   },
   "outputs": [
    {
     "name": "stdout",
     "output_type": "stream",
     "text": [
      "This is a sentence.\n"
     ]
    }
   ],
   "source": [
    "print(my_words[2] + \" \" + my_words[8] + \" \" + my_words[3] + \" \" + my_words[9] + my_words[14])"
   ]
  },
  {
   "cell_type": "code",
   "execution_count": 11,
   "metadata": {
    "tags": []
   },
   "outputs": [
    {
     "name": "stdout",
     "output_type": "stream",
     "text": [
      "This is a sentence.\n"
     ]
    }
   ],
   "source": [
    "print(my_words[2], my_words[8], my_words[3], my_words[9] + my_words[14])"
   ]
  },
  {
   "cell_type": "markdown",
   "metadata": {
    "id": "Rcw_Z2oiJOhy"
   },
   "source": [
    "**Question 7.** Create an interesting sentence from my_words"
   ]
  },
  {
   "cell_type": "code",
   "execution_count": 15,
   "metadata": {
    "id": "yxde6tnSTUYG"
   },
   "outputs": [
    {
     "name": "stdout",
     "output_type": "stream",
     "text": [
      "My dog is 7!\n"
     ]
    }
   ],
   "source": [
    "print(my_words[0], my_words[11], my_words[8], str(my_words[5]) + my_words[15])"
   ]
  },
  {
   "cell_type": "markdown",
   "metadata": {
    "id": "4WV5SrSE0j-4"
   },
   "source": [
    "**Question 8.** Use the *replace* function for strings to change the string *'machine learning'* into the string *'learning machine'*. You must do everything into one line of code and you can only replace one full word with a different full word. An example of using *replace* twice in one line of code is below. [Note: the output should be a string of the same length as the one you started with; no extra spaces etc.] "
   ]
  },
  {
   "cell_type": "code",
   "execution_count": null,
   "metadata": {
    "id": "t8Ona1kb0j-5"
   },
   "outputs": [],
   "source": [
    "# this cell illustrates the use of .replace \n",
    "'Today is a good day.'.replace('.','!')"
   ]
  },
  {
   "cell_type": "code",
   "execution_count": null,
   "metadata": {
    "id": "_RpPVVZV0j-5"
   },
   "outputs": [],
   "source": [
    "# this cell illustrates the use of .replace twice\n",
    "'on campus'.replace('on','happy').replace('campus','place')"
   ]
  },
  {
   "cell_type": "code",
   "execution_count": 2,
   "metadata": {
    "id": "yvp1YQGV0j-6"
   },
   "outputs": [
    {
     "data": {
      "text/plain": [
       "'learning machine'"
      ]
     },
     "execution_count": 2,
     "metadata": {},
     "output_type": "execute_result"
    }
   ],
   "source": [
    "#Q8 code here\n",
    "'machine learning'.replace('machine', 'pre').replace('learning', 'machine').replace('pre', 'learning')"
   ]
  },
  {
   "cell_type": "markdown",
   "metadata": {
    "id": "Ab409QTcNt2v"
   },
   "source": [
    "# Puzzles with Arrays"
   ]
  },
  {
   "cell_type": "markdown",
   "metadata": {
    "id": "6Mmlmo2nNvNk"
   },
   "source": [
    "**Question 9.** Replace the ellipses in the following code to get the result 86"
   ]
  },
  {
   "cell_type": "code",
   "execution_count": 28,
   "metadata": {
    "id": "rewJE2BdNwj7"
   },
   "outputs": [
    {
     "data": {
      "text/plain": [
       "86"
      ]
     },
     "execution_count": 28,
     "metadata": {},
     "output_type": "execute_result"
    }
   ],
   "source": [
    "my_array = np.array([1,2,3,4])\n",
    "my_array2 = my_array * 5\n",
    "my_array3 = my_array2 + 9\n",
    "sum(my_array3)"
   ]
  },
  {
   "cell_type": "markdown",
   "metadata": {
    "id": "jQKBkHg2OfiS"
   },
   "source": [
    "**Question 10.** \n",
    "\n",
    "**a.** Create an array containing every 6th number between 7 and 700 inclusive (Hint: please do not type all of these numbers, use a function). \n",
    "\n",
    "**b.** Find the remainder after dividing each number by 7 (Hint: what operator can you use here). \n",
    "\n",
    "**c.** Then, take the average of the resulting numbers."
   ]
  },
  {
   "cell_type": "code",
   "execution_count": 2,
   "metadata": {
    "id": "EPrbV-9iPOH4"
   },
   "outputs": [
    {
     "data": {
      "text/plain": [
       "3.0258620689655173"
      ]
     },
     "execution_count": 2,
     "metadata": {},
     "output_type": "execute_result"
    }
   ],
   "source": [
    "#a\n",
    "array1 = np.arange(7, 701, 6)\n",
    "#b\n",
    "array2 = array1 % 7\n",
    "#c\n",
    "np.mean(array2)"
   ]
  },
  {
   "cell_type": "markdown",
   "metadata": {
    "id": "KZZFB-hnPalO"
   },
   "source": [
    "**Question 11.** "
   ]
  },
  {
   "cell_type": "markdown",
   "metadata": {
    "id": "FLjNZwqIJOUI"
   },
   "source": [
    "**a.** Create an array called `four` that includes all integers from 4 to 120 (inclusive) in intervals of 4\n",
    "\n",
    "**b.** Alter `four` to be a 5x6 array. Print the result.\n",
    "\n",
    "**c.** Write code to select the highlighted numbers:\n",
    "\n",
    "<br>\n",
    "\n",
    "<div>\n",
    "<img src=\"https://raw.githubusercontent.com/campbelle1/Introduction-to-Data-Science/main/Week%202/Array-exercise2.png\"/>\n",
    "</div>"
   ]
  },
  {
   "cell_type": "code",
   "execution_count": 5,
   "metadata": {
    "id": "0N-UT5dyVuPg"
   },
   "outputs": [
    {
     "data": {
      "text/plain": [
       "array([[  4,  12,  20],\n",
       "       [ 52,  60,  68],\n",
       "       [100, 108, 116]])"
      ]
     },
     "execution_count": 5,
     "metadata": {},
     "output_type": "execute_result"
    }
   ],
   "source": [
    "#a\n",
    "four = np.arange(4, 121, 4)\n",
    "#b\n",
    "four_re = np.reshape(four, (5, 6))\n",
    "#c1\n",
    "four_re[::2,::2]"
   ]
  },
  {
   "cell_type": "code",
   "execution_count": 31,
   "metadata": {
    "tags": []
   },
   "outputs": [
    {
     "data": {
      "text/plain": [
       "array([[  8,  16,  24],\n",
       "       [ 32,  40,  48],\n",
       "       [ 56,  64,  72],\n",
       "       [ 80,  88,  96],\n",
       "       [104, 112, 120]])"
      ]
     },
     "execution_count": 31,
     "metadata": {},
     "output_type": "execute_result"
    }
   ],
   "source": [
    "#c2\n",
    "four_re[:, [1, 3, 5]]"
   ]
  },
  {
   "cell_type": "code",
   "execution_count": 32,
   "metadata": {
    "tags": []
   },
   "outputs": [
    {
     "data": {
      "text/plain": [
       "array([[  4,   8,  12,  16,  20,  24],\n",
       "       [ 52,  56,  60,  64,  68,  72],\n",
       "       [100, 104, 108, 112, 116, 120]])"
      ]
     },
     "execution_count": 32,
     "metadata": {},
     "output_type": "execute_result"
    }
   ],
   "source": [
    "#c3\n",
    "four_re[[0, 2, 4],:]"
   ]
  },
  {
   "cell_type": "markdown",
   "metadata": {
    "id": "gNganytSLTAX"
   },
   "source": [
    "**Question 12.** Sally is 5 ft 3in, 120 lbs. Create an expression that uses two variables: one called `height` (which equates to the value of Sally's height in inches) and called `weight` (which equates to the value of Sally's weight, in pounds). Using these variables, to calculate a Sally's BMI. The formula for BMI calculations are as follows:\n",
    "\n",
    "weight (kg) ÷ height^2 (meters) * 703\n",
    "\n",
    "**Correction to weight (lb) + height^2 (inches)*703**\n",
    "\n",
    "Assign this calculation as `bmi`. <u>In one line of code</u>, print a statement that says:\n",
    "\n",
    "\"The BMI of this person is:\n",
    "\n",
    "`bmi`.\""
   ]
  },
  {
   "cell_type": "code",
   "execution_count": 31,
   "metadata": {
    "id": "jsjSW3kQpXVe"
   },
   "outputs": [
    {
     "name": "stdout",
     "output_type": "stream",
     "text": [
      "The BMI of this person is: 21.25472411186697\n"
     ]
    }
   ],
   "source": [
    "height = 63\n",
    "weight = 120\n",
    "bmi = (weight) / (height)**2 * 703\n",
    "print('The BMI of this person is:', bmi)"
   ]
  }
 ],
 "metadata": {
  "colab": {
   "provenance": []
  },
  "kernelspec": {
   "display_name": "Python 3 (ipykernel)",
   "language": "python",
   "name": "python3"
  },
  "language_info": {
   "codemirror_mode": {
    "name": "ipython",
    "version": 3
   },
   "file_extension": ".py",
   "mimetype": "text/x-python",
   "name": "python",
   "nbconvert_exporter": "python",
   "pygments_lexer": "ipython3",
   "version": "3.9.12"
  }
 },
 "nbformat": 4,
 "nbformat_minor": 4
}
