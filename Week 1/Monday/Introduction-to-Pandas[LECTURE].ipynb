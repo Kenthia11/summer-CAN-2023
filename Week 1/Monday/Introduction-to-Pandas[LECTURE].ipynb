{
 "cells": [
  {
   "cell_type": "markdown",
   "id": "da650280",
   "metadata": {
    "slideshow": {
     "slide_type": "slide"
    }
   },
   "source": [
    "# <center>  Introduction to pandas </center>\n",
    "<div>\n",
    "<img src=\"https://pandas.pydata.org/static/img/pandas.svg\" width=\"600\"/>\n",
    "</div>\n",
    "\n",
    "Before, we learned about some useful data structures to store and organize data. These included lists, dictionaries, tuples, and arrays. In this lecture, we will learn about the **pandas** library, some of its features, and new data structures that the library imports.\n",
    "\n",
    "Pandas is a popular Python library utilized by many data scientists. It offers useful additional functionalities in Python that expand one's capability to store, organize, and analyze data. Additional data structures that comes with the pandas library are ***series*** and ***dataframes***. If you have experience in working with spreadsheets in Microsoft Excel, working with pandas series and dataframes will look familar. Essentially, series and dataframes allow for the storage of data in a tabular format. \n",
    "\n",
    "For more information on pandas and documentation on functionalities of the pandas library, refer to the <a href=\"https://pandas.pydata.org/docs/index.html\">official pandas webpage</a>. The <a href=\"https://pandas.pydata.org/docs/reference/index.html\">API reference page</a> is an extensive resource for many pandas functions and methods."
   ]
  },
  {
   "cell_type": "markdown",
   "id": "11c6dc7b",
   "metadata": {
    "slideshow": {
     "slide_type": "notes"
    }
   },
   "source": [
    "# Series\n",
    "\n",
    "A pandas series can be thought of as a 1D array or a single column in a table. \n",
    "\n",
    "To make a series, we first must import the pandas library. It is common convention that Pandas is imported as `pd`. Then, we can make a series by using the `pd.Series()` function and utilize a list or array as the input to the function, as shown below:"
   ]
  },
  {
   "cell_type": "code",
   "execution_count": null,
   "id": "5d8b02c1",
   "metadata": {
    "slideshow": {
     "slide_type": "slide"
    }
   },
   "outputs": [],
   "source": [
    "import pandas as pd\n",
    "\n",
    "groceries = pd.Series(['Doritos', 'Bananas', 'Broccoli', 'Chicken'])\n",
    "\n",
    "groceries"
   ]
  },
  {
   "cell_type": "markdown",
   "id": "7e6cbf22",
   "metadata": {
    "slideshow": {
     "slide_type": "fragment"
    }
   },
   "source": [
    "Calling `groceries` shows us a series of four items that is indexed from 0 to 3 (inclusive). To name the indices, we can pass another list or array into the `.set_axis()` method."
   ]
  },
  {
   "cell_type": "code",
   "execution_count": null,
   "id": "223d1413",
   "metadata": {
    "slideshow": {
     "slide_type": "skip"
    }
   },
   "outputs": [],
   "source": [
    "groceries = groceries.set_axis(['Snack', 'Fruit', 'Vegetable', 'Meat'])\n",
    "\n",
    "groceries"
   ]
  },
  {
   "cell_type": "markdown",
   "id": "f2a5c8c8",
   "metadata": {},
   "source": [
    "When creating a series, the index can also be set. To achieve the same outcome as above, we can use the `index` parameter in the `pd.Series()` function:"
   ]
  },
  {
   "cell_type": "code",
   "execution_count": null,
   "id": "ae1ca0f2",
   "metadata": {},
   "outputs": [],
   "source": [
    "groceries2 = pd.Series(['Doritos', 'Bananas', 'Broccoli', 'Chicken'],\n",
    "         index = ['Snack', 'Fruit', 'Vegetable', 'Meat'])\n",
    "\n",
    "groceries2"
   ]
  },
  {
   "cell_type": "markdown",
   "id": "a0c2fa1d",
   "metadata": {},
   "source": [
    "Series can be indexed by position (numerically) similar to indexing an array. They can also be indexed by value or name. Below we index a single item and a range of items numerically and by name:"
   ]
  },
  {
   "cell_type": "code",
   "execution_count": null,
   "id": "bfbfadc4",
   "metadata": {},
   "outputs": [],
   "source": [
    "print(groceries2[1])\n",
    "print(groceries2[\"Fruit\"])"
   ]
  },
  {
   "cell_type": "code",
   "execution_count": null,
   "id": "3cfac9d9",
   "metadata": {},
   "outputs": [],
   "source": [
    "print(groceries2[\"Fruit\":\"Meat\"])\n",
    "print('\\n')                          # Prints a new line\n",
    "print(groceries2[1:4])"
   ]
  },
  {
   "cell_type": "markdown",
   "id": "a6f1faaf",
   "metadata": {},
   "source": [
    "Notice that when slicing by a defined value or name, the end of the slice will be **included**. When slicing by an index position, the end of the slice will be **excluded**."
   ]
  },
  {
   "cell_type": "markdown",
   "id": "dec5a768",
   "metadata": {},
   "source": [
    "# Dataframes\n",
    "\n",
    "Dataframes are essentially tables that consist of multiple series. Below, we see the multiple ways a dataframe can be made.\n",
    "\n",
    "\n",
    "### Making a dataframe using a dictionary\n",
    "To construct a dataframe using a dictionary, you can use the `pd.Dataframe()` function. Passing a dictionary into this function creates a dataframe along a column-axis; the keys of the dictionary become the column titles, while the values of each key become the rows of each column. The `index` parameter can also be passed into the function as well but must be defined outside of the dictionary as a list:"
   ]
  },
  {
   "cell_type": "code",
   "execution_count": null,
   "id": "9f585ca5",
   "metadata": {},
   "outputs": [],
   "source": [
    "grocery_df1 = pd.DataFrame(\n",
    "    {\"Item\": ['Doritos', 'Bananas', 'Broccoli', 'Chicken'],\n",
    "     \"Unit Price\": [3.99,0.50,2.00, 5.00],\n",
    "     \"Quantity\": [2,5,1,3]},\n",
    "    index = ['Snack', 'Fruit', 'Vegetable', 'Meat']\n",
    ")\n",
    "\n",
    "grocery_df1"
   ]
  },
  {
   "cell_type": "markdown",
   "id": "9afe825d",
   "metadata": {},
   "source": [
    "### Making a dataframe using lists\n",
    "\n",
    "Another way to construct a dataframe is by using lists. While passing lists into the `pd.Dataframe()` function, a dataframe is constructed along a row-axis; each list becomes a single row in the dataframe. Using this method, columns can be named by passing a list into the `columns` parameter:"
   ]
  },
  {
   "cell_type": "code",
   "execution_count": null,
   "id": "e49f9449",
   "metadata": {
    "scrolled": true
   },
   "outputs": [],
   "source": [
    "grocery_df2 = pd.DataFrame(\n",
    "    [['Doritos', 3.99, 2],\n",
    "     ['Bananas', 0.50, 5],\n",
    "     ['Broccoli', 2.00, 1],\n",
    "     ['Chicken', 5.00, 3]],\n",
    "    index = ['Snack', 'Fruit', 'Vegetable', 'Meat'],\n",
    "    columns = [\"Item\",\"Unit Price\",\"Quantity\"]\n",
    "    )\n",
    "\n",
    "grocery_df2"
   ]
  },
  {
   "cell_type": "markdown",
   "id": "55fee512",
   "metadata": {},
   "source": [
    "### Making a dataframe using pandas series\n",
    "\n",
    "Finally, multiple series can be used to construct a dataframe by using the `pd.concat()` function. Using this function, one can pass a list of series and specify the method of concatenation/joining through the `axis` parameter. Concatenation while `axis = 0` means that the series will be joined as additional rows; concatenation while `axis = 1` means that the series will be joined together as columns. The `keys` parameter sets the column titles and should be defined using a list. \n",
    "\n",
    "Once the series have been concatenated into a dataframe, the indexes of the dataframe will start at 0 by default. The `.set_axis()` method can be used on the dataframe to define the index values/titles:"
   ]
  },
  {
   "cell_type": "code",
   "execution_count": null,
   "id": "1b59d1eb",
   "metadata": {},
   "outputs": [],
   "source": [
    "items = pd.Series(['Doritos', 'Bananas', 'Broccoli', 'Chicken'])\n",
    "unit_price = pd.Series([3.99,0.50,2.00, 5.00])\n",
    "quantity = pd.Series([2,5,1,3])\n",
    "indices = pd.Series(['Snack', 'Fruit', 'Vegetable', 'Meat'])\n",
    "\n",
    "grocery_df3 = pd.concat([items, unit_price, quantity], axis = 1, keys = ['Item', 'Unit Price', 'Quantity'])\n",
    "grocery_df3 = grocery_df3.set_axis(indices)\n",
    "\n",
    "grocery_df3"
   ]
  },
  {
   "cell_type": "markdown",
   "id": "4a7fd05a",
   "metadata": {},
   "source": [
    "# Loading data and file paths\n",
    "\n",
    "### Filepaths\n",
    "\n",
    "More often, dataframes are constructed from pre-existing files rather than made from scratch. This will require us to read in data from our local machine or from the Internet.\n",
    "\n",
    "<u>Two types:</u>\n",
    "- *Absolute* filepath - provides directions to files, regardless of your <u>current working directory</u>\n",
    "- *Relative* filepath - provides directions to files in relation to your <u>current working directory</u> (i.e., your current location in your local machine)\n",
    "\n",
    "Filepaths may be represented differently, depending on your operating system. On Windows, directories are distinguished using a *backslash* ( \\\\ ), while in Unix-based systems, such as Mac OS X, forward slashes ( / ) are used. \n",
    "\n",
    "Below is an example of the structure of directories and files on a computer. The current working directory called **<font color=#99180f>Random-Stuff</font>** can be used to navigate to the desired file **<font color=#120e99>lake_temps.csv</font>**. Alternatively, an absolute path can be used to navigate to the same place. The relative and absolute paths for Windows and Unix-based operating systems are provided:\n",
    "\n",
    "<img align=\"center\" src=\"https://raw.githubusercontent.com/campbelle1/CAN2023/4dfaebc11fcfa0c156b58621b73eb8fbed738329/filepaths.png\" width=\"66%\"/> \n",
    "\n",
    "\n",
    "When working in a Jupyter Notebook, the current working directory will be the folder in which the notebook is housed. To know what the filepath of that is, you can import the `os` library and call `os.getcwd()`. The output will give the absolute filepath to the current working directory:"
   ]
  },
  {
   "cell_type": "code",
   "execution_count": null,
   "id": "feeb1a5d",
   "metadata": {
    "scrolled": true
   },
   "outputs": [],
   "source": [
    "import os\n",
    "os.getcwd()"
   ]
  },
  {
   "cell_type": "markdown",
   "id": "c46472d2",
   "metadata": {},
   "source": [
    "To know the files and folders that are in the current working directory, you may want to list its contents. This can be done by using the `os.listdir()` function and passing `'.'` as a string argument. The `.` notation represents the current working directory:"
   ]
  },
  {
   "cell_type": "code",
   "execution_count": null,
   "id": "faea3094",
   "metadata": {},
   "outputs": [],
   "source": [
    "os.listdir('.')"
   ]
  },
  {
   "cell_type": "markdown",
   "id": "e39c2d86",
   "metadata": {},
   "source": [
    "To access files using a relative path, we must first determine where the files are relative to the above current working directory. A visual representation of this hierarchy is shown below:\n",
    "\n",
    "<img align=\"center\" src=\"https://raw.githubusercontent.com/campbelle1/CAN2023/main/Tuesday-Lecture-filepaths.png\" width=\"100%\"/> \n",
    "\n",
    "\n",
    "To navigate <u>one</u> directory up in a filepath in JupyterLab, the notation `../` is used. To get to the data, we next type the name of the desired folder that we wish to navigate to, which is *datasets*. Finally, if we want to read in a specific file, we just need to type the filename, including the file extension. If we wanted to access the *sample_data.csv* file in the *datasets* folder, the relative filepath would be:\n",
    "\n",
    "> ../datasets/sample_data.csv\n",
    "\n",
    "The above path would be used as a string to load in data, as shown below. <u>Alternatively, a string of a url address to an online .csv file could be used as input for `pd.read_csv()` to download data directly off of the Internet.</u>\n",
    "\n",
    "**Note:** In Windows and Unix-based operating systems, you can easily obtain the filepath of a file of interest by right clicking on the file and then clicking *Info* (Mac) or *Properties* (Windows). From there, you can copy and paste your filepath for immediate use (<u>except if you have Windows.</u> You must first change all forward slashes `/` to back slashes `\\`)."
   ]
  },
  {
   "cell_type": "markdown",
   "id": "06c66eef",
   "metadata": {},
   "source": [
    "### Loading Data\n",
    "\n",
    "Python can read several types of files. Below are some useful functions to load data files:\n",
    "\n",
    "- `pd.read_csv(file)` : Loads comma separated values files (.csv files). Requires `pandas` to be imported first.\n",
    "\n",
    "- `pd.read_excel(file)` : Loads Microsoft Excel files (.xlsx files). Requires `pandas` to be imported first.\n",
    "\n",
    "- `open(file, mode)` : Loads text files (.txt files); The `mode` parameter is optional and determines how the file is opened. When `mode` is not specified, the default argument `'r'` is passed, which reads the file.\n",
    "\n",
    "We will use `pd.read_csv()` to read data stored in comma separated values (.csv) files in this lecture. \n",
    "\n",
    "When loading data into Python, we can store the csv file as a dataframe for downstream processing and analysis. Below, we load a file called `sample_data.csv` using `pd.read_csv()` and save it as a dataframe called `plants`:"
   ]
  },
  {
   "cell_type": "code",
   "execution_count": null,
   "id": "8e866b9a",
   "metadata": {},
   "outputs": [],
   "source": [
    "plants = pd.read_csv('../datasets/sample_data.csv')\n",
    "\n",
    "plants"
   ]
  },
  {
   "cell_type": "markdown",
   "id": "4ab82be3",
   "metadata": {},
   "source": [
    "When calling for `plants`, we see a dataframe that contains data on the height of various different house plants sold at a local florist. \n",
    "\n",
    "To set a column as the index of the dataframe, the `.sex_index()` method can be used. The name of the desired column can be passed as a string into the method:\n"
   ]
  },
  {
   "cell_type": "code",
   "execution_count": null,
   "id": "7f5cdf66",
   "metadata": {},
   "outputs": [],
   "source": [
    "plants = plants.set_index('Name')\n",
    "plants"
   ]
  },
  {
   "cell_type": "markdown",
   "id": "500617d3",
   "metadata": {},
   "source": [
    "We can obtain a list of the indices by calling `.index` on the dataframe:"
   ]
  },
  {
   "cell_type": "code",
   "execution_count": null,
   "id": "5121e0cc",
   "metadata": {},
   "outputs": [],
   "source": [
    "plants.index"
   ]
  },
  {
   "cell_type": "markdown",
   "id": "d4f7bcb5",
   "metadata": {},
   "source": [
    "When using the `pd.read_csv()` function to load in data, the `index_col` parameter can also be used to set the index of the dataframe.\n",
    "\n",
    "Another useful parameter is `nrows`, which loads in a specified number of rows. This may be useful when you are only interested in looking at an initial portion of the data.\n",
    "\n",
    "Below we load in the first 3 rows of `sample_data.csv` and designate the `Name` column as the index of our dataframe:"
   ]
  },
  {
   "cell_type": "code",
   "execution_count": null,
   "id": "04bad23b",
   "metadata": {},
   "outputs": [],
   "source": [
    "three_rows = pd.read_csv('../datasets/sample_data.csv', index_col='Name', nrows=3)\n",
    "\n",
    "three_rows"
   ]
  },
  {
   "cell_type": "markdown",
   "id": "2dea752d",
   "metadata": {},
   "source": [
    "By default, Python shows the first 60 rows of a dataframe. If a dataframe exceeds 60 rows, a truncated version is displayed that shows the first and last five rows.\n",
    "\n",
    "When working with larger datasets, the number of rows that are shown can be adjusted when the dataframe is used in the `pd.set_option()` function. This function takes two arguments: the option you want to set and the value to which to set the option. \n",
    "\n",
    "By passing `'display.max_rows'` as the first argument and the number `15` as the second argument, we set the option in our environment to display a truncated version of any dataframe that exceeds 15 rows. A similar approach could be taken with columns by passing `'display.max_columns'` as an argument. This can be useful if you would like to see all the rows and columns of a dataframe or if you want to abbreviate the dataframe after a certain number of rows and columns:"
   ]
  },
  {
   "cell_type": "code",
   "execution_count": null,
   "id": "62b9952f",
   "metadata": {},
   "outputs": [],
   "source": [
    "pd.set_option('display.max_rows', 15)\n",
    "plants"
   ]
  },
  {
   "cell_type": "markdown",
   "id": "c8153b81",
   "metadata": {},
   "source": [
    "# Exploratory methods and functions for dataframes\n",
    "\n",
    "When loading in data as dataframes, especially large datasets, you may want to get a quick overview of the data. \n",
    "\n",
    "Two very useful dataframe methods that can help with this are the `.head()` and `.tail()` methods.  By default, calling `.head()` or `.tail()` on a dataframe will return the first five or the last five rows of the dataframe, respectively. Passing an integer into these methods will give you an output with that number of rows:"
   ]
  },
  {
   "cell_type": "code",
   "execution_count": null,
   "id": "6d0ba066",
   "metadata": {},
   "outputs": [],
   "source": [
    "plants.head(7)"
   ]
  },
  {
   "cell_type": "code",
   "execution_count": null,
   "id": "8c9f6751",
   "metadata": {
    "scrolled": true
   },
   "outputs": [],
   "source": [
    "plants.tail(11)"
   ]
  },
  {
   "cell_type": "markdown",
   "id": "f07f701d",
   "metadata": {},
   "source": [
    "If a negative integer *n* is passed into the `.head()` method, all but the last *n* rows will be shown.\n",
    "\n",
    "Likewise, if a negative integer *h* is passed into the `.tail()` method, all but the top *h* rows will be shown:"
   ]
  },
  {
   "cell_type": "code",
   "execution_count": null,
   "id": "30fb9858",
   "metadata": {},
   "outputs": [],
   "source": [
    "plants.head(-23)"
   ]
  },
  {
   "cell_type": "code",
   "execution_count": null,
   "id": "e05e40d7",
   "metadata": {
    "scrolled": true
   },
   "outputs": [],
   "source": [
    "plants.tail(-11)"
   ]
  },
  {
   "cell_type": "markdown",
   "id": "3f1eebc3",
   "metadata": {},
   "source": [
    "When working with large datasets with many variables, the `.columns`, `.shape`, and `.size` attributes and the `.info()` method can be helpful. \n",
    "\n",
    "The `.columns` attribute returns a list of column names when called on a dataframe:"
   ]
  },
  {
   "cell_type": "code",
   "execution_count": null,
   "id": "b6aca07d",
   "metadata": {},
   "outputs": [],
   "source": [
    "plants.columns"
   ]
  },
  {
   "cell_type": "markdown",
   "id": "ecea9b7c",
   "metadata": {},
   "source": [
    "The `.shape` attribute returns a tuple of the number of rows and columns within the dataframe:"
   ]
  },
  {
   "cell_type": "code",
   "execution_count": null,
   "id": "0e8cdac6",
   "metadata": {
    "scrolled": true
   },
   "outputs": [],
   "source": [
    "plants.shape"
   ]
  },
  {
   "cell_type": "markdown",
   "id": "67458ea8",
   "metadata": {},
   "source": [
    "The `.size` attribute returns the number of total data points within the dataframe (i.e. the number of rows * the number of columns):"
   ]
  },
  {
   "cell_type": "code",
   "execution_count": null,
   "id": "3d4d31ab",
   "metadata": {},
   "outputs": [],
   "source": [
    "plants.size"
   ]
  },
  {
   "cell_type": "markdown",
   "id": "cf6b36df",
   "metadata": {},
   "source": [
    "Lastly, the `.info()` method provides information on the dataframe, including the range of the indexes, the data type of each column, and the memory usage of the dataframe:"
   ]
  },
  {
   "cell_type": "code",
   "execution_count": null,
   "id": "d965d9e5",
   "metadata": {},
   "outputs": [],
   "source": [
    "plants.info()"
   ]
  },
  {
   "cell_type": "markdown",
   "id": "c79cd558",
   "metadata": {},
   "source": [
    "# Activity\n",
    "\n",
    "1. Using the provided sheet of paper, collect data from 10 of your fellow CAN cohort members. Try to collect from people that <u>are not</u> from your same home institution.\n",
    "\n",
    "2. Using this information, create a dataframe using the three different approaches discussed (i.e. via a dictionary, lists, and pandas series).\n",
    "\n",
    "3. Load the affordable housing data from the *Chicago-Housing* folder. Make the `Community Area Name` column the index of the dataframe.\n",
    "\n",
    "4. Explore the dataset. How many entries are there? How many variables are documented for each entry? What are the data types of each variable?"
   ]
  },
  {
   "cell_type": "code",
   "execution_count": null,
   "id": "4af32d67",
   "metadata": {},
   "outputs": [],
   "source": []
  }
 ],
 "metadata": {
  "kernelspec": {
   "display_name": "Python 3 (ipykernel)",
   "language": "python",
   "name": "python3"
  },
  "language_info": {
   "codemirror_mode": {
    "name": "ipython",
    "version": 3
   },
   "file_extension": ".py",
   "mimetype": "text/x-python",
   "name": "python",
   "nbconvert_exporter": "python",
   "pygments_lexer": "ipython3",
   "version": "3.9.12"
  }
 },
 "nbformat": 4,
 "nbformat_minor": 5
}
